{
 "cells": [
  {
   "cell_type": "code",
   "execution_count": 1,
   "metadata": {
    "id": "y9SZGAPqxfpm"
   },
   "outputs": [],
   "source": [
    "# Good coding convention: Move all imports to the top of your notebook/file\n",
    "import pandas as pd\n",
    "import numpy as np # We will also be needing numpy as pandas is tightly integrated with numpy"
   ]
  },
  {
   "cell_type": "markdown",
   "metadata": {
    "id": "v7L5ZsN6koF4"
   },
   "source": [
    "# Pandas and Data Visualization\n",
    "## Pandas\n",
    "### Motivation for pandas\n",
    "Dictionaries allow us to save multiple attributes of a particular object. For example, we can store some information about a lesson:"
   ]
  },
  {
   "cell_type": "code",
   "execution_count": 2,
   "metadata": {
    "id": "cs9Kyi6ml7WL"
   },
   "outputs": [],
   "source": [
    "lesson_5 = {\n",
    "    'topic': 'Numpy',\n",
    "    'teacher': 'Sam',\n",
    "    'week': 5\n",
    "}"
   ]
  },
  {
   "cell_type": "markdown",
   "metadata": {
    "id": "OOTyRHLTnDI_"
   },
   "source": [
    "Often, we collect multiple observations for which we record the same attributes and we'd like to store them together:"
   ]
  },
  {
   "cell_type": "code",
   "execution_count": 3,
   "metadata": {
    "id": "dt3B1lMOmLF5"
   },
   "outputs": [],
   "source": [
    "lesson_3 = {\n",
    "    'topic': 'Basics of Python 2',\n",
    "    'teacher': 'Jasmine',\n",
    "    'week': 3\n",
    "}\n",
    "lesson_1 = {\n",
    "    'topic': 'Setting up Python',\n",
    "    'teacher': 'Jasmine',\n",
    "    'week': 1\n",
    "}"
   ]
  },
  {
   "cell_type": "markdown",
   "metadata": {
    "id": "cxd6NpRqnWWa"
   },
   "source": [
    "We could go about this by storing them in a list:"
   ]
  },
  {
   "cell_type": "code",
   "execution_count": 4,
   "metadata": {
    "id": "Fv8ixGsSnLAY"
   },
   "outputs": [],
   "source": [
    "lst_lessons = [lesson_5, lesson_3, lesson_1]"
   ]
  },
  {
   "cell_type": "code",
   "execution_count": 5,
   "metadata": {
    "colab": {
     "base_uri": "https://localhost:8080/"
    },
    "executionInfo": {
     "elapsed": 186,
     "status": "ok",
     "timestamp": 1665434238956,
     "user": {
      "displayName": "Jasmine Stone",
      "userId": "01448888124801736627"
     },
     "user_tz": 240
    },
    "id": "MmIEhXblnb6g",
    "outputId": "9e679b5b-1464-45b4-a3da-b3d5cc5fdb34"
   },
   "outputs": [
    {
     "data": {
      "text/plain": [
       "[{'topic': 'Numpy', 'teacher': 'Sam', 'week': 5},\n",
       " {'topic': 'Basics of Python 2', 'teacher': 'Jasmine', 'week': 3},\n",
       " {'topic': 'Setting up Python', 'teacher': 'Jasmine', 'week': 1}]"
      ]
     },
     "execution_count": 5,
     "metadata": {},
     "output_type": "execute_result"
    }
   ],
   "source": [
    "lst_lessons"
   ]
  },
  {
   "cell_type": "markdown",
   "metadata": {
    "id": "qKqa4NKjnhdJ"
   },
   "source": [
    "However, such lists are lacking a lot of functionality. For example, we may want to print out only those observations where Jasmine was the teacher. We'd have to use a for loop for this:"
   ]
  },
  {
   "cell_type": "code",
   "execution_count": 6,
   "metadata": {
    "colab": {
     "base_uri": "https://localhost:8080/"
    },
    "executionInfo": {
     "elapsed": 169,
     "status": "ok",
     "timestamp": 1665434246365,
     "user": {
      "displayName": "Jasmine Stone",
      "userId": "01448888124801736627"
     },
     "user_tz": 240
    },
    "id": "JoDsUCM5nCKI",
    "outputId": "76012da4-61af-4c78-c10a-bc2eb4be5e03"
   },
   "outputs": [
    {
     "data": {
      "text/plain": [
       "[{'topic': 'Basics of Python 2', 'teacher': 'Jasmine', 'week': 3},\n",
       " {'topic': 'Setting up Python', 'teacher': 'Jasmine', 'week': 1}]"
      ]
     },
     "execution_count": 6,
     "metadata": {},
     "output_type": "execute_result"
    }
   ],
   "source": [
    "jasmines_lessons = [\n",
    "    lesson for lesson in lst_lessons if lesson['teacher'] == 'Jasmine'\n",
    "]\n",
    "jasmines_lessons"
   ]
  },
  {
   "cell_type": "markdown",
   "metadata": {
    "id": "6Z-YMhbDn5lG"
   },
   "source": [
    "We therefore need a new data structure that can record multiple pieces of information about multiple observations. This is provided by `pandas` (which stands for *panel data*):"
   ]
  },
  {
   "cell_type": "markdown",
   "metadata": {
    "id": "-LzIWTktos51"
   },
   "source": [
    "The core object in pandas is a *data frame*, which consists of observations organized along its rows and different pieces of information about its observations organized along its columns."
   ]
  },
  {
   "cell_type": "code",
   "execution_count": 7,
   "metadata": {
    "colab": {
     "base_uri": "https://localhost:8080/",
     "height": 142
    },
    "executionInfo": {
     "elapsed": 170,
     "status": "ok",
     "timestamp": 1665434395596,
     "user": {
      "displayName": "Jasmine Stone",
      "userId": "01448888124801736627"
     },
     "user_tz": 240
    },
    "id": "hdIiS6CUosHT",
    "outputId": "e95f9248-d53c-4906-cb75-110cf048c134"
   },
   "outputs": [
    {
     "data": {
      "text/html": [
       "<div>\n",
       "<style scoped>\n",
       "    .dataframe tbody tr th:only-of-type {\n",
       "        vertical-align: middle;\n",
       "    }\n",
       "\n",
       "    .dataframe tbody tr th {\n",
       "        vertical-align: top;\n",
       "    }\n",
       "\n",
       "    .dataframe thead th {\n",
       "        text-align: right;\n",
       "    }\n",
       "</style>\n",
       "<table border=\"1\" class=\"dataframe\">\n",
       "  <thead>\n",
       "    <tr style=\"text-align: right;\">\n",
       "      <th></th>\n",
       "      <th>topic</th>\n",
       "      <th>teacher</th>\n",
       "      <th>week</th>\n",
       "    </tr>\n",
       "  </thead>\n",
       "  <tbody>\n",
       "    <tr>\n",
       "      <th>0</th>\n",
       "      <td>Numpy</td>\n",
       "      <td>Sam</td>\n",
       "      <td>5</td>\n",
       "    </tr>\n",
       "    <tr>\n",
       "      <th>1</th>\n",
       "      <td>Basics of Python 2</td>\n",
       "      <td>Jasmine</td>\n",
       "      <td>3</td>\n",
       "    </tr>\n",
       "    <tr>\n",
       "      <th>2</th>\n",
       "      <td>Setting up Python</td>\n",
       "      <td>Jasmine</td>\n",
       "      <td>1</td>\n",
       "    </tr>\n",
       "  </tbody>\n",
       "</table>\n",
       "</div>"
      ],
      "text/plain": [
       "                topic  teacher  week\n",
       "0               Numpy      Sam     5\n",
       "1  Basics of Python 2  Jasmine     3\n",
       "2   Setting up Python  Jasmine     1"
      ]
     },
     "execution_count": 7,
     "metadata": {},
     "output_type": "execute_result"
    }
   ],
   "source": [
    "df_lessons = pd.DataFrame(lst_lessons)\n",
    "df_lessons"
   ]
  },
  {
   "cell_type": "markdown",
   "metadata": {
    "id": "q5xkkN9gzpkl"
   },
   "source": [
    "### Finding out basic information"
   ]
  },
  {
   "cell_type": "code",
   "execution_count": 8,
   "metadata": {
    "colab": {
     "base_uri": "https://localhost:8080/"
    },
    "executionInfo": {
     "elapsed": 161,
     "status": "ok",
     "timestamp": 1665434399246,
     "user": {
      "displayName": "Jasmine Stone",
      "userId": "01448888124801736627"
     },
     "user_tz": 240
    },
    "id": "LhbL0lH-zvGX",
    "outputId": "c2c25d4c-8049-4e13-c6aa-67af45ee4212"
   },
   "outputs": [
    {
     "data": {
      "text/plain": [
       "(3, 3)"
      ]
     },
     "execution_count": 8,
     "metadata": {},
     "output_type": "execute_result"
    }
   ],
   "source": [
    "df_lessons.shape"
   ]
  },
  {
   "cell_type": "code",
   "execution_count": 9,
   "metadata": {
    "colab": {
     "base_uri": "https://localhost:8080/"
    },
    "executionInfo": {
     "elapsed": 162,
     "status": "ok",
     "timestamp": 1665434403543,
     "user": {
      "displayName": "Jasmine Stone",
      "userId": "01448888124801736627"
     },
     "user_tz": 240
    },
    "id": "il7q8Y2bzwxJ",
    "outputId": "c9d93d93-3db6-47e6-b234-5aa223f2dd10"
   },
   "outputs": [
    {
     "data": {
      "text/plain": [
       "Index(['topic', 'teacher', 'week'], dtype='object')"
      ]
     },
     "execution_count": 9,
     "metadata": {},
     "output_type": "execute_result"
    }
   ],
   "source": [
    "df_lessons.columns"
   ]
  },
  {
   "cell_type": "markdown",
   "metadata": {
    "id": "0sxbZwoNz4mK"
   },
   "source": [
    "### Indexing"
   ]
  },
  {
   "cell_type": "markdown",
   "metadata": {
    "id": "IEnYcEe-0Djo"
   },
   "source": [
    "Regular brackets return a specific column or a subset of columns:"
   ]
  },
  {
   "cell_type": "code",
   "execution_count": 10,
   "metadata": {
    "colab": {
     "base_uri": "https://localhost:8080/"
    },
    "executionInfo": {
     "elapsed": 187,
     "status": "ok",
     "timestamp": 1665434860421,
     "user": {
      "displayName": "Jasmine Stone",
      "userId": "01448888124801736627"
     },
     "user_tz": 240
    },
    "id": "8W27Fn6Dz_XS",
    "outputId": "ba98fa20-cb89-4eed-d506-16497dcb64a3"
   },
   "outputs": [
    {
     "data": {
      "text/plain": [
       "0        Sam\n",
       "1    Jasmine\n",
       "2    Jasmine\n",
       "Name: teacher, dtype: object"
      ]
     },
     "execution_count": 10,
     "metadata": {},
     "output_type": "execute_result"
    }
   ],
   "source": [
    "df_lessons['teacher']"
   ]
  },
  {
   "cell_type": "markdown",
   "metadata": {
    "id": "Idorjd83wtHE"
   },
   "source": [
    "(*Note:* The object that is returned is called a `pd.Series` and has a few additional features compared to a one-dimensional numpy array. I personally don't use those additional features and think they are counter-productive, but you can look them up if you have to interact with them.)"
   ]
  },
  {
   "cell_type": "markdown",
   "metadata": {
    "id": "lIUlRsaJxLs8"
   },
   "source": [
    "You can operate on those columns in the same way you would operate on numpy arrays:"
   ]
  },
  {
   "cell_type": "code",
   "execution_count": 11,
   "metadata": {
    "colab": {
     "base_uri": "https://localhost:8080/"
    },
    "executionInfo": {
     "elapsed": 175,
     "status": "ok",
     "timestamp": 1665435008549,
     "user": {
      "displayName": "Jasmine Stone",
      "userId": "01448888124801736627"
     },
     "user_tz": 240
    },
    "id": "P8iDSKxTxQ4K",
    "outputId": "f8825e21-129f-4d22-b9ac-8bce7826b2ed"
   },
   "outputs": [
    {
     "data": {
      "text/plain": [
       "0    False\n",
       "1     True\n",
       "2     True\n",
       "Name: teacher, dtype: bool"
      ]
     },
     "execution_count": 11,
     "metadata": {},
     "output_type": "execute_result"
    }
   ],
   "source": [
    "df_lessons['teacher'] == 'Jasmine'"
   ]
  },
  {
   "cell_type": "code",
   "execution_count": 12,
   "metadata": {
    "colab": {
     "base_uri": "https://localhost:8080/",
     "height": 142
    },
    "executionInfo": {
     "elapsed": 214,
     "status": "ok",
     "timestamp": 1665435009382,
     "user": {
      "displayName": "Jasmine Stone",
      "userId": "01448888124801736627"
     },
     "user_tz": 240
    },
    "id": "IZ_LCUxx0nQC",
    "outputId": "4576ac8d-bda6-4da3-ddae-823b84389fa9"
   },
   "outputs": [
    {
     "data": {
      "text/html": [
       "<div>\n",
       "<style scoped>\n",
       "    .dataframe tbody tr th:only-of-type {\n",
       "        vertical-align: middle;\n",
       "    }\n",
       "\n",
       "    .dataframe tbody tr th {\n",
       "        vertical-align: top;\n",
       "    }\n",
       "\n",
       "    .dataframe thead th {\n",
       "        text-align: right;\n",
       "    }\n",
       "</style>\n",
       "<table border=\"1\" class=\"dataframe\">\n",
       "  <thead>\n",
       "    <tr style=\"text-align: right;\">\n",
       "      <th></th>\n",
       "      <th>topic</th>\n",
       "      <th>teacher</th>\n",
       "    </tr>\n",
       "  </thead>\n",
       "  <tbody>\n",
       "    <tr>\n",
       "      <th>0</th>\n",
       "      <td>Numpy</td>\n",
       "      <td>Sam</td>\n",
       "    </tr>\n",
       "    <tr>\n",
       "      <th>1</th>\n",
       "      <td>Basics of Python 2</td>\n",
       "      <td>Jasmine</td>\n",
       "    </tr>\n",
       "    <tr>\n",
       "      <th>2</th>\n",
       "      <td>Setting up Python</td>\n",
       "      <td>Jasmine</td>\n",
       "    </tr>\n",
       "  </tbody>\n",
       "</table>\n",
       "</div>"
      ],
      "text/plain": [
       "                topic  teacher\n",
       "0               Numpy      Sam\n",
       "1  Basics of Python 2  Jasmine\n",
       "2   Setting up Python  Jasmine"
      ]
     },
     "execution_count": 12,
     "metadata": {},
     "output_type": "execute_result"
    }
   ],
   "source": [
    "df_lessons[['topic', 'teacher']]"
   ]
  },
  {
   "cell_type": "markdown",
   "metadata": {
    "id": "6WFyoPvL0tCt"
   },
   "source": [
    "`.loc` allows you to index data frames by row numbers and column names:"
   ]
  },
  {
   "cell_type": "code",
   "execution_count": 13,
   "metadata": {
    "colab": {
     "base_uri": "https://localhost:8080/",
     "height": 37
    },
    "executionInfo": {
     "elapsed": 186,
     "status": "ok",
     "timestamp": 1665435010726,
     "user": {
      "displayName": "Jasmine Stone",
      "userId": "01448888124801736627"
     },
     "user_tz": 240
    },
    "id": "Ct-2KzWS04Pj",
    "outputId": "82c89670-8cf6-4cb0-a003-a6b2c55e3040"
   },
   "outputs": [
    {
     "data": {
      "text/plain": [
       "'Jasmine'"
      ]
     },
     "execution_count": 13,
     "metadata": {},
     "output_type": "execute_result"
    }
   ],
   "source": [
    "df_lessons.loc[1, 'teacher']"
   ]
  },
  {
   "cell_type": "markdown",
   "metadata": {
    "id": "86bIE7gd08U_"
   },
   "source": [
    "This also works with slicing:"
   ]
  },
  {
   "cell_type": "code",
   "execution_count": 15,
   "metadata": {
    "colab": {
     "base_uri": "https://localhost:8080/"
    },
    "executionInfo": {
     "elapsed": 141,
     "status": "ok",
     "timestamp": 1665435011670,
     "user": {
      "displayName": "Jasmine Stone",
      "userId": "01448888124801736627"
     },
     "user_tz": 240
    },
    "id": "3J9tmqgO0-3S",
    "outputId": "41e1e2bb-d678-4911-c5e3-697e9e0865d4"
   },
   "outputs": [
    {
     "data": {
      "text/plain": [
       "1    Jasmine\n",
       "2    Jasmine\n",
       "Name: teacher, dtype: object"
      ]
     },
     "execution_count": 15,
     "metadata": {},
     "output_type": "execute_result"
    }
   ],
   "source": [
    "df_lessons.loc[1:, 'teacher']"
   ]
  },
  {
   "cell_type": "code",
   "execution_count": 16,
   "metadata": {
    "colab": {
     "base_uri": "https://localhost:8080/",
     "height": 142
    },
    "executionInfo": {
     "elapsed": 120,
     "status": "ok",
     "timestamp": 1665435056184,
     "user": {
      "displayName": "Jasmine Stone",
      "userId": "01448888124801736627"
     },
     "user_tz": 240
    },
    "id": "T-n1TVOO1AYe",
    "outputId": "f2ad5510-ee01-4386-82ea-aecce2b78b73"
   },
   "outputs": [
    {
     "data": {
      "text/html": [
       "<div>\n",
       "<style scoped>\n",
       "    .dataframe tbody tr th:only-of-type {\n",
       "        vertical-align: middle;\n",
       "    }\n",
       "\n",
       "    .dataframe tbody tr th {\n",
       "        vertical-align: top;\n",
       "    }\n",
       "\n",
       "    .dataframe thead th {\n",
       "        text-align: right;\n",
       "    }\n",
       "</style>\n",
       "<table border=\"1\" class=\"dataframe\">\n",
       "  <thead>\n",
       "    <tr style=\"text-align: right;\">\n",
       "      <th></th>\n",
       "      <th>topic</th>\n",
       "      <th>teacher</th>\n",
       "    </tr>\n",
       "  </thead>\n",
       "  <tbody>\n",
       "    <tr>\n",
       "      <th>0</th>\n",
       "      <td>Numpy</td>\n",
       "      <td>Sam</td>\n",
       "    </tr>\n",
       "    <tr>\n",
       "      <th>1</th>\n",
       "      <td>Basics of Python 2</td>\n",
       "      <td>Jasmine</td>\n",
       "    </tr>\n",
       "    <tr>\n",
       "      <th>2</th>\n",
       "      <td>Setting up Python</td>\n",
       "      <td>Jasmine</td>\n",
       "    </tr>\n",
       "  </tbody>\n",
       "</table>\n",
       "</div>"
      ],
      "text/plain": [
       "                topic  teacher\n",
       "0               Numpy      Sam\n",
       "1  Basics of Python 2  Jasmine\n",
       "2   Setting up Python  Jasmine"
      ]
     },
     "execution_count": 16,
     "metadata": {},
     "output_type": "execute_result"
    }
   ],
   "source": [
    "df_lessons.loc[:, ['topic', 'teacher']]"
   ]
  },
  {
   "cell_type": "markdown",
   "metadata": {
    "id": "K5nvwtqU1ETg"
   },
   "source": [
    "`iloc` works in the same way, but allows you to access columns according to their numerical index rather than their name:"
   ]
  },
  {
   "cell_type": "code",
   "execution_count": 17,
   "metadata": {
    "colab": {
     "base_uri": "https://localhost:8080/",
     "height": 37
    },
    "executionInfo": {
     "elapsed": 189,
     "status": "ok",
     "timestamp": 1665435063641,
     "user": {
      "displayName": "Jasmine Stone",
      "userId": "01448888124801736627"
     },
     "user_tz": 240
    },
    "id": "8bvIWEOu1J1y",
    "outputId": "965bc94a-c440-47c1-94e5-bdbecf7a2598"
   },
   "outputs": [
    {
     "data": {
      "text/plain": [
       "'Jasmine'"
      ]
     },
     "execution_count": 17,
     "metadata": {},
     "output_type": "execute_result"
    }
   ],
   "source": [
    "df_lessons.iloc[1, 1]"
   ]
  },
  {
   "cell_type": "markdown",
   "metadata": {
    "id": "KZ27Rdjlvvo6"
   },
   "source": [
    "Finally you can also do boolean indexing with rectangular brackets."
   ]
  },
  {
   "cell_type": "code",
   "execution_count": 18,
   "metadata": {
    "colab": {
     "base_uri": "https://localhost:8080/",
     "height": 111
    },
    "executionInfo": {
     "elapsed": 132,
     "status": "ok",
     "timestamp": 1665435079888,
     "user": {
      "displayName": "Jasmine Stone",
      "userId": "01448888124801736627"
     },
     "user_tz": 240
    },
    "id": "2aMxUODwvu0Y",
    "outputId": "0ef862e1-2442-45b7-c94e-ddca3cca1a71"
   },
   "outputs": [
    {
     "data": {
      "text/html": [
       "<div>\n",
       "<style scoped>\n",
       "    .dataframe tbody tr th:only-of-type {\n",
       "        vertical-align: middle;\n",
       "    }\n",
       "\n",
       "    .dataframe tbody tr th {\n",
       "        vertical-align: top;\n",
       "    }\n",
       "\n",
       "    .dataframe thead th {\n",
       "        text-align: right;\n",
       "    }\n",
       "</style>\n",
       "<table border=\"1\" class=\"dataframe\">\n",
       "  <thead>\n",
       "    <tr style=\"text-align: right;\">\n",
       "      <th></th>\n",
       "      <th>topic</th>\n",
       "      <th>teacher</th>\n",
       "      <th>week</th>\n",
       "    </tr>\n",
       "  </thead>\n",
       "  <tbody>\n",
       "    <tr>\n",
       "      <th>1</th>\n",
       "      <td>Basics of Python 2</td>\n",
       "      <td>Jasmine</td>\n",
       "      <td>3</td>\n",
       "    </tr>\n",
       "    <tr>\n",
       "      <th>2</th>\n",
       "      <td>Setting up Python</td>\n",
       "      <td>Jasmine</td>\n",
       "      <td>1</td>\n",
       "    </tr>\n",
       "  </tbody>\n",
       "</table>\n",
       "</div>"
      ],
      "text/plain": [
       "                topic  teacher  week\n",
       "1  Basics of Python 2  Jasmine     3\n",
       "2   Setting up Python  Jasmine     1"
      ]
     },
     "execution_count": 18,
     "metadata": {},
     "output_type": "execute_result"
    }
   ],
   "source": [
    "selector = df_lessons['teacher'] == 'Jasmine'\n",
    "df_lessons[selector]"
   ]
  },
  {
   "cell_type": "markdown",
   "metadata": {
    "id": "c_nsPaGeyKua"
   },
   "source": [
    "(Note that the single `=` assigns the command to the right of it to the variable on its left. The double `==` on the other hand compares the values in `df_lessons['teacher']` and determines whether they are equal to `'Jasmine'`.)"
   ]
  },
  {
   "cell_type": "code",
   "execution_count": 19,
   "metadata": {
    "colab": {
     "base_uri": "https://localhost:8080/",
     "height": 111
    },
    "executionInfo": {
     "elapsed": 171,
     "status": "ok",
     "timestamp": 1665435086650,
     "user": {
      "displayName": "Jasmine Stone",
      "userId": "01448888124801736627"
     },
     "user_tz": 240
    },
    "id": "9Rz05may2Mig",
    "outputId": "b5c4c034-d5a2-4a7d-de0d-f140ae5718ea"
   },
   "outputs": [
    {
     "data": {
      "text/html": [
       "<div>\n",
       "<style scoped>\n",
       "    .dataframe tbody tr th:only-of-type {\n",
       "        vertical-align: middle;\n",
       "    }\n",
       "\n",
       "    .dataframe tbody tr th {\n",
       "        vertical-align: top;\n",
       "    }\n",
       "\n",
       "    .dataframe thead th {\n",
       "        text-align: right;\n",
       "    }\n",
       "</style>\n",
       "<table border=\"1\" class=\"dataframe\">\n",
       "  <thead>\n",
       "    <tr style=\"text-align: right;\">\n",
       "      <th></th>\n",
       "      <th>topic</th>\n",
       "      <th>teacher</th>\n",
       "      <th>week</th>\n",
       "    </tr>\n",
       "  </thead>\n",
       "  <tbody>\n",
       "    <tr>\n",
       "      <th>1</th>\n",
       "      <td>Basics of Python 2</td>\n",
       "      <td>Jasmine</td>\n",
       "      <td>3</td>\n",
       "    </tr>\n",
       "    <tr>\n",
       "      <th>2</th>\n",
       "      <td>Setting up Python</td>\n",
       "      <td>Jasmine</td>\n",
       "      <td>1</td>\n",
       "    </tr>\n",
       "  </tbody>\n",
       "</table>\n",
       "</div>"
      ],
      "text/plain": [
       "                topic  teacher  week\n",
       "1  Basics of Python 2  Jasmine     3\n",
       "2   Setting up Python  Jasmine     1"
      ]
     },
     "execution_count": 19,
     "metadata": {},
     "output_type": "execute_result"
    }
   ],
   "source": [
    "df_lessons[df_lessons['teacher']=='Jasmine']"
   ]
  },
  {
   "cell_type": "markdown",
   "metadata": {
    "id": "gGOliOQSlq5R"
   },
   "source": [
    "Finally, you can add new columns in the same way you would add a new key, value pair to a dictionary:"
   ]
  },
  {
   "cell_type": "code",
   "execution_count": 20,
   "metadata": {
    "colab": {
     "base_uri": "https://localhost:8080/",
     "height": 142
    },
    "executionInfo": {
     "elapsed": 170,
     "status": "ok",
     "timestamp": 1665435117878,
     "user": {
      "displayName": "Jasmine Stone",
      "userId": "01448888124801736627"
     },
     "user_tz": 240
    },
    "id": "AT0edLi2l6rK",
    "outputId": "d9e5dd46-1244-4748-8064-5f84ff8fc0f2"
   },
   "outputs": [
    {
     "data": {
      "text/html": [
       "<div>\n",
       "<style scoped>\n",
       "    .dataframe tbody tr th:only-of-type {\n",
       "        vertical-align: middle;\n",
       "    }\n",
       "\n",
       "    .dataframe tbody tr th {\n",
       "        vertical-align: top;\n",
       "    }\n",
       "\n",
       "    .dataframe thead th {\n",
       "        text-align: right;\n",
       "    }\n",
       "</style>\n",
       "<table border=\"1\" class=\"dataframe\">\n",
       "  <thead>\n",
       "    <tr style=\"text-align: right;\">\n",
       "      <th></th>\n",
       "      <th>topic</th>\n",
       "      <th>teacher</th>\n",
       "      <th>week</th>\n",
       "    </tr>\n",
       "  </thead>\n",
       "  <tbody>\n",
       "    <tr>\n",
       "      <th>0</th>\n",
       "      <td>Numpy</td>\n",
       "      <td>Sam</td>\n",
       "      <td>5</td>\n",
       "    </tr>\n",
       "    <tr>\n",
       "      <th>1</th>\n",
       "      <td>Basics of Python 2</td>\n",
       "      <td>Jasmine</td>\n",
       "      <td>3</td>\n",
       "    </tr>\n",
       "    <tr>\n",
       "      <th>2</th>\n",
       "      <td>Setting up Python</td>\n",
       "      <td>Jasmine</td>\n",
       "      <td>1</td>\n",
       "    </tr>\n",
       "  </tbody>\n",
       "</table>\n",
       "</div>"
      ],
      "text/plain": [
       "                topic  teacher  week\n",
       "0               Numpy      Sam     5\n",
       "1  Basics of Python 2  Jasmine     3\n",
       "2   Setting up Python  Jasmine     1"
      ]
     },
     "execution_count": 20,
     "metadata": {},
     "output_type": "execute_result"
    }
   ],
   "source": [
    "df_lessons"
   ]
  },
  {
   "cell_type": "code",
   "execution_count": 21,
   "metadata": {
    "id": "sO2Geh7Yl94w"
   },
   "outputs": [],
   "source": [
    "df_lessons['homework'] = [True, False, True]"
   ]
  },
  {
   "cell_type": "code",
   "execution_count": 22,
   "metadata": {
    "colab": {
     "base_uri": "https://localhost:8080/",
     "height": 142
    },
    "executionInfo": {
     "elapsed": 255,
     "status": "ok",
     "timestamp": 1665435123544,
     "user": {
      "displayName": "Jasmine Stone",
      "userId": "01448888124801736627"
     },
     "user_tz": 240
    },
    "id": "2rNXvpmDocwW",
    "outputId": "938fa88f-8d57-430e-e78f-a309097a2246"
   },
   "outputs": [
    {
     "data": {
      "text/html": [
       "<div>\n",
       "<style scoped>\n",
       "    .dataframe tbody tr th:only-of-type {\n",
       "        vertical-align: middle;\n",
       "    }\n",
       "\n",
       "    .dataframe tbody tr th {\n",
       "        vertical-align: top;\n",
       "    }\n",
       "\n",
       "    .dataframe thead th {\n",
       "        text-align: right;\n",
       "    }\n",
       "</style>\n",
       "<table border=\"1\" class=\"dataframe\">\n",
       "  <thead>\n",
       "    <tr style=\"text-align: right;\">\n",
       "      <th></th>\n",
       "      <th>topic</th>\n",
       "      <th>teacher</th>\n",
       "      <th>week</th>\n",
       "      <th>homework</th>\n",
       "    </tr>\n",
       "  </thead>\n",
       "  <tbody>\n",
       "    <tr>\n",
       "      <th>0</th>\n",
       "      <td>Numpy</td>\n",
       "      <td>Sam</td>\n",
       "      <td>5</td>\n",
       "      <td>True</td>\n",
       "    </tr>\n",
       "    <tr>\n",
       "      <th>1</th>\n",
       "      <td>Basics of Python 2</td>\n",
       "      <td>Jasmine</td>\n",
       "      <td>3</td>\n",
       "      <td>False</td>\n",
       "    </tr>\n",
       "    <tr>\n",
       "      <th>2</th>\n",
       "      <td>Setting up Python</td>\n",
       "      <td>Jasmine</td>\n",
       "      <td>1</td>\n",
       "      <td>True</td>\n",
       "    </tr>\n",
       "  </tbody>\n",
       "</table>\n",
       "</div>"
      ],
      "text/plain": [
       "                topic  teacher  week  homework\n",
       "0               Numpy      Sam     5      True\n",
       "1  Basics of Python 2  Jasmine     3     False\n",
       "2   Setting up Python  Jasmine     1      True"
      ]
     },
     "execution_count": 22,
     "metadata": {},
     "output_type": "execute_result"
    }
   ],
   "source": [
    "df_lessons"
   ]
  },
  {
   "cell_type": "markdown",
   "metadata": {
    "id": "KG1uAx-ke2lY"
   },
   "source": [
    "### Exercises\n",
    "1. Create a data frame that additionally includes this week (week 6) with the appropriate topic (pandas) and teacher (Sam).\n",
    "2. Print out the topic for the second row.\n",
    "3. Subset the data frame to only print out the lessons for week 3 and higher.\n",
    "4. Create a new data frame that also includes week 7's lesson with teacher Abhi. However, you don't know the topic yet. How does `pandas` represent this information? (Hint: Create a dictionary that only contains the keys `week` and `teacher`, but not `topic`. Try adding it to the list we used above and turning it into a dataframe.)\n",
    "5. You could have alternately also represented this information as a two-dimensional array with observations structured along rows and variables structured along columns. What would the difference be and why might this be a bad idea in this case? Discuss with the other students at your table."
   ]
  },
  {
   "cell_type": "code",
   "execution_count": 24,
   "metadata": {},
   "outputs": [],
   "source": [
    "lesson_6 = {\n",
    "    'topic': 'pandas',\n",
    "    'teacher': 'Sam',\n",
    "    'week': 6\n",
    "}"
   ]
  },
  {
   "cell_type": "code",
   "execution_count": 25,
   "metadata": {},
   "outputs": [],
   "source": [
    "#lst_lessons.append(lesson_6)\n",
    "#lessons_df2=pd.DataFrame(lst_lessons)\n",
    "#lessons_df2"
   ]
  },
  {
   "cell_type": "code",
   "execution_count": 27,
   "metadata": {},
   "outputs": [
    {
     "data": {
      "text/html": [
       "<div>\n",
       "<style scoped>\n",
       "    .dataframe tbody tr th:only-of-type {\n",
       "        vertical-align: middle;\n",
       "    }\n",
       "\n",
       "    .dataframe tbody tr th {\n",
       "        vertical-align: top;\n",
       "    }\n",
       "\n",
       "    .dataframe thead th {\n",
       "        text-align: right;\n",
       "    }\n",
       "</style>\n",
       "<table border=\"1\" class=\"dataframe\">\n",
       "  <thead>\n",
       "    <tr style=\"text-align: right;\">\n",
       "      <th></th>\n",
       "      <th>topic</th>\n",
       "      <th>teacher</th>\n",
       "      <th>week</th>\n",
       "    </tr>\n",
       "  </thead>\n",
       "  <tbody>\n",
       "    <tr>\n",
       "      <th>0</th>\n",
       "      <td>Numpy</td>\n",
       "      <td>Sam</td>\n",
       "      <td>5</td>\n",
       "    </tr>\n",
       "    <tr>\n",
       "      <th>1</th>\n",
       "      <td>Basics of Python 2</td>\n",
       "      <td>Jasmine</td>\n",
       "      <td>3</td>\n",
       "    </tr>\n",
       "    <tr>\n",
       "      <th>2</th>\n",
       "      <td>Setting up Python</td>\n",
       "      <td>Jasmine</td>\n",
       "      <td>1</td>\n",
       "    </tr>\n",
       "    <tr>\n",
       "      <th>3</th>\n",
       "      <td>pandas</td>\n",
       "      <td>Sam</td>\n",
       "      <td>6</td>\n",
       "    </tr>\n",
       "  </tbody>\n",
       "</table>\n",
       "</div>"
      ],
      "text/plain": [
       "                topic  teacher  week\n",
       "0               Numpy      Sam     5\n",
       "1  Basics of Python 2  Jasmine     3\n",
       "2   Setting up Python  Jasmine     1\n",
       "3              pandas      Sam     6"
      ]
     },
     "execution_count": 27,
     "metadata": {},
     "output_type": "execute_result"
    }
   ],
   "source": [
    "lessons_new_df=pd.DataFrame([lesson_5, lesson_3, lesson_1, lesson_6])\n",
    "lessons_new_df"
   ]
  },
  {
   "cell_type": "code",
   "execution_count": 28,
   "metadata": {},
   "outputs": [
    {
     "data": {
      "text/plain": [
       "'Basics of Python 2'"
      ]
     },
     "execution_count": 28,
     "metadata": {},
     "output_type": "execute_result"
    }
   ],
   "source": [
    "lessons_new_df.loc[1, 'topic']"
   ]
  },
  {
   "cell_type": "code",
   "execution_count": 29,
   "metadata": {},
   "outputs": [
    {
     "data": {
      "text/html": [
       "<div>\n",
       "<style scoped>\n",
       "    .dataframe tbody tr th:only-of-type {\n",
       "        vertical-align: middle;\n",
       "    }\n",
       "\n",
       "    .dataframe tbody tr th {\n",
       "        vertical-align: top;\n",
       "    }\n",
       "\n",
       "    .dataframe thead th {\n",
       "        text-align: right;\n",
       "    }\n",
       "</style>\n",
       "<table border=\"1\" class=\"dataframe\">\n",
       "  <thead>\n",
       "    <tr style=\"text-align: right;\">\n",
       "      <th></th>\n",
       "      <th>topic</th>\n",
       "      <th>teacher</th>\n",
       "      <th>week</th>\n",
       "    </tr>\n",
       "  </thead>\n",
       "  <tbody>\n",
       "    <tr>\n",
       "      <th>0</th>\n",
       "      <td>Numpy</td>\n",
       "      <td>Sam</td>\n",
       "      <td>5</td>\n",
       "    </tr>\n",
       "    <tr>\n",
       "      <th>1</th>\n",
       "      <td>Basics of Python 2</td>\n",
       "      <td>Jasmine</td>\n",
       "      <td>3</td>\n",
       "    </tr>\n",
       "    <tr>\n",
       "      <th>3</th>\n",
       "      <td>pandas</td>\n",
       "      <td>Sam</td>\n",
       "      <td>6</td>\n",
       "    </tr>\n",
       "  </tbody>\n",
       "</table>\n",
       "</div>"
      ],
      "text/plain": [
       "                topic  teacher  week\n",
       "0               Numpy      Sam     5\n",
       "1  Basics of Python 2  Jasmine     3\n",
       "3              pandas      Sam     6"
      ]
     },
     "execution_count": 29,
     "metadata": {},
     "output_type": "execute_result"
    }
   ],
   "source": [
    "lessons_new_df.loc[lessons_new_df['week']>=3]"
   ]
  },
  {
   "cell_type": "code",
   "execution_count": 30,
   "metadata": {},
   "outputs": [],
   "source": [
    "lesson_7 = {\n",
    "    'teacher': 'Abhi',\n",
    "    'week': 7\n",
    "}"
   ]
  },
  {
   "cell_type": "code",
   "execution_count": 31,
   "metadata": {},
   "outputs": [],
   "source": [
    "#lst_lessons_7=lst_lessons.append(lesson_7)\n",
    "#lst_lessons_7"
   ]
  },
  {
   "cell_type": "code",
   "execution_count": 33,
   "metadata": {},
   "outputs": [
    {
     "data": {
      "text/html": [
       "<div>\n",
       "<style scoped>\n",
       "    .dataframe tbody tr th:only-of-type {\n",
       "        vertical-align: middle;\n",
       "    }\n",
       "\n",
       "    .dataframe tbody tr th {\n",
       "        vertical-align: top;\n",
       "    }\n",
       "\n",
       "    .dataframe thead th {\n",
       "        text-align: right;\n",
       "    }\n",
       "</style>\n",
       "<table border=\"1\" class=\"dataframe\">\n",
       "  <thead>\n",
       "    <tr style=\"text-align: right;\">\n",
       "      <th></th>\n",
       "      <th>topic</th>\n",
       "      <th>teacher</th>\n",
       "      <th>week</th>\n",
       "    </tr>\n",
       "  </thead>\n",
       "  <tbody>\n",
       "    <tr>\n",
       "      <th>0</th>\n",
       "      <td>Numpy</td>\n",
       "      <td>Sam</td>\n",
       "      <td>5</td>\n",
       "    </tr>\n",
       "    <tr>\n",
       "      <th>1</th>\n",
       "      <td>Basics of Python 2</td>\n",
       "      <td>Jasmine</td>\n",
       "      <td>3</td>\n",
       "    </tr>\n",
       "    <tr>\n",
       "      <th>2</th>\n",
       "      <td>Setting up Python</td>\n",
       "      <td>Jasmine</td>\n",
       "      <td>1</td>\n",
       "    </tr>\n",
       "    <tr>\n",
       "      <th>3</th>\n",
       "      <td>pandas</td>\n",
       "      <td>Sam</td>\n",
       "      <td>6</td>\n",
       "    </tr>\n",
       "    <tr>\n",
       "      <th>4</th>\n",
       "      <td>NaN</td>\n",
       "      <td>Abhi</td>\n",
       "      <td>7</td>\n",
       "    </tr>\n",
       "  </tbody>\n",
       "</table>\n",
       "</div>"
      ],
      "text/plain": [
       "                topic  teacher  week\n",
       "0               Numpy      Sam     5\n",
       "1  Basics of Python 2  Jasmine     3\n",
       "2   Setting up Python  Jasmine     1\n",
       "3              pandas      Sam     6\n",
       "4                 NaN     Abhi     7"
      ]
     },
     "execution_count": 33,
     "metadata": {},
     "output_type": "execute_result"
    }
   ],
   "source": [
    "lessons_new_df2=pd.DataFrame([lesson_5, lesson_3, lesson_1, lesson_6, lesson_7])\n",
    "lessons_new_df2                 "
   ]
  },
  {
   "cell_type": "code",
   "execution_count": null,
   "metadata": {},
   "outputs": [],
   "source": [
    "#lessons_df=pd.DataFrame(lst_lessons)\n",
    "#lessons_df"
   ]
  },
  {
   "cell_type": "markdown",
   "metadata": {
    "id": "FIXrtq8vp4qQ"
   },
   "source": [
    "### Saving and loading a data frame\n",
    "You can save data frames in different formats. A popular format is csv (comma-separated values), which represents each observation in one row and each variable separated by commas."
   ]
  },
  {
   "cell_type": "code",
   "execution_count": null,
   "metadata": {},
   "outputs": [],
   "source": []
  },
  {
   "cell_type": "code",
   "execution_count": 34,
   "metadata": {
    "id": "6fgJ7mP4nZqx"
   },
   "outputs": [],
   "source": [
    "df_lessons.to_csv('df_lessons.csv')"
   ]
  },
  {
   "cell_type": "markdown",
   "metadata": {
    "id": "QjadNSy6ylkZ"
   },
   "source": [
    "Let's inspect this file."
   ]
  },
  {
   "cell_type": "markdown",
   "metadata": {
    "id": "28F8hhu3rS2-"
   },
   "source": [
    "We'll be using csv files today. Note that they are not always ideal. For example, they do not save the type of your different values which can lead to issues. In my own work, I usually use the feather format, which is less commonplace, however. (Sam said this, I use hdf5s which can make me quite annoyed at times)"
   ]
  },
  {
   "cell_type": "code",
   "execution_count": 35,
   "metadata": {
    "id": "uG3HTXrArnHO"
   },
   "outputs": [],
   "source": [
    "df_lessons_loaded = pd.read_csv('df_lessons.csv')"
   ]
  },
  {
   "cell_type": "code",
   "execution_count": 36,
   "metadata": {
    "colab": {
     "base_uri": "https://localhost:8080/",
     "height": 142
    },
    "executionInfo": {
     "elapsed": 151,
     "status": "ok",
     "timestamp": 1665435302109,
     "user": {
      "displayName": "Jasmine Stone",
      "userId": "01448888124801736627"
     },
     "user_tz": 240
    },
    "id": "UvKYsazDrpvE",
    "outputId": "39f5fedb-ea42-4f30-c110-f97cc94bc8ee"
   },
   "outputs": [
    {
     "data": {
      "text/html": [
       "<div>\n",
       "<style scoped>\n",
       "    .dataframe tbody tr th:only-of-type {\n",
       "        vertical-align: middle;\n",
       "    }\n",
       "\n",
       "    .dataframe tbody tr th {\n",
       "        vertical-align: top;\n",
       "    }\n",
       "\n",
       "    .dataframe thead th {\n",
       "        text-align: right;\n",
       "    }\n",
       "</style>\n",
       "<table border=\"1\" class=\"dataframe\">\n",
       "  <thead>\n",
       "    <tr style=\"text-align: right;\">\n",
       "      <th></th>\n",
       "      <th>Unnamed: 0</th>\n",
       "      <th>topic</th>\n",
       "      <th>teacher</th>\n",
       "      <th>week</th>\n",
       "      <th>homework</th>\n",
       "    </tr>\n",
       "  </thead>\n",
       "  <tbody>\n",
       "    <tr>\n",
       "      <th>0</th>\n",
       "      <td>0</td>\n",
       "      <td>Numpy</td>\n",
       "      <td>Sam</td>\n",
       "      <td>5</td>\n",
       "      <td>True</td>\n",
       "    </tr>\n",
       "    <tr>\n",
       "      <th>1</th>\n",
       "      <td>1</td>\n",
       "      <td>Basics of Python 2</td>\n",
       "      <td>Jasmine</td>\n",
       "      <td>3</td>\n",
       "      <td>False</td>\n",
       "    </tr>\n",
       "    <tr>\n",
       "      <th>2</th>\n",
       "      <td>2</td>\n",
       "      <td>Setting up Python</td>\n",
       "      <td>Jasmine</td>\n",
       "      <td>1</td>\n",
       "      <td>True</td>\n",
       "    </tr>\n",
       "  </tbody>\n",
       "</table>\n",
       "</div>"
      ],
      "text/plain": [
       "   Unnamed: 0               topic  teacher  week  homework\n",
       "0           0               Numpy      Sam     5      True\n",
       "1           1  Basics of Python 2  Jasmine     3     False\n",
       "2           2   Setting up Python  Jasmine     1      True"
      ]
     },
     "execution_count": 36,
     "metadata": {},
     "output_type": "execute_result"
    }
   ],
   "source": [
    "df_lessons_loaded"
   ]
  },
  {
   "cell_type": "markdown",
   "metadata": {
    "id": "TGnd29b_r7LF"
   },
   "source": [
    "### Exercises\n",
    "1. Read in the file `dot_motion.csv` using pandas and assign it to the variable `df_dm`.\n",
    "2. Try exploring the file and describe the data contained in it.\n",
    "3. Subset the data frame to only contain the observations with a reaction time of above 100.\n",
    "4. Create a new variable 'accuracy' that is 1 if the motion and the choice are matching and 0 otherwise.\n",
    "\n",
    "#### Hint for 4:\n",
    "If the motion and choice are matching, their entries should be equal. Create an array `accuracy` that contains as a boolean whether they are or are not matching. You can turn this boolean array (with True and False value) into a float array (which will assign 1 to True and 0 to False), using `accuracy.astype(float)`.\n"
   ]
  },
  {
   "cell_type": "code",
   "execution_count": 38,
   "metadata": {
    "id": "vfavHcYFs9Aj"
   },
   "outputs": [
    {
     "data": {
      "text/html": [
       "<div>\n",
       "<style scoped>\n",
       "    .dataframe tbody tr th:only-of-type {\n",
       "        vertical-align: middle;\n",
       "    }\n",
       "\n",
       "    .dataframe tbody tr th {\n",
       "        vertical-align: top;\n",
       "    }\n",
       "\n",
       "    .dataframe thead th {\n",
       "        text-align: right;\n",
       "    }\n",
       "</style>\n",
       "<table border=\"1\" class=\"dataframe\">\n",
       "  <thead>\n",
       "    <tr style=\"text-align: right;\">\n",
       "      <th></th>\n",
       "      <th>Unnamed: 0</th>\n",
       "      <th>subject</th>\n",
       "      <th>motion</th>\n",
       "      <th>noise_level</th>\n",
       "      <th>choice</th>\n",
       "      <th>reaction_time</th>\n",
       "    </tr>\n",
       "  </thead>\n",
       "  <tbody>\n",
       "    <tr>\n",
       "      <th>0</th>\n",
       "      <td>0</td>\n",
       "      <td>Subject 1</td>\n",
       "      <td>right</td>\n",
       "      <td>high</td>\n",
       "      <td>left</td>\n",
       "      <td>504.360449</td>\n",
       "    </tr>\n",
       "    <tr>\n",
       "      <th>1</th>\n",
       "      <td>1</td>\n",
       "      <td>Subject 1</td>\n",
       "      <td>right</td>\n",
       "      <td>high</td>\n",
       "      <td>right</td>\n",
       "      <td>503.477539</td>\n",
       "    </tr>\n",
       "    <tr>\n",
       "      <th>2</th>\n",
       "      <td>2</td>\n",
       "      <td>Subject 1</td>\n",
       "      <td>right</td>\n",
       "      <td>low</td>\n",
       "      <td>right</td>\n",
       "      <td>531.792948</td>\n",
       "    </tr>\n",
       "    <tr>\n",
       "      <th>3</th>\n",
       "      <td>3</td>\n",
       "      <td>Subject 1</td>\n",
       "      <td>left</td>\n",
       "      <td>high</td>\n",
       "      <td>right</td>\n",
       "      <td>529.713605</td>\n",
       "    </tr>\n",
       "    <tr>\n",
       "      <th>4</th>\n",
       "      <td>4</td>\n",
       "      <td>Subject 1</td>\n",
       "      <td>left</td>\n",
       "      <td>high</td>\n",
       "      <td>left</td>\n",
       "      <td>1065.592634</td>\n",
       "    </tr>\n",
       "  </tbody>\n",
       "</table>\n",
       "</div>"
      ],
      "text/plain": [
       "   Unnamed: 0    subject motion noise_level choice  reaction_time\n",
       "0           0  Subject 1  right        high   left     504.360449\n",
       "1           1  Subject 1  right        high  right     503.477539\n",
       "2           2  Subject 1  right         low  right     531.792948\n",
       "3           3  Subject 1   left        high  right     529.713605\n",
       "4           4  Subject 1   left        high   left    1065.592634"
      ]
     },
     "execution_count": 38,
     "metadata": {},
     "output_type": "execute_result"
    }
   ],
   "source": [
    "df_dm= pd.read_csv('dot_motion.csv')\n",
    "df_dm.head()"
   ]
  },
  {
   "cell_type": "code",
   "execution_count": 40,
   "metadata": {},
   "outputs": [
    {
     "data": {
      "text/plain": [
       "(500, 6)"
      ]
     },
     "execution_count": 40,
     "metadata": {},
     "output_type": "execute_result"
    }
   ],
   "source": [
    "df_dm.shape"
   ]
  },
  {
   "cell_type": "code",
   "execution_count": 39,
   "metadata": {},
   "outputs": [
    {
     "data": {
      "text/html": [
       "<div>\n",
       "<style scoped>\n",
       "    .dataframe tbody tr th:only-of-type {\n",
       "        vertical-align: middle;\n",
       "    }\n",
       "\n",
       "    .dataframe tbody tr th {\n",
       "        vertical-align: top;\n",
       "    }\n",
       "\n",
       "    .dataframe thead th {\n",
       "        text-align: right;\n",
       "    }\n",
       "</style>\n",
       "<table border=\"1\" class=\"dataframe\">\n",
       "  <thead>\n",
       "    <tr style=\"text-align: right;\">\n",
       "      <th></th>\n",
       "      <th>Unnamed: 0</th>\n",
       "      <th>subject</th>\n",
       "      <th>motion</th>\n",
       "      <th>noise_level</th>\n",
       "      <th>choice</th>\n",
       "      <th>reaction_time</th>\n",
       "    </tr>\n",
       "  </thead>\n",
       "  <tbody>\n",
       "    <tr>\n",
       "      <th>0</th>\n",
       "      <td>0</td>\n",
       "      <td>Subject 1</td>\n",
       "      <td>right</td>\n",
       "      <td>high</td>\n",
       "      <td>left</td>\n",
       "      <td>504.360449</td>\n",
       "    </tr>\n",
       "    <tr>\n",
       "      <th>1</th>\n",
       "      <td>1</td>\n",
       "      <td>Subject 1</td>\n",
       "      <td>right</td>\n",
       "      <td>high</td>\n",
       "      <td>right</td>\n",
       "      <td>503.477539</td>\n",
       "    </tr>\n",
       "    <tr>\n",
       "      <th>2</th>\n",
       "      <td>2</td>\n",
       "      <td>Subject 1</td>\n",
       "      <td>right</td>\n",
       "      <td>low</td>\n",
       "      <td>right</td>\n",
       "      <td>531.792948</td>\n",
       "    </tr>\n",
       "    <tr>\n",
       "      <th>3</th>\n",
       "      <td>3</td>\n",
       "      <td>Subject 1</td>\n",
       "      <td>left</td>\n",
       "      <td>high</td>\n",
       "      <td>right</td>\n",
       "      <td>529.713605</td>\n",
       "    </tr>\n",
       "    <tr>\n",
       "      <th>4</th>\n",
       "      <td>4</td>\n",
       "      <td>Subject 1</td>\n",
       "      <td>left</td>\n",
       "      <td>high</td>\n",
       "      <td>left</td>\n",
       "      <td>1065.592634</td>\n",
       "    </tr>\n",
       "    <tr>\n",
       "      <th>...</th>\n",
       "      <td>...</td>\n",
       "      <td>...</td>\n",
       "      <td>...</td>\n",
       "      <td>...</td>\n",
       "      <td>...</td>\n",
       "      <td>...</td>\n",
       "    </tr>\n",
       "    <tr>\n",
       "      <th>495</th>\n",
       "      <td>495</td>\n",
       "      <td>Subject 2</td>\n",
       "      <td>right</td>\n",
       "      <td>high</td>\n",
       "      <td>right</td>\n",
       "      <td>682.588538</td>\n",
       "    </tr>\n",
       "    <tr>\n",
       "      <th>496</th>\n",
       "      <td>496</td>\n",
       "      <td>Subject 2</td>\n",
       "      <td>left</td>\n",
       "      <td>low</td>\n",
       "      <td>left</td>\n",
       "      <td>608.847204</td>\n",
       "    </tr>\n",
       "    <tr>\n",
       "      <th>497</th>\n",
       "      <td>497</td>\n",
       "      <td>Subject 2</td>\n",
       "      <td>right</td>\n",
       "      <td>low</td>\n",
       "      <td>right</td>\n",
       "      <td>529.400439</td>\n",
       "    </tr>\n",
       "    <tr>\n",
       "      <th>498</th>\n",
       "      <td>498</td>\n",
       "      <td>Subject 2</td>\n",
       "      <td>left</td>\n",
       "      <td>low</td>\n",
       "      <td>left</td>\n",
       "      <td>600.240023</td>\n",
       "    </tr>\n",
       "    <tr>\n",
       "      <th>499</th>\n",
       "      <td>499</td>\n",
       "      <td>Subject 2</td>\n",
       "      <td>right</td>\n",
       "      <td>high</td>\n",
       "      <td>right</td>\n",
       "      <td>537.797189</td>\n",
       "    </tr>\n",
       "  </tbody>\n",
       "</table>\n",
       "<p>500 rows × 6 columns</p>\n",
       "</div>"
      ],
      "text/plain": [
       "     Unnamed: 0    subject motion noise_level choice  reaction_time\n",
       "0             0  Subject 1  right        high   left     504.360449\n",
       "1             1  Subject 1  right        high  right     503.477539\n",
       "2             2  Subject 1  right         low  right     531.792948\n",
       "3             3  Subject 1   left        high  right     529.713605\n",
       "4             4  Subject 1   left        high   left    1065.592634\n",
       "..          ...        ...    ...         ...    ...            ...\n",
       "495         495  Subject 2  right        high  right     682.588538\n",
       "496         496  Subject 2   left         low   left     608.847204\n",
       "497         497  Subject 2  right         low  right     529.400439\n",
       "498         498  Subject 2   left         low   left     600.240023\n",
       "499         499  Subject 2  right        high  right     537.797189\n",
       "\n",
       "[500 rows x 6 columns]"
      ]
     },
     "execution_count": 39,
     "metadata": {},
     "output_type": "execute_result"
    }
   ],
   "source": [
    "df_dm[df_dm['reaction_time']>100]"
   ]
  },
  {
   "cell_type": "code",
   "execution_count": 41,
   "metadata": {},
   "outputs": [
    {
     "data": {
      "text/plain": [
       "0      False\n",
       "1       True\n",
       "2       True\n",
       "3      False\n",
       "4       True\n",
       "       ...  \n",
       "495     True\n",
       "496     True\n",
       "497     True\n",
       "498     True\n",
       "499     True\n",
       "Length: 500, dtype: bool"
      ]
     },
     "execution_count": 41,
     "metadata": {},
     "output_type": "execute_result"
    }
   ],
   "source": [
    "df_dm['motion'] == df_dm['choice']"
   ]
  },
  {
   "cell_type": "code",
   "execution_count": 42,
   "metadata": {},
   "outputs": [
    {
     "data": {
      "text/html": [
       "<div>\n",
       "<style scoped>\n",
       "    .dataframe tbody tr th:only-of-type {\n",
       "        vertical-align: middle;\n",
       "    }\n",
       "\n",
       "    .dataframe tbody tr th {\n",
       "        vertical-align: top;\n",
       "    }\n",
       "\n",
       "    .dataframe thead th {\n",
       "        text-align: right;\n",
       "    }\n",
       "</style>\n",
       "<table border=\"1\" class=\"dataframe\">\n",
       "  <thead>\n",
       "    <tr style=\"text-align: right;\">\n",
       "      <th></th>\n",
       "      <th>Unnamed: 0</th>\n",
       "      <th>subject</th>\n",
       "      <th>motion</th>\n",
       "      <th>noise_level</th>\n",
       "      <th>choice</th>\n",
       "      <th>reaction_time</th>\n",
       "      <th>accuracy</th>\n",
       "    </tr>\n",
       "  </thead>\n",
       "  <tbody>\n",
       "    <tr>\n",
       "      <th>0</th>\n",
       "      <td>0</td>\n",
       "      <td>Subject 1</td>\n",
       "      <td>right</td>\n",
       "      <td>high</td>\n",
       "      <td>left</td>\n",
       "      <td>504.360449</td>\n",
       "      <td>False</td>\n",
       "    </tr>\n",
       "    <tr>\n",
       "      <th>1</th>\n",
       "      <td>1</td>\n",
       "      <td>Subject 1</td>\n",
       "      <td>right</td>\n",
       "      <td>high</td>\n",
       "      <td>right</td>\n",
       "      <td>503.477539</td>\n",
       "      <td>True</td>\n",
       "    </tr>\n",
       "    <tr>\n",
       "      <th>2</th>\n",
       "      <td>2</td>\n",
       "      <td>Subject 1</td>\n",
       "      <td>right</td>\n",
       "      <td>low</td>\n",
       "      <td>right</td>\n",
       "      <td>531.792948</td>\n",
       "      <td>True</td>\n",
       "    </tr>\n",
       "    <tr>\n",
       "      <th>3</th>\n",
       "      <td>3</td>\n",
       "      <td>Subject 1</td>\n",
       "      <td>left</td>\n",
       "      <td>high</td>\n",
       "      <td>right</td>\n",
       "      <td>529.713605</td>\n",
       "      <td>False</td>\n",
       "    </tr>\n",
       "    <tr>\n",
       "      <th>4</th>\n",
       "      <td>4</td>\n",
       "      <td>Subject 1</td>\n",
       "      <td>left</td>\n",
       "      <td>high</td>\n",
       "      <td>left</td>\n",
       "      <td>1065.592634</td>\n",
       "      <td>True</td>\n",
       "    </tr>\n",
       "    <tr>\n",
       "      <th>...</th>\n",
       "      <td>...</td>\n",
       "      <td>...</td>\n",
       "      <td>...</td>\n",
       "      <td>...</td>\n",
       "      <td>...</td>\n",
       "      <td>...</td>\n",
       "      <td>...</td>\n",
       "    </tr>\n",
       "    <tr>\n",
       "      <th>495</th>\n",
       "      <td>495</td>\n",
       "      <td>Subject 2</td>\n",
       "      <td>right</td>\n",
       "      <td>high</td>\n",
       "      <td>right</td>\n",
       "      <td>682.588538</td>\n",
       "      <td>True</td>\n",
       "    </tr>\n",
       "    <tr>\n",
       "      <th>496</th>\n",
       "      <td>496</td>\n",
       "      <td>Subject 2</td>\n",
       "      <td>left</td>\n",
       "      <td>low</td>\n",
       "      <td>left</td>\n",
       "      <td>608.847204</td>\n",
       "      <td>True</td>\n",
       "    </tr>\n",
       "    <tr>\n",
       "      <th>497</th>\n",
       "      <td>497</td>\n",
       "      <td>Subject 2</td>\n",
       "      <td>right</td>\n",
       "      <td>low</td>\n",
       "      <td>right</td>\n",
       "      <td>529.400439</td>\n",
       "      <td>True</td>\n",
       "    </tr>\n",
       "    <tr>\n",
       "      <th>498</th>\n",
       "      <td>498</td>\n",
       "      <td>Subject 2</td>\n",
       "      <td>left</td>\n",
       "      <td>low</td>\n",
       "      <td>left</td>\n",
       "      <td>600.240023</td>\n",
       "      <td>True</td>\n",
       "    </tr>\n",
       "    <tr>\n",
       "      <th>499</th>\n",
       "      <td>499</td>\n",
       "      <td>Subject 2</td>\n",
       "      <td>right</td>\n",
       "      <td>high</td>\n",
       "      <td>right</td>\n",
       "      <td>537.797189</td>\n",
       "      <td>True</td>\n",
       "    </tr>\n",
       "  </tbody>\n",
       "</table>\n",
       "<p>500 rows × 7 columns</p>\n",
       "</div>"
      ],
      "text/plain": [
       "     Unnamed: 0    subject motion noise_level choice  reaction_time  accuracy\n",
       "0             0  Subject 1  right        high   left     504.360449     False\n",
       "1             1  Subject 1  right        high  right     503.477539      True\n",
       "2             2  Subject 1  right         low  right     531.792948      True\n",
       "3             3  Subject 1   left        high  right     529.713605     False\n",
       "4             4  Subject 1   left        high   left    1065.592634      True\n",
       "..          ...        ...    ...         ...    ...            ...       ...\n",
       "495         495  Subject 2  right        high  right     682.588538      True\n",
       "496         496  Subject 2   left         low   left     608.847204      True\n",
       "497         497  Subject 2  right         low  right     529.400439      True\n",
       "498         498  Subject 2   left         low   left     600.240023      True\n",
       "499         499  Subject 2  right        high  right     537.797189      True\n",
       "\n",
       "[500 rows x 7 columns]"
      ]
     },
     "execution_count": 42,
     "metadata": {},
     "output_type": "execute_result"
    }
   ],
   "source": [
    "df_dm['accuracy']=df_dm['motion']== df_dm['choice']\n",
    "df_dm"
   ]
  },
  {
   "cell_type": "code",
   "execution_count": 43,
   "metadata": {},
   "outputs": [
    {
     "data": {
      "text/html": [
       "<div>\n",
       "<style scoped>\n",
       "    .dataframe tbody tr th:only-of-type {\n",
       "        vertical-align: middle;\n",
       "    }\n",
       "\n",
       "    .dataframe tbody tr th {\n",
       "        vertical-align: top;\n",
       "    }\n",
       "\n",
       "    .dataframe thead th {\n",
       "        text-align: right;\n",
       "    }\n",
       "</style>\n",
       "<table border=\"1\" class=\"dataframe\">\n",
       "  <thead>\n",
       "    <tr style=\"text-align: right;\">\n",
       "      <th></th>\n",
       "      <th>Unnamed: 0</th>\n",
       "      <th>subject</th>\n",
       "      <th>motion</th>\n",
       "      <th>noise_level</th>\n",
       "      <th>choice</th>\n",
       "      <th>reaction_time</th>\n",
       "      <th>accuracy</th>\n",
       "    </tr>\n",
       "  </thead>\n",
       "  <tbody>\n",
       "    <tr>\n",
       "      <th>0</th>\n",
       "      <td>0</td>\n",
       "      <td>Subject 1</td>\n",
       "      <td>right</td>\n",
       "      <td>high</td>\n",
       "      <td>left</td>\n",
       "      <td>504.360449</td>\n",
       "      <td>0.0</td>\n",
       "    </tr>\n",
       "    <tr>\n",
       "      <th>1</th>\n",
       "      <td>1</td>\n",
       "      <td>Subject 1</td>\n",
       "      <td>right</td>\n",
       "      <td>high</td>\n",
       "      <td>right</td>\n",
       "      <td>503.477539</td>\n",
       "      <td>1.0</td>\n",
       "    </tr>\n",
       "    <tr>\n",
       "      <th>2</th>\n",
       "      <td>2</td>\n",
       "      <td>Subject 1</td>\n",
       "      <td>right</td>\n",
       "      <td>low</td>\n",
       "      <td>right</td>\n",
       "      <td>531.792948</td>\n",
       "      <td>1.0</td>\n",
       "    </tr>\n",
       "    <tr>\n",
       "      <th>3</th>\n",
       "      <td>3</td>\n",
       "      <td>Subject 1</td>\n",
       "      <td>left</td>\n",
       "      <td>high</td>\n",
       "      <td>right</td>\n",
       "      <td>529.713605</td>\n",
       "      <td>0.0</td>\n",
       "    </tr>\n",
       "    <tr>\n",
       "      <th>4</th>\n",
       "      <td>4</td>\n",
       "      <td>Subject 1</td>\n",
       "      <td>left</td>\n",
       "      <td>high</td>\n",
       "      <td>left</td>\n",
       "      <td>1065.592634</td>\n",
       "      <td>1.0</td>\n",
       "    </tr>\n",
       "    <tr>\n",
       "      <th>...</th>\n",
       "      <td>...</td>\n",
       "      <td>...</td>\n",
       "      <td>...</td>\n",
       "      <td>...</td>\n",
       "      <td>...</td>\n",
       "      <td>...</td>\n",
       "      <td>...</td>\n",
       "    </tr>\n",
       "    <tr>\n",
       "      <th>495</th>\n",
       "      <td>495</td>\n",
       "      <td>Subject 2</td>\n",
       "      <td>right</td>\n",
       "      <td>high</td>\n",
       "      <td>right</td>\n",
       "      <td>682.588538</td>\n",
       "      <td>1.0</td>\n",
       "    </tr>\n",
       "    <tr>\n",
       "      <th>496</th>\n",
       "      <td>496</td>\n",
       "      <td>Subject 2</td>\n",
       "      <td>left</td>\n",
       "      <td>low</td>\n",
       "      <td>left</td>\n",
       "      <td>608.847204</td>\n",
       "      <td>1.0</td>\n",
       "    </tr>\n",
       "    <tr>\n",
       "      <th>497</th>\n",
       "      <td>497</td>\n",
       "      <td>Subject 2</td>\n",
       "      <td>right</td>\n",
       "      <td>low</td>\n",
       "      <td>right</td>\n",
       "      <td>529.400439</td>\n",
       "      <td>1.0</td>\n",
       "    </tr>\n",
       "    <tr>\n",
       "      <th>498</th>\n",
       "      <td>498</td>\n",
       "      <td>Subject 2</td>\n",
       "      <td>left</td>\n",
       "      <td>low</td>\n",
       "      <td>left</td>\n",
       "      <td>600.240023</td>\n",
       "      <td>1.0</td>\n",
       "    </tr>\n",
       "    <tr>\n",
       "      <th>499</th>\n",
       "      <td>499</td>\n",
       "      <td>Subject 2</td>\n",
       "      <td>right</td>\n",
       "      <td>high</td>\n",
       "      <td>right</td>\n",
       "      <td>537.797189</td>\n",
       "      <td>1.0</td>\n",
       "    </tr>\n",
       "  </tbody>\n",
       "</table>\n",
       "<p>500 rows × 7 columns</p>\n",
       "</div>"
      ],
      "text/plain": [
       "     Unnamed: 0    subject motion noise_level choice  reaction_time  accuracy\n",
       "0             0  Subject 1  right        high   left     504.360449       0.0\n",
       "1             1  Subject 1  right        high  right     503.477539       1.0\n",
       "2             2  Subject 1  right         low  right     531.792948       1.0\n",
       "3             3  Subject 1   left        high  right     529.713605       0.0\n",
       "4             4  Subject 1   left        high   left    1065.592634       1.0\n",
       "..          ...        ...    ...         ...    ...            ...       ...\n",
       "495         495  Subject 2  right        high  right     682.588538       1.0\n",
       "496         496  Subject 2   left         low   left     608.847204       1.0\n",
       "497         497  Subject 2  right         low  right     529.400439       1.0\n",
       "498         498  Subject 2   left         low   left     600.240023       1.0\n",
       "499         499  Subject 2  right        high  right     537.797189       1.0\n",
       "\n",
       "[500 rows x 7 columns]"
      ]
     },
     "execution_count": 43,
     "metadata": {},
     "output_type": "execute_result"
    }
   ],
   "source": [
    "df_dm['accuracy']=df_dm['accuracy'].astype(float)\n",
    "df_dm"
   ]
  },
  {
   "cell_type": "markdown",
   "metadata": {
    "id": "TNljgcy_s97W"
   },
   "source": [
    "### Group by\n",
    "With data frames we can compute summary statistics. For these summary satistics, we might want to group observations together if they have the same value in certain columns. We can do this using `groupby`."
   ]
  },
  {
   "cell_type": "code",
   "execution_count": 44,
   "metadata": {
    "colab": {
     "base_uri": "https://localhost:8080/"
    },
    "executionInfo": {
     "elapsed": 182,
     "status": "ok",
     "timestamp": 1665435817638,
     "user": {
      "displayName": "Jasmine Stone",
      "userId": "01448888124801736627"
     },
     "user_tz": 240
    },
    "id": "PTgSG-aUivKa",
    "outputId": "05c05693-92aa-412a-fdad-3bb63aff9733"
   },
   "outputs": [
    {
     "name": "stdout",
     "output_type": "stream",
     "text": [
      "<pandas.core.groupby.generic.DataFrameGroupBy object at 0x7f9c77bb7be0>\n"
     ]
    }
   ],
   "source": [
    "grouped_by_subject = df_dm.groupby(['subject'])\n",
    "print(grouped_by_subject)"
   ]
  },
  {
   "cell_type": "markdown",
   "metadata": {
    "id": "5fVfCkpji1Qa"
   },
   "source": [
    "By default, we don't really see this object. But we can inspect the groups:"
   ]
  },
  {
   "cell_type": "code",
   "execution_count": 45,
   "metadata": {
    "colab": {
     "base_uri": "https://localhost:8080/"
    },
    "executionInfo": {
     "elapsed": 417,
     "status": "ok",
     "timestamp": 1665435822543,
     "user": {
      "displayName": "Jasmine Stone",
      "userId": "01448888124801736627"
     },
     "user_tz": 240
    },
    "id": "XvLepa12jJS6",
    "outputId": "d8b19ee1-7f12-4caa-a5a3-518771a7dded"
   },
   "outputs": [
    {
     "data": {
      "text/plain": [
       "{'Subject 1': [0, 1, 2, 3, 4, 5, 6, 7, 8, 9, 10, 11, 12, 13, 14, 15, 16, 17, 18, 19, 20, 21, 22, 23, 24, 25, 26, 27, 28, 29, 30, 31, 32, 33, 34, 35, 36, 37, 38, 39, 40, 41, 42, 43, 44, 45, 46, 47, 48, 49, 50, 51, 52, 53, 54, 55, 56, 57, 58, 59, 60, 61, 62, 63, 64, 65, 66, 67, 68, 69, 70, 71, 72, 73, 74, 75, 76, 77, 78, 79, 80, 81, 82, 83, 84, 85, 86, 87, 88, 89, 90, 91, 92, 93, 94, 95, 96, 97, 98, 99, ...], 'Subject 2': [200, 201, 202, 203, 204, 205, 206, 207, 208, 209, 210, 211, 212, 213, 214, 215, 216, 217, 218, 219, 220, 221, 222, 223, 224, 225, 226, 227, 228, 229, 230, 231, 232, 233, 234, 235, 236, 237, 238, 239, 240, 241, 242, 243, 244, 245, 246, 247, 248, 249, 250, 251, 252, 253, 254, 255, 256, 257, 258, 259, 260, 261, 262, 263, 264, 265, 266, 267, 268, 269, 270, 271, 272, 273, 274, 275, 276, 277, 278, 279, 280, 281, 282, 283, 284, 285, 286, 287, 288, 289, 290, 291, 292, 293, 294, 295, 296, 297, 298, 299, ...]}"
      ]
     },
     "execution_count": 45,
     "metadata": {},
     "output_type": "execute_result"
    }
   ],
   "source": [
    "grouped_by_subject.groups"
   ]
  },
  {
   "cell_type": "markdown",
   "metadata": {
    "id": "-5HHmM8ajOzI"
   },
   "source": [
    "We can also get each individual group:"
   ]
  },
  {
   "cell_type": "code",
   "execution_count": 46,
   "metadata": {},
   "outputs": [
    {
     "data": {
      "text/plain": [
       "array(['Subject 1', 'Subject 2'], dtype=object)"
      ]
     },
     "execution_count": 46,
     "metadata": {},
     "output_type": "execute_result"
    }
   ],
   "source": [
    "df_dm['subject'].unique()"
   ]
  },
  {
   "cell_type": "code",
   "execution_count": 47,
   "metadata": {
    "colab": {
     "base_uri": "https://localhost:8080/",
     "height": 419
    },
    "executionInfo": {
     "elapsed": 185,
     "status": "ok",
     "timestamp": 1665436015126,
     "user": {
      "displayName": "Jasmine Stone",
      "userId": "01448888124801736627"
     },
     "user_tz": 240
    },
    "id": "5xuy8X5ajOEq",
    "outputId": "ef63926b-3085-4863-db21-c269fca41324"
   },
   "outputs": [
    {
     "data": {
      "text/html": [
       "<div>\n",
       "<style scoped>\n",
       "    .dataframe tbody tr th:only-of-type {\n",
       "        vertical-align: middle;\n",
       "    }\n",
       "\n",
       "    .dataframe tbody tr th {\n",
       "        vertical-align: top;\n",
       "    }\n",
       "\n",
       "    .dataframe thead th {\n",
       "        text-align: right;\n",
       "    }\n",
       "</style>\n",
       "<table border=\"1\" class=\"dataframe\">\n",
       "  <thead>\n",
       "    <tr style=\"text-align: right;\">\n",
       "      <th></th>\n",
       "      <th>Unnamed: 0</th>\n",
       "      <th>subject</th>\n",
       "      <th>motion</th>\n",
       "      <th>noise_level</th>\n",
       "      <th>choice</th>\n",
       "      <th>reaction_time</th>\n",
       "      <th>accuracy</th>\n",
       "    </tr>\n",
       "  </thead>\n",
       "  <tbody>\n",
       "    <tr>\n",
       "      <th>0</th>\n",
       "      <td>0</td>\n",
       "      <td>Subject 1</td>\n",
       "      <td>right</td>\n",
       "      <td>high</td>\n",
       "      <td>left</td>\n",
       "      <td>504.360449</td>\n",
       "      <td>0.0</td>\n",
       "    </tr>\n",
       "    <tr>\n",
       "      <th>1</th>\n",
       "      <td>1</td>\n",
       "      <td>Subject 1</td>\n",
       "      <td>right</td>\n",
       "      <td>high</td>\n",
       "      <td>right</td>\n",
       "      <td>503.477539</td>\n",
       "      <td>1.0</td>\n",
       "    </tr>\n",
       "    <tr>\n",
       "      <th>2</th>\n",
       "      <td>2</td>\n",
       "      <td>Subject 1</td>\n",
       "      <td>right</td>\n",
       "      <td>low</td>\n",
       "      <td>right</td>\n",
       "      <td>531.792948</td>\n",
       "      <td>1.0</td>\n",
       "    </tr>\n",
       "    <tr>\n",
       "      <th>3</th>\n",
       "      <td>3</td>\n",
       "      <td>Subject 1</td>\n",
       "      <td>left</td>\n",
       "      <td>high</td>\n",
       "      <td>right</td>\n",
       "      <td>529.713605</td>\n",
       "      <td>0.0</td>\n",
       "    </tr>\n",
       "    <tr>\n",
       "      <th>4</th>\n",
       "      <td>4</td>\n",
       "      <td>Subject 1</td>\n",
       "      <td>left</td>\n",
       "      <td>high</td>\n",
       "      <td>left</td>\n",
       "      <td>1065.592634</td>\n",
       "      <td>1.0</td>\n",
       "    </tr>\n",
       "    <tr>\n",
       "      <th>...</th>\n",
       "      <td>...</td>\n",
       "      <td>...</td>\n",
       "      <td>...</td>\n",
       "      <td>...</td>\n",
       "      <td>...</td>\n",
       "      <td>...</td>\n",
       "      <td>...</td>\n",
       "    </tr>\n",
       "    <tr>\n",
       "      <th>195</th>\n",
       "      <td>195</td>\n",
       "      <td>Subject 1</td>\n",
       "      <td>right</td>\n",
       "      <td>low</td>\n",
       "      <td>right</td>\n",
       "      <td>585.544042</td>\n",
       "      <td>1.0</td>\n",
       "    </tr>\n",
       "    <tr>\n",
       "      <th>196</th>\n",
       "      <td>196</td>\n",
       "      <td>Subject 1</td>\n",
       "      <td>left</td>\n",
       "      <td>high</td>\n",
       "      <td>right</td>\n",
       "      <td>574.720989</td>\n",
       "      <td>0.0</td>\n",
       "    </tr>\n",
       "    <tr>\n",
       "      <th>197</th>\n",
       "      <td>197</td>\n",
       "      <td>Subject 1</td>\n",
       "      <td>right</td>\n",
       "      <td>low</td>\n",
       "      <td>right</td>\n",
       "      <td>556.022947</td>\n",
       "      <td>1.0</td>\n",
       "    </tr>\n",
       "    <tr>\n",
       "      <th>198</th>\n",
       "      <td>198</td>\n",
       "      <td>Subject 1</td>\n",
       "      <td>left</td>\n",
       "      <td>high</td>\n",
       "      <td>left</td>\n",
       "      <td>709.217842</td>\n",
       "      <td>1.0</td>\n",
       "    </tr>\n",
       "    <tr>\n",
       "      <th>199</th>\n",
       "      <td>199</td>\n",
       "      <td>Subject 1</td>\n",
       "      <td>right</td>\n",
       "      <td>high</td>\n",
       "      <td>right</td>\n",
       "      <td>519.828917</td>\n",
       "      <td>1.0</td>\n",
       "    </tr>\n",
       "  </tbody>\n",
       "</table>\n",
       "<p>200 rows × 7 columns</p>\n",
       "</div>"
      ],
      "text/plain": [
       "     Unnamed: 0    subject motion noise_level choice  reaction_time  accuracy\n",
       "0             0  Subject 1  right        high   left     504.360449       0.0\n",
       "1             1  Subject 1  right        high  right     503.477539       1.0\n",
       "2             2  Subject 1  right         low  right     531.792948       1.0\n",
       "3             3  Subject 1   left        high  right     529.713605       0.0\n",
       "4             4  Subject 1   left        high   left    1065.592634       1.0\n",
       "..          ...        ...    ...         ...    ...            ...       ...\n",
       "195         195  Subject 1  right         low  right     585.544042       1.0\n",
       "196         196  Subject 1   left        high  right     574.720989       0.0\n",
       "197         197  Subject 1  right         low  right     556.022947       1.0\n",
       "198         198  Subject 1   left        high   left     709.217842       1.0\n",
       "199         199  Subject 1  right        high  right     519.828917       1.0\n",
       "\n",
       "[200 rows x 7 columns]"
      ]
     },
     "execution_count": 47,
     "metadata": {},
     "output_type": "execute_result"
    }
   ],
   "source": [
    "grouped_by_subject.get_group('Subject 1')"
   ]
  },
  {
   "cell_type": "markdown",
   "metadata": {
    "id": "FilqPnH_z1gE"
   },
   "source": [
    "The 'Unnamed: 0' column here is an artifact of how pandas treats row names. Here our row names (which are simply the list from 0-199) were turned into a column that did not have a name. If this happens, I recommend ignoring or removing those columns."
   ]
  },
  {
   "cell_type": "markdown",
   "metadata": {
    "id": "utonKessjbxp"
   },
   "source": [
    "Because we only want to compute the mean for the reaction time and accuracy, we subset these two columns. We can do this as with a normal data frame."
   ]
  },
  {
   "cell_type": "code",
   "execution_count": 48,
   "metadata": {
    "colab": {
     "base_uri": "https://localhost:8080/"
    },
    "executionInfo": {
     "elapsed": 231,
     "status": "ok",
     "timestamp": 1665436018928,
     "user": {
      "displayName": "Jasmine Stone",
      "userId": "01448888124801736627"
     },
     "user_tz": 240
    },
    "id": "_JwNc61OjyeC",
    "outputId": "057d5a68-f147-486c-c5b3-2f93da17dd19"
   },
   "outputs": [
    {
     "data": {
      "text/plain": [
       "<pandas.core.groupby.generic.DataFrameGroupBy object at 0x7f9c77be5070>"
      ]
     },
     "execution_count": 48,
     "metadata": {},
     "output_type": "execute_result"
    }
   ],
   "source": [
    "grouped_by_subject_subset = grouped_by_subject[['reaction_time', 'accuracy']]\n",
    "grouped_by_subject_subset"
   ]
  },
  {
   "cell_type": "code",
   "execution_count": 49,
   "metadata": {
    "colab": {
     "base_uri": "https://localhost:8080/",
     "height": 419
    },
    "executionInfo": {
     "elapsed": 3,
     "status": "ok",
     "timestamp": 1665436019513,
     "user": {
      "displayName": "Jasmine Stone",
      "userId": "01448888124801736627"
     },
     "user_tz": 240
    },
    "id": "9VrkF3pZj5uK",
    "outputId": "b8bb81b7-c40a-4710-a4e2-5c5d812cba6e"
   },
   "outputs": [
    {
     "data": {
      "text/html": [
       "<div>\n",
       "<style scoped>\n",
       "    .dataframe tbody tr th:only-of-type {\n",
       "        vertical-align: middle;\n",
       "    }\n",
       "\n",
       "    .dataframe tbody tr th {\n",
       "        vertical-align: top;\n",
       "    }\n",
       "\n",
       "    .dataframe thead th {\n",
       "        text-align: right;\n",
       "    }\n",
       "</style>\n",
       "<table border=\"1\" class=\"dataframe\">\n",
       "  <thead>\n",
       "    <tr style=\"text-align: right;\">\n",
       "      <th></th>\n",
       "      <th>reaction_time</th>\n",
       "      <th>accuracy</th>\n",
       "    </tr>\n",
       "  </thead>\n",
       "  <tbody>\n",
       "    <tr>\n",
       "      <th>0</th>\n",
       "      <td>504.360449</td>\n",
       "      <td>0.0</td>\n",
       "    </tr>\n",
       "    <tr>\n",
       "      <th>1</th>\n",
       "      <td>503.477539</td>\n",
       "      <td>1.0</td>\n",
       "    </tr>\n",
       "    <tr>\n",
       "      <th>2</th>\n",
       "      <td>531.792948</td>\n",
       "      <td>1.0</td>\n",
       "    </tr>\n",
       "    <tr>\n",
       "      <th>3</th>\n",
       "      <td>529.713605</td>\n",
       "      <td>0.0</td>\n",
       "    </tr>\n",
       "    <tr>\n",
       "      <th>4</th>\n",
       "      <td>1065.592634</td>\n",
       "      <td>1.0</td>\n",
       "    </tr>\n",
       "    <tr>\n",
       "      <th>...</th>\n",
       "      <td>...</td>\n",
       "      <td>...</td>\n",
       "    </tr>\n",
       "    <tr>\n",
       "      <th>195</th>\n",
       "      <td>585.544042</td>\n",
       "      <td>1.0</td>\n",
       "    </tr>\n",
       "    <tr>\n",
       "      <th>196</th>\n",
       "      <td>574.720989</td>\n",
       "      <td>0.0</td>\n",
       "    </tr>\n",
       "    <tr>\n",
       "      <th>197</th>\n",
       "      <td>556.022947</td>\n",
       "      <td>1.0</td>\n",
       "    </tr>\n",
       "    <tr>\n",
       "      <th>198</th>\n",
       "      <td>709.217842</td>\n",
       "      <td>1.0</td>\n",
       "    </tr>\n",
       "    <tr>\n",
       "      <th>199</th>\n",
       "      <td>519.828917</td>\n",
       "      <td>1.0</td>\n",
       "    </tr>\n",
       "  </tbody>\n",
       "</table>\n",
       "<p>200 rows × 2 columns</p>\n",
       "</div>"
      ],
      "text/plain": [
       "     reaction_time  accuracy\n",
       "0       504.360449       0.0\n",
       "1       503.477539       1.0\n",
       "2       531.792948       1.0\n",
       "3       529.713605       0.0\n",
       "4      1065.592634       1.0\n",
       "..             ...       ...\n",
       "195     585.544042       1.0\n",
       "196     574.720989       0.0\n",
       "197     556.022947       1.0\n",
       "198     709.217842       1.0\n",
       "199     519.828917       1.0\n",
       "\n",
       "[200 rows x 2 columns]"
      ]
     },
     "execution_count": 49,
     "metadata": {},
     "output_type": "execute_result"
    }
   ],
   "source": [
    "grouped_by_subject_subset.get_group('Subject 1') # We have removed the other columns"
   ]
  },
  {
   "cell_type": "markdown",
   "metadata": {
    "id": "5icj3dgHkQcB"
   },
   "source": [
    "We can now apply the function `mean`, to summarise each group:"
   ]
  },
  {
   "cell_type": "code",
   "execution_count": 50,
   "metadata": {
    "colab": {
     "base_uri": "https://localhost:8080/",
     "height": 142
    },
    "executionInfo": {
     "elapsed": 305,
     "status": "ok",
     "timestamp": 1665436022670,
     "user": {
      "displayName": "Jasmine Stone",
      "userId": "01448888124801736627"
     },
     "user_tz": 240
    },
    "id": "-b-FcMKWkTVo",
    "outputId": "3a411b66-b4b4-4f33-e819-97d07fc515bd"
   },
   "outputs": [
    {
     "data": {
      "text/html": [
       "<div>\n",
       "<style scoped>\n",
       "    .dataframe tbody tr th:only-of-type {\n",
       "        vertical-align: middle;\n",
       "    }\n",
       "\n",
       "    .dataframe tbody tr th {\n",
       "        vertical-align: top;\n",
       "    }\n",
       "\n",
       "    .dataframe thead th {\n",
       "        text-align: right;\n",
       "    }\n",
       "</style>\n",
       "<table border=\"1\" class=\"dataframe\">\n",
       "  <thead>\n",
       "    <tr style=\"text-align: right;\">\n",
       "      <th></th>\n",
       "      <th>reaction_time</th>\n",
       "      <th>accuracy</th>\n",
       "    </tr>\n",
       "    <tr>\n",
       "      <th>subject</th>\n",
       "      <th></th>\n",
       "      <th></th>\n",
       "    </tr>\n",
       "  </thead>\n",
       "  <tbody>\n",
       "    <tr>\n",
       "      <th>Subject 1</th>\n",
       "      <td>593.450858</td>\n",
       "      <td>0.79</td>\n",
       "    </tr>\n",
       "    <tr>\n",
       "      <th>Subject 2</th>\n",
       "      <td>589.861028</td>\n",
       "      <td>0.86</td>\n",
       "    </tr>\n",
       "  </tbody>\n",
       "</table>\n",
       "</div>"
      ],
      "text/plain": [
       "           reaction_time  accuracy\n",
       "subject                           \n",
       "Subject 1     593.450858      0.79\n",
       "Subject 2     589.861028      0.86"
      ]
     },
     "execution_count": 50,
     "metadata": {},
     "output_type": "execute_result"
    }
   ],
   "source": [
    "mean_reaction_time = grouped_by_subject_subset.mean()\n",
    "mean_reaction_time"
   ]
  },
  {
   "cell_type": "markdown",
   "metadata": {
    "id": "spP893ES-qKy"
   },
   "source": [
    "By default, the variables according to which the data frame is being grouped are not columns anymore but rather a property called row names. I dislike rownames and try to avoid them in my own work. You can turn them back into a column using the method `reset_index`."
   ]
  },
  {
   "cell_type": "code",
   "execution_count": 51,
   "metadata": {
    "colab": {
     "base_uri": "https://localhost:8080/",
     "height": 111
    },
    "executionInfo": {
     "elapsed": 236,
     "status": "ok",
     "timestamp": 1665436041001,
     "user": {
      "displayName": "Jasmine Stone",
      "userId": "01448888124801736627"
     },
     "user_tz": 240
    },
    "id": "bjqxtgg8kkeL",
    "outputId": "6a25b87b-ad8b-48a8-ed3d-d7e963f72fc0"
   },
   "outputs": [
    {
     "data": {
      "text/html": [
       "<div>\n",
       "<style scoped>\n",
       "    .dataframe tbody tr th:only-of-type {\n",
       "        vertical-align: middle;\n",
       "    }\n",
       "\n",
       "    .dataframe tbody tr th {\n",
       "        vertical-align: top;\n",
       "    }\n",
       "\n",
       "    .dataframe thead th {\n",
       "        text-align: right;\n",
       "    }\n",
       "</style>\n",
       "<table border=\"1\" class=\"dataframe\">\n",
       "  <thead>\n",
       "    <tr style=\"text-align: right;\">\n",
       "      <th></th>\n",
       "      <th>subject</th>\n",
       "      <th>reaction_time</th>\n",
       "      <th>accuracy</th>\n",
       "    </tr>\n",
       "  </thead>\n",
       "  <tbody>\n",
       "    <tr>\n",
       "      <th>0</th>\n",
       "      <td>Subject 1</td>\n",
       "      <td>593.450858</td>\n",
       "      <td>0.79</td>\n",
       "    </tr>\n",
       "    <tr>\n",
       "      <th>1</th>\n",
       "      <td>Subject 2</td>\n",
       "      <td>589.861028</td>\n",
       "      <td>0.86</td>\n",
       "    </tr>\n",
       "  </tbody>\n",
       "</table>\n",
       "</div>"
      ],
      "text/plain": [
       "     subject  reaction_time  accuracy\n",
       "0  Subject 1     593.450858      0.79\n",
       "1  Subject 2     589.861028      0.86"
      ]
     },
     "execution_count": 51,
     "metadata": {},
     "output_type": "execute_result"
    }
   ],
   "source": [
    "mean_reaction_time_df = mean_reaction_time.reset_index()\n",
    "mean_reaction_time_df"
   ]
  },
  {
   "cell_type": "markdown",
   "metadata": {
    "id": "oLFTi6LBkqIp"
   },
   "source": [
    "Taken together, here is what we did:"
   ]
  },
  {
   "cell_type": "code",
   "execution_count": 52,
   "metadata": {
    "colab": {
     "base_uri": "https://localhost:8080/",
     "height": 111
    },
    "executionInfo": {
     "elapsed": 216,
     "status": "ok",
     "timestamp": 1665436049708,
     "user": {
      "displayName": "Jasmine Stone",
      "userId": "01448888124801736627"
     },
     "user_tz": 240
    },
    "id": "5kRlbYX6kuHn",
    "outputId": "3b5cee41-dca6-4b23-8213-5686f5e378d4"
   },
   "outputs": [
    {
     "data": {
      "text/html": [
       "<div>\n",
       "<style scoped>\n",
       "    .dataframe tbody tr th:only-of-type {\n",
       "        vertical-align: middle;\n",
       "    }\n",
       "\n",
       "    .dataframe tbody tr th {\n",
       "        vertical-align: top;\n",
       "    }\n",
       "\n",
       "    .dataframe thead th {\n",
       "        text-align: right;\n",
       "    }\n",
       "</style>\n",
       "<table border=\"1\" class=\"dataframe\">\n",
       "  <thead>\n",
       "    <tr style=\"text-align: right;\">\n",
       "      <th></th>\n",
       "      <th>subject</th>\n",
       "      <th>reaction_time</th>\n",
       "      <th>accuracy</th>\n",
       "    </tr>\n",
       "  </thead>\n",
       "  <tbody>\n",
       "    <tr>\n",
       "      <th>0</th>\n",
       "      <td>Subject 1</td>\n",
       "      <td>593.450858</td>\n",
       "      <td>0.79</td>\n",
       "    </tr>\n",
       "    <tr>\n",
       "      <th>1</th>\n",
       "      <td>Subject 2</td>\n",
       "      <td>589.861028</td>\n",
       "      <td>0.86</td>\n",
       "    </tr>\n",
       "  </tbody>\n",
       "</table>\n",
       "</div>"
      ],
      "text/plain": [
       "     subject  reaction_time  accuracy\n",
       "0  Subject 1     593.450858      0.79\n",
       "1  Subject 2     589.861028      0.86"
      ]
     },
     "execution_count": 52,
     "metadata": {},
     "output_type": "execute_result"
    }
   ],
   "source": [
    "mean_reaction_time_df = df_dm.groupby(['subject'])\\\n",
    "                              [['reaction_time', 'accuracy']]\\\n",
    "                             .mean()\\\n",
    "                             .reset_index()\n",
    "mean_reaction_time_df"
   ]
  },
  {
   "cell_type": "markdown",
   "metadata": {
    "id": "19RlD7M90Lhk"
   },
   "source": [
    "`\\` allows you to break a line without this changing your code. The above would be equivalent to one long line as below:"
   ]
  },
  {
   "cell_type": "code",
   "execution_count": 53,
   "metadata": {
    "id": "KDcaBcFd0R3m"
   },
   "outputs": [
    {
     "data": {
      "text/html": [
       "<div>\n",
       "<style scoped>\n",
       "    .dataframe tbody tr th:only-of-type {\n",
       "        vertical-align: middle;\n",
       "    }\n",
       "\n",
       "    .dataframe tbody tr th {\n",
       "        vertical-align: top;\n",
       "    }\n",
       "\n",
       "    .dataframe thead th {\n",
       "        text-align: right;\n",
       "    }\n",
       "</style>\n",
       "<table border=\"1\" class=\"dataframe\">\n",
       "  <thead>\n",
       "    <tr style=\"text-align: right;\">\n",
       "      <th></th>\n",
       "      <th>subject</th>\n",
       "      <th>reaction_time</th>\n",
       "      <th>accuracy</th>\n",
       "    </tr>\n",
       "  </thead>\n",
       "  <tbody>\n",
       "    <tr>\n",
       "      <th>0</th>\n",
       "      <td>Subject 1</td>\n",
       "      <td>593.450858</td>\n",
       "      <td>0.79</td>\n",
       "    </tr>\n",
       "    <tr>\n",
       "      <th>1</th>\n",
       "      <td>Subject 2</td>\n",
       "      <td>589.861028</td>\n",
       "      <td>0.86</td>\n",
       "    </tr>\n",
       "  </tbody>\n",
       "</table>\n",
       "</div>"
      ],
      "text/plain": [
       "     subject  reaction_time  accuracy\n",
       "0  Subject 1     593.450858      0.79\n",
       "1  Subject 2     589.861028      0.86"
      ]
     },
     "execution_count": 53,
     "metadata": {},
     "output_type": "execute_result"
    }
   ],
   "source": [
    "mean_reaction_time_df = df_dm.groupby(['subject'])[['reaction_time', 'accuracy']].mean().reset_index()\n",
    "mean_reaction_time_df"
   ]
  },
  {
   "cell_type": "markdown",
   "metadata": {
    "id": "bpJ6SzvC0XRt"
   },
   "source": [
    "Breaking lines often makes your code more easily understandable."
   ]
  },
  {
   "cell_type": "markdown",
   "metadata": {
    "id": "SjwUEPp3_QjY"
   },
   "source": [
    "A couple of aggregate functions are implemented as methods, for example `mean`, `max`, and `min`. You can also supply your own function by using the `apply` method. For example, the following command is equivalent to what we computed above:"
   ]
  },
  {
   "cell_type": "code",
   "execution_count": 54,
   "metadata": {
    "colab": {
     "base_uri": "https://localhost:8080/",
     "height": 111
    },
    "executionInfo": {
     "elapsed": 167,
     "status": "ok",
     "timestamp": 1665436065506,
     "user": {
      "displayName": "Jasmine Stone",
      "userId": "01448888124801736627"
     },
     "user_tz": 240
    },
    "id": "_wm9_hex-9mv",
    "outputId": "eff476c1-26ed-45cd-cf81-24b524093360"
   },
   "outputs": [
    {
     "data": {
      "text/html": [
       "<div>\n",
       "<style scoped>\n",
       "    .dataframe tbody tr th:only-of-type {\n",
       "        vertical-align: middle;\n",
       "    }\n",
       "\n",
       "    .dataframe tbody tr th {\n",
       "        vertical-align: top;\n",
       "    }\n",
       "\n",
       "    .dataframe thead th {\n",
       "        text-align: right;\n",
       "    }\n",
       "</style>\n",
       "<table border=\"1\" class=\"dataframe\">\n",
       "  <thead>\n",
       "    <tr style=\"text-align: right;\">\n",
       "      <th></th>\n",
       "      <th>subject</th>\n",
       "      <th>reaction_time</th>\n",
       "      <th>accuracy</th>\n",
       "    </tr>\n",
       "  </thead>\n",
       "  <tbody>\n",
       "    <tr>\n",
       "      <th>0</th>\n",
       "      <td>Subject 1</td>\n",
       "      <td>593.450858</td>\n",
       "      <td>0.79</td>\n",
       "    </tr>\n",
       "    <tr>\n",
       "      <th>1</th>\n",
       "      <td>Subject 2</td>\n",
       "      <td>589.861028</td>\n",
       "      <td>0.86</td>\n",
       "    </tr>\n",
       "  </tbody>\n",
       "</table>\n",
       "</div>"
      ],
      "text/plain": [
       "     subject  reaction_time  accuracy\n",
       "0  Subject 1     593.450858      0.79\n",
       "1  Subject 2     589.861028      0.86"
      ]
     },
     "execution_count": 54,
     "metadata": {},
     "output_type": "execute_result"
    }
   ],
   "source": [
    "mean_reaction_time_df = df_dm.groupby(['subject'])\\\n",
    "                              [['reaction_time', 'accuracy']]\\\n",
    "                             .apply(np.mean)\\\n",
    "                             .reset_index()\n",
    "mean_reaction_time_df"
   ]
  },
  {
   "cell_type": "markdown",
   "metadata": {
    "id": "jGJT_ac4_uPV"
   },
   "source": [
    "Below, we instead compute the 75-th quantile:"
   ]
  },
  {
   "cell_type": "code",
   "execution_count": 55,
   "metadata": {
    "id": "bQma3k3x_ylT"
   },
   "outputs": [],
   "source": [
    "def quantile_75(x):\n",
    "  return x.quantile(.75)"
   ]
  },
  {
   "cell_type": "code",
   "execution_count": 56,
   "metadata": {
    "colab": {
     "base_uri": "https://localhost:8080/",
     "height": 111
    },
    "executionInfo": {
     "elapsed": 125,
     "status": "ok",
     "timestamp": 1665436074847,
     "user": {
      "displayName": "Jasmine Stone",
      "userId": "01448888124801736627"
     },
     "user_tz": 240
    },
    "id": "slzplvBglzcz",
    "outputId": "e33fee53-8390-421f-8d26-cf4282a02811"
   },
   "outputs": [
    {
     "data": {
      "text/html": [
       "<div>\n",
       "<style scoped>\n",
       "    .dataframe tbody tr th:only-of-type {\n",
       "        vertical-align: middle;\n",
       "    }\n",
       "\n",
       "    .dataframe tbody tr th {\n",
       "        vertical-align: top;\n",
       "    }\n",
       "\n",
       "    .dataframe thead th {\n",
       "        text-align: right;\n",
       "    }\n",
       "</style>\n",
       "<table border=\"1\" class=\"dataframe\">\n",
       "  <thead>\n",
       "    <tr style=\"text-align: right;\">\n",
       "      <th>0.75</th>\n",
       "      <th>subject</th>\n",
       "      <th>reaction_time</th>\n",
       "    </tr>\n",
       "  </thead>\n",
       "  <tbody>\n",
       "    <tr>\n",
       "      <th>0</th>\n",
       "      <td>Subject 1</td>\n",
       "      <td>625.683462</td>\n",
       "    </tr>\n",
       "    <tr>\n",
       "      <th>1</th>\n",
       "      <td>Subject 2</td>\n",
       "      <td>623.874154</td>\n",
       "    </tr>\n",
       "  </tbody>\n",
       "</table>\n",
       "</div>"
      ],
      "text/plain": [
       "0.75    subject  reaction_time\n",
       "0     Subject 1     625.683462\n",
       "1     Subject 2     623.874154"
      ]
     },
     "execution_count": 56,
     "metadata": {},
     "output_type": "execute_result"
    }
   ],
   "source": [
    "rt_75 = df_dm.groupby(['subject'])\\\n",
    "              [['reaction_time']]\\\n",
    "              .apply(quantile_75)\\\n",
    "              .reset_index()\n",
    "rt_75"
   ]
  },
  {
   "cell_type": "markdown",
   "metadata": {
    "id": "HzYTof4MA264"
   },
   "source": [
    "## Exercises\n",
    "1. Compute the maximal reaction time grouped according to subject and noise level.\n",
    "2. Define a function computing the interquartile range. The interquartile range is defined as the difference between the .75-quantile and the .25-quantile.\n",
    "3. Use this function to compute the interquartile range for each subject and noise level."
   ]
  },
  {
   "cell_type": "code",
   "execution_count": 57,
   "metadata": {},
   "outputs": [
    {
     "data": {
      "text/html": [
       "<div>\n",
       "<style scoped>\n",
       "    .dataframe tbody tr th:only-of-type {\n",
       "        vertical-align: middle;\n",
       "    }\n",
       "\n",
       "    .dataframe tbody tr th {\n",
       "        vertical-align: top;\n",
       "    }\n",
       "\n",
       "    .dataframe thead th {\n",
       "        text-align: right;\n",
       "    }\n",
       "</style>\n",
       "<table border=\"1\" class=\"dataframe\">\n",
       "  <thead>\n",
       "    <tr style=\"text-align: right;\">\n",
       "      <th></th>\n",
       "      <th>Unnamed: 0</th>\n",
       "      <th>subject</th>\n",
       "      <th>motion</th>\n",
       "      <th>noise_level</th>\n",
       "      <th>choice</th>\n",
       "      <th>reaction_time</th>\n",
       "      <th>accuracy</th>\n",
       "    </tr>\n",
       "  </thead>\n",
       "  <tbody>\n",
       "    <tr>\n",
       "      <th>0</th>\n",
       "      <td>0</td>\n",
       "      <td>Subject 1</td>\n",
       "      <td>right</td>\n",
       "      <td>high</td>\n",
       "      <td>left</td>\n",
       "      <td>504.360449</td>\n",
       "      <td>0.0</td>\n",
       "    </tr>\n",
       "    <tr>\n",
       "      <th>1</th>\n",
       "      <td>1</td>\n",
       "      <td>Subject 1</td>\n",
       "      <td>right</td>\n",
       "      <td>high</td>\n",
       "      <td>right</td>\n",
       "      <td>503.477539</td>\n",
       "      <td>1.0</td>\n",
       "    </tr>\n",
       "    <tr>\n",
       "      <th>2</th>\n",
       "      <td>2</td>\n",
       "      <td>Subject 1</td>\n",
       "      <td>right</td>\n",
       "      <td>low</td>\n",
       "      <td>right</td>\n",
       "      <td>531.792948</td>\n",
       "      <td>1.0</td>\n",
       "    </tr>\n",
       "    <tr>\n",
       "      <th>3</th>\n",
       "      <td>3</td>\n",
       "      <td>Subject 1</td>\n",
       "      <td>left</td>\n",
       "      <td>high</td>\n",
       "      <td>right</td>\n",
       "      <td>529.713605</td>\n",
       "      <td>0.0</td>\n",
       "    </tr>\n",
       "    <tr>\n",
       "      <th>4</th>\n",
       "      <td>4</td>\n",
       "      <td>Subject 1</td>\n",
       "      <td>left</td>\n",
       "      <td>high</td>\n",
       "      <td>left</td>\n",
       "      <td>1065.592634</td>\n",
       "      <td>1.0</td>\n",
       "    </tr>\n",
       "  </tbody>\n",
       "</table>\n",
       "</div>"
      ],
      "text/plain": [
       "   Unnamed: 0    subject motion noise_level choice  reaction_time  accuracy\n",
       "0           0  Subject 1  right        high   left     504.360449       0.0\n",
       "1           1  Subject 1  right        high  right     503.477539       1.0\n",
       "2           2  Subject 1  right         low  right     531.792948       1.0\n",
       "3           3  Subject 1   left        high  right     529.713605       0.0\n",
       "4           4  Subject 1   left        high   left    1065.592634       1.0"
      ]
     },
     "execution_count": 57,
     "metadata": {},
     "output_type": "execute_result"
    }
   ],
   "source": [
    "df_dm.head()"
   ]
  },
  {
   "cell_type": "code",
   "execution_count": 63,
   "metadata": {},
   "outputs": [
    {
     "data": {
      "text/html": [
       "<div>\n",
       "<style scoped>\n",
       "    .dataframe tbody tr th:only-of-type {\n",
       "        vertical-align: middle;\n",
       "    }\n",
       "\n",
       "    .dataframe tbody tr th {\n",
       "        vertical-align: top;\n",
       "    }\n",
       "\n",
       "    .dataframe thead th {\n",
       "        text-align: right;\n",
       "    }\n",
       "</style>\n",
       "<table border=\"1\" class=\"dataframe\">\n",
       "  <thead>\n",
       "    <tr style=\"text-align: right;\">\n",
       "      <th></th>\n",
       "      <th></th>\n",
       "      <th>reaction_time</th>\n",
       "    </tr>\n",
       "    <tr>\n",
       "      <th>subject</th>\n",
       "      <th>noise_level</th>\n",
       "      <th></th>\n",
       "    </tr>\n",
       "  </thead>\n",
       "  <tbody>\n",
       "    <tr>\n",
       "      <th rowspan=\"2\" valign=\"top\">Subject 1</th>\n",
       "      <th>high</th>\n",
       "      <td>1065.592634</td>\n",
       "    </tr>\n",
       "    <tr>\n",
       "      <th>low</th>\n",
       "      <td>869.429414</td>\n",
       "    </tr>\n",
       "    <tr>\n",
       "      <th rowspan=\"2\" valign=\"top\">Subject 2</th>\n",
       "      <th>high</th>\n",
       "      <td>1000.414046</td>\n",
       "    </tr>\n",
       "    <tr>\n",
       "      <th>low</th>\n",
       "      <td>874.217590</td>\n",
       "    </tr>\n",
       "  </tbody>\n",
       "</table>\n",
       "</div>"
      ],
      "text/plain": [
       "                       reaction_time\n",
       "subject   noise_level               \n",
       "Subject 1 high           1065.592634\n",
       "          low             869.429414\n",
       "Subject 2 high           1000.414046\n",
       "          low             874.217590"
      ]
     },
     "execution_count": 63,
     "metadata": {},
     "output_type": "execute_result"
    }
   ],
   "source": [
    "df_dm2=df_dm.groupby(['subject','noise_level'])[['reaction_time']].max()\n",
    "df_dm2"
   ]
  },
  {
   "cell_type": "code",
   "execution_count": 61,
   "metadata": {},
   "outputs": [],
   "source": [
    "def inter_ql(x):\n",
    "  return  x.quantile(.75)-x.quantile(.25)"
   ]
  },
  {
   "cell_type": "code",
   "execution_count": 64,
   "metadata": {},
   "outputs": [],
   "source": [
    "df_dm3=df_dm.groupby(['subject', 'noise_level'])[['reaction_time']].apply(inter_ql)                                                                        "
   ]
  },
  {
   "cell_type": "code",
   "execution_count": 65,
   "metadata": {},
   "outputs": [
    {
     "data": {
      "text/html": [
       "<div>\n",
       "<style scoped>\n",
       "    .dataframe tbody tr th:only-of-type {\n",
       "        vertical-align: middle;\n",
       "    }\n",
       "\n",
       "    .dataframe tbody tr th {\n",
       "        vertical-align: top;\n",
       "    }\n",
       "\n",
       "    .dataframe thead th {\n",
       "        text-align: right;\n",
       "    }\n",
       "</style>\n",
       "<table border=\"1\" class=\"dataframe\">\n",
       "  <thead>\n",
       "    <tr style=\"text-align: right;\">\n",
       "      <th></th>\n",
       "      <th></th>\n",
       "      <th>reaction_time</th>\n",
       "    </tr>\n",
       "    <tr>\n",
       "      <th>subject</th>\n",
       "      <th>noise_level</th>\n",
       "      <th></th>\n",
       "    </tr>\n",
       "  </thead>\n",
       "  <tbody>\n",
       "    <tr>\n",
       "      <th rowspan=\"2\" valign=\"top\">Subject 1</th>\n",
       "      <th>high</th>\n",
       "      <td>155.035221</td>\n",
       "    </tr>\n",
       "    <tr>\n",
       "      <th>low</th>\n",
       "      <td>84.291552</td>\n",
       "    </tr>\n",
       "    <tr>\n",
       "      <th rowspan=\"2\" valign=\"top\">Subject 2</th>\n",
       "      <th>high</th>\n",
       "      <td>134.176659</td>\n",
       "    </tr>\n",
       "    <tr>\n",
       "      <th>low</th>\n",
       "      <td>75.511583</td>\n",
       "    </tr>\n",
       "  </tbody>\n",
       "</table>\n",
       "</div>"
      ],
      "text/plain": [
       "                       reaction_time\n",
       "subject   noise_level               \n",
       "Subject 1 high            155.035221\n",
       "          low              84.291552\n",
       "Subject 2 high            134.176659\n",
       "          low              75.511583"
      ]
     },
     "execution_count": 65,
     "metadata": {},
     "output_type": "execute_result"
    }
   ],
   "source": [
    "df_dm3"
   ]
  },
  {
   "cell_type": "markdown",
   "metadata": {
    "id": "alV_iYtgH0vP"
   },
   "source": [
    "## Data visualization"
   ]
  },
  {
   "cell_type": "markdown",
   "metadata": {
    "id": "lr-_Nj15IKeY"
   },
   "source": [
    "## Matplotlib\n",
    "\n",
    "Matplotlib provides some basic plotting functionality including lineplots, scatterplots, and barplots. In order to use it with some of the data we've been messing around with, we'll need to manipulate the data a little bit. We'll go over this in more detail next class!"
   ]
  },
  {
   "cell_type": "code",
   "execution_count": 66,
   "metadata": {
    "id": "MNf5YZJgI5gw"
   },
   "outputs": [],
   "source": [
    "import matplotlib.pyplot as plt"
   ]
  },
  {
   "cell_type": "code",
   "execution_count": 67,
   "metadata": {},
   "outputs": [
    {
     "ename": "NameError",
     "evalue": "name 'populations' is not defined",
     "output_type": "error",
     "traceback": [
      "\u001b[0;31m---------------------------------------------------------------------------\u001b[0m",
      "\u001b[0;31mNameError\u001b[0m                                 Traceback (most recent call last)",
      "\u001b[0;32m<ipython-input-67-2b9c17bdf7db>\u001b[0m in \u001b[0;36m<module>\u001b[0;34m\u001b[0m\n\u001b[0;32m----> 1\u001b[0;31m \u001b[0mpopulations\u001b[0m\u001b[0;34m\u001b[0m\u001b[0;34m\u001b[0m\u001b[0m\n\u001b[0m",
      "\u001b[0;31mNameError\u001b[0m: name 'populations' is not defined"
     ]
    }
   ],
   "source": [
    "populations"
   ]
  },
  {
   "cell_type": "code",
   "execution_count": 68,
   "metadata": {
    "colab": {
     "base_uri": "https://localhost:8080/",
     "height": 324
    },
    "executionInfo": {
     "elapsed": 404,
     "status": "error",
     "timestamp": 1665436448531,
     "user": {
      "displayName": "Jasmine Stone",
      "userId": "01448888124801736627"
     },
     "user_tz": 240
    },
    "id": "EdAljCe0HG9l",
    "outputId": "8ed1e197-0bcb-4356-999b-d596bcf1fce9"
   },
   "outputs": [],
   "source": [
    "populations = pd.read_csv('populations.csv')\n",
    "populations = populations.drop('Unnamed: 0', axis=1)\n",
    "tidied_populations = populations.melt(id_vars=['Country Name', 'Country Code'], var_name='Year', value_name='population')"
   ]
  },
  {
   "cell_type": "code",
   "execution_count": 69,
   "metadata": {},
   "outputs": [
    {
     "data": {
      "text/html": [
       "<div>\n",
       "<style scoped>\n",
       "    .dataframe tbody tr th:only-of-type {\n",
       "        vertical-align: middle;\n",
       "    }\n",
       "\n",
       "    .dataframe tbody tr th {\n",
       "        vertical-align: top;\n",
       "    }\n",
       "\n",
       "    .dataframe thead th {\n",
       "        text-align: right;\n",
       "    }\n",
       "</style>\n",
       "<table border=\"1\" class=\"dataframe\">\n",
       "  <thead>\n",
       "    <tr style=\"text-align: right;\">\n",
       "      <th></th>\n",
       "      <th>Country Name</th>\n",
       "      <th>Country Code</th>\n",
       "      <th>1960</th>\n",
       "      <th>1961</th>\n",
       "      <th>1962</th>\n",
       "      <th>1963</th>\n",
       "      <th>1964</th>\n",
       "      <th>1965</th>\n",
       "      <th>1966</th>\n",
       "      <th>1967</th>\n",
       "      <th>...</th>\n",
       "      <th>2009</th>\n",
       "      <th>2010</th>\n",
       "      <th>2011</th>\n",
       "      <th>2012</th>\n",
       "      <th>2013</th>\n",
       "      <th>2014</th>\n",
       "      <th>2015</th>\n",
       "      <th>2016</th>\n",
       "      <th>2017</th>\n",
       "      <th>2018</th>\n",
       "    </tr>\n",
       "  </thead>\n",
       "  <tbody>\n",
       "    <tr>\n",
       "      <th>0</th>\n",
       "      <td>Afghanistan</td>\n",
       "      <td>AFG</td>\n",
       "      <td>8996973</td>\n",
       "      <td>9169410</td>\n",
       "      <td>9351441</td>\n",
       "      <td>9543205</td>\n",
       "      <td>9744781</td>\n",
       "      <td>9956320</td>\n",
       "      <td>10174836</td>\n",
       "      <td>10399926</td>\n",
       "      <td>...</td>\n",
       "      <td>28394813</td>\n",
       "      <td>29185507</td>\n",
       "      <td>30117413</td>\n",
       "      <td>31161376</td>\n",
       "      <td>32269589</td>\n",
       "      <td>33370794</td>\n",
       "      <td>34413603</td>\n",
       "      <td>35383128</td>\n",
       "      <td>36296400</td>\n",
       "      <td>37172386</td>\n",
       "    </tr>\n",
       "    <tr>\n",
       "      <th>1</th>\n",
       "      <td>Albania</td>\n",
       "      <td>ALB</td>\n",
       "      <td>1608800</td>\n",
       "      <td>1659800</td>\n",
       "      <td>1711319</td>\n",
       "      <td>1762621</td>\n",
       "      <td>1814135</td>\n",
       "      <td>1864791</td>\n",
       "      <td>1914573</td>\n",
       "      <td>1965598</td>\n",
       "      <td>...</td>\n",
       "      <td>2927519</td>\n",
       "      <td>2913021</td>\n",
       "      <td>2905195</td>\n",
       "      <td>2900401</td>\n",
       "      <td>2895092</td>\n",
       "      <td>2889104</td>\n",
       "      <td>2880703</td>\n",
       "      <td>2876101</td>\n",
       "      <td>2873457</td>\n",
       "      <td>2866376</td>\n",
       "    </tr>\n",
       "    <tr>\n",
       "      <th>2</th>\n",
       "      <td>Algeria</td>\n",
       "      <td>DZA</td>\n",
       "      <td>11057863</td>\n",
       "      <td>11336339</td>\n",
       "      <td>11619828</td>\n",
       "      <td>11912803</td>\n",
       "      <td>12221675</td>\n",
       "      <td>12550885</td>\n",
       "      <td>12902627</td>\n",
       "      <td>13275026</td>\n",
       "      <td>...</td>\n",
       "      <td>35333881</td>\n",
       "      <td>35977455</td>\n",
       "      <td>36661444</td>\n",
       "      <td>37383887</td>\n",
       "      <td>38140132</td>\n",
       "      <td>38923687</td>\n",
       "      <td>39728025</td>\n",
       "      <td>40551404</td>\n",
       "      <td>41389198</td>\n",
       "      <td>42228429</td>\n",
       "    </tr>\n",
       "    <tr>\n",
       "      <th>3</th>\n",
       "      <td>American Samoa</td>\n",
       "      <td>ASM</td>\n",
       "      <td>20123</td>\n",
       "      <td>20602</td>\n",
       "      <td>21253</td>\n",
       "      <td>22034</td>\n",
       "      <td>22854</td>\n",
       "      <td>23672</td>\n",
       "      <td>24462</td>\n",
       "      <td>25248</td>\n",
       "      <td>...</td>\n",
       "      <td>56683</td>\n",
       "      <td>56079</td>\n",
       "      <td>55759</td>\n",
       "      <td>55667</td>\n",
       "      <td>55713</td>\n",
       "      <td>55791</td>\n",
       "      <td>55812</td>\n",
       "      <td>55741</td>\n",
       "      <td>55620</td>\n",
       "      <td>55465</td>\n",
       "    </tr>\n",
       "    <tr>\n",
       "      <th>4</th>\n",
       "      <td>Andorra</td>\n",
       "      <td>AND</td>\n",
       "      <td>13411</td>\n",
       "      <td>14375</td>\n",
       "      <td>15370</td>\n",
       "      <td>16412</td>\n",
       "      <td>17469</td>\n",
       "      <td>18549</td>\n",
       "      <td>19647</td>\n",
       "      <td>20758</td>\n",
       "      <td>...</td>\n",
       "      <td>84463</td>\n",
       "      <td>84449</td>\n",
       "      <td>83747</td>\n",
       "      <td>82427</td>\n",
       "      <td>80774</td>\n",
       "      <td>79213</td>\n",
       "      <td>78011</td>\n",
       "      <td>77297</td>\n",
       "      <td>77001</td>\n",
       "      <td>77006</td>\n",
       "    </tr>\n",
       "  </tbody>\n",
       "</table>\n",
       "<p>5 rows × 61 columns</p>\n",
       "</div>"
      ],
      "text/plain": [
       "     Country Name Country Code      1960      1961      1962      1963  \\\n",
       "0     Afghanistan          AFG   8996973   9169410   9351441   9543205   \n",
       "1         Albania          ALB   1608800   1659800   1711319   1762621   \n",
       "2         Algeria          DZA  11057863  11336339  11619828  11912803   \n",
       "3  American Samoa          ASM     20123     20602     21253     22034   \n",
       "4         Andorra          AND     13411     14375     15370     16412   \n",
       "\n",
       "       1964      1965      1966      1967  ...      2009      2010      2011  \\\n",
       "0   9744781   9956320  10174836  10399926  ...  28394813  29185507  30117413   \n",
       "1   1814135   1864791   1914573   1965598  ...   2927519   2913021   2905195   \n",
       "2  12221675  12550885  12902627  13275026  ...  35333881  35977455  36661444   \n",
       "3     22854     23672     24462     25248  ...     56683     56079     55759   \n",
       "4     17469     18549     19647     20758  ...     84463     84449     83747   \n",
       "\n",
       "       2012      2013      2014      2015      2016      2017      2018  \n",
       "0  31161376  32269589  33370794  34413603  35383128  36296400  37172386  \n",
       "1   2900401   2895092   2889104   2880703   2876101   2873457   2866376  \n",
       "2  37383887  38140132  38923687  39728025  40551404  41389198  42228429  \n",
       "3     55667     55713     55791     55812     55741     55620     55465  \n",
       "4     82427     80774     79213     78011     77297     77001     77006  \n",
       "\n",
       "[5 rows x 61 columns]"
      ]
     },
     "execution_count": 69,
     "metadata": {},
     "output_type": "execute_result"
    }
   ],
   "source": [
    "populations.head()"
   ]
  },
  {
   "cell_type": "code",
   "execution_count": 70,
   "metadata": {},
   "outputs": [
    {
     "data": {
      "text/html": [
       "<div>\n",
       "<style scoped>\n",
       "    .dataframe tbody tr th:only-of-type {\n",
       "        vertical-align: middle;\n",
       "    }\n",
       "\n",
       "    .dataframe tbody tr th {\n",
       "        vertical-align: top;\n",
       "    }\n",
       "\n",
       "    .dataframe thead th {\n",
       "        text-align: right;\n",
       "    }\n",
       "</style>\n",
       "<table border=\"1\" class=\"dataframe\">\n",
       "  <thead>\n",
       "    <tr style=\"text-align: right;\">\n",
       "      <th></th>\n",
       "      <th>Country Name</th>\n",
       "      <th>Country Code</th>\n",
       "      <th>Year</th>\n",
       "      <th>population</th>\n",
       "    </tr>\n",
       "  </thead>\n",
       "  <tbody>\n",
       "    <tr>\n",
       "      <th>0</th>\n",
       "      <td>Afghanistan</td>\n",
       "      <td>AFG</td>\n",
       "      <td>1960</td>\n",
       "      <td>8996973</td>\n",
       "    </tr>\n",
       "    <tr>\n",
       "      <th>1</th>\n",
       "      <td>Albania</td>\n",
       "      <td>ALB</td>\n",
       "      <td>1960</td>\n",
       "      <td>1608800</td>\n",
       "    </tr>\n",
       "    <tr>\n",
       "      <th>2</th>\n",
       "      <td>Algeria</td>\n",
       "      <td>DZA</td>\n",
       "      <td>1960</td>\n",
       "      <td>11057863</td>\n",
       "    </tr>\n",
       "    <tr>\n",
       "      <th>3</th>\n",
       "      <td>American Samoa</td>\n",
       "      <td>ASM</td>\n",
       "      <td>1960</td>\n",
       "      <td>20123</td>\n",
       "    </tr>\n",
       "    <tr>\n",
       "      <th>4</th>\n",
       "      <td>Andorra</td>\n",
       "      <td>AND</td>\n",
       "      <td>1960</td>\n",
       "      <td>13411</td>\n",
       "    </tr>\n",
       "  </tbody>\n",
       "</table>\n",
       "</div>"
      ],
      "text/plain": [
       "     Country Name Country Code  Year  population\n",
       "0     Afghanistan          AFG  1960     8996973\n",
       "1         Albania          ALB  1960     1608800\n",
       "2         Algeria          DZA  1960    11057863\n",
       "3  American Samoa          ASM  1960       20123\n",
       "4         Andorra          AND  1960       13411"
      ]
     },
     "execution_count": 70,
     "metadata": {},
     "output_type": "execute_result"
    }
   ],
   "source": [
    "tidied_populations.head()"
   ]
  },
  {
   "cell_type": "code",
   "execution_count": 72,
   "metadata": {
    "id": "B1u_sYZUIkz3"
   },
   "outputs": [
    {
     "data": {
      "text/html": [
       "<div>\n",
       "<style scoped>\n",
       "    .dataframe tbody tr th:only-of-type {\n",
       "        vertical-align: middle;\n",
       "    }\n",
       "\n",
       "    .dataframe tbody tr th {\n",
       "        vertical-align: top;\n",
       "    }\n",
       "\n",
       "    .dataframe thead th {\n",
       "        text-align: right;\n",
       "    }\n",
       "</style>\n",
       "<table border=\"1\" class=\"dataframe\">\n",
       "  <thead>\n",
       "    <tr style=\"text-align: right;\">\n",
       "      <th></th>\n",
       "      <th>Country Name</th>\n",
       "      <th>Country Code</th>\n",
       "      <th>Year</th>\n",
       "      <th>population</th>\n",
       "    </tr>\n",
       "  </thead>\n",
       "  <tbody>\n",
       "    <tr>\n",
       "      <th>7</th>\n",
       "      <td>Argentina</td>\n",
       "      <td>ARG</td>\n",
       "      <td>1960</td>\n",
       "      <td>20481779</td>\n",
       "    </tr>\n",
       "    <tr>\n",
       "      <th>20</th>\n",
       "      <td>Argentina</td>\n",
       "      <td>ARG</td>\n",
       "      <td>1961</td>\n",
       "      <td>20817266</td>\n",
       "    </tr>\n",
       "    <tr>\n",
       "      <th>33</th>\n",
       "      <td>Argentina</td>\n",
       "      <td>ARG</td>\n",
       "      <td>1962</td>\n",
       "      <td>21153052</td>\n",
       "    </tr>\n",
       "    <tr>\n",
       "      <th>46</th>\n",
       "      <td>Argentina</td>\n",
       "      <td>ARG</td>\n",
       "      <td>1963</td>\n",
       "      <td>21488912</td>\n",
       "    </tr>\n",
       "    <tr>\n",
       "      <th>59</th>\n",
       "      <td>Argentina</td>\n",
       "      <td>ARG</td>\n",
       "      <td>1964</td>\n",
       "      <td>21824425</td>\n",
       "    </tr>\n",
       "  </tbody>\n",
       "</table>\n",
       "</div>"
      ],
      "text/plain": [
       "   Country Name Country Code  Year  population\n",
       "7     Argentina          ARG  1960    20481779\n",
       "20    Argentina          ARG  1961    20817266\n",
       "33    Argentina          ARG  1962    21153052\n",
       "46    Argentina          ARG  1963    21488912\n",
       "59    Argentina          ARG  1964    21824425"
      ]
     },
     "execution_count": 72,
     "metadata": {},
     "output_type": "execute_result"
    }
   ],
   "source": [
    "# Create a data frame that only contains the population for Canada\n",
    "arg_population = tidied_populations[tidied_populations['Country Name'] == 'Argentina']\n",
    "arg_population.head()"
   ]
  },
  {
   "cell_type": "code",
   "execution_count": 73,
   "metadata": {
    "id": "W3a9eJvnIwyC"
   },
   "outputs": [
    {
     "data": {
      "text/plain": [
       "[<matplotlib.lines.Line2D at 0x7f9c753ef1c0>]"
      ]
     },
     "execution_count": 73,
     "metadata": {},
     "output_type": "execute_result"
    },
    {
     "data": {
      "image/png": "[encoded data removed]",
      "text/plain": [
       "<Figure size 432x288 with 1 Axes>"
      ]
     },
     "metadata": {
      "needs_background": "light"
     },
     "output_type": "display_data"
    }
   ],
   "source": [
    "plt.plot(arg_population['Year'], arg_population['population'])"
   ]
  },
  {
   "cell_type": "markdown",
   "metadata": {
    "id": "v3PKNJORJUgs"
   },
   "source": [
    "### Exercise\n",
    "1. Create a data frame that contains the average of the selected countries for each year.\n",
    "2. Plot this average as a lineplot over the years."
   ]
  },
  {
   "cell_type": "code",
   "execution_count": 82,
   "metadata": {},
   "outputs": [],
   "source": [
    "tidied_populations_df2=tidied_populations"
   ]
  },
  {
   "cell_type": "code",
   "execution_count": 93,
   "metadata": {},
   "outputs": [
    {
     "data": {
      "text/plain": [
       "<pandas.core.groupby.generic.DataFrameGroupBy object at 0x7f9c794c6c40>"
      ]
     },
     "execution_count": 93,
     "metadata": {},
     "output_type": "execute_result"
    }
   ],
   "source": [
    "tidied_populations_df2.groupby(['Country Name','Year'])"
   ]
  },
  {
   "cell_type": "code",
   "execution_count": null,
   "metadata": {},
   "outputs": [],
   "source": [
    "df_dm.groupby(['subject'])\\\n",
    "                              [['reaction_time', 'accuracy']]\\\n",
    "                             .apply(np.mean)\\\n",
    "                             .reset_index()"
   ]
  },
  {
   "cell_type": "code",
   "execution_count": 91,
   "metadata": {},
   "outputs": [
    {
     "ename": "TypeError",
     "evalue": "incompatible index of inserted column with frame index",
     "output_type": "error",
     "traceback": [
      "\u001b[0;31m---------------------------------------------------------------------------\u001b[0m",
      "\u001b[0;31mValueError\u001b[0m                                Traceback (most recent call last)",
      "\u001b[0;32m/opt/anaconda3/lib/python3.8/site-packages/pandas/core/frame.py\u001b[0m in \u001b[0;36mreindexer\u001b[0;34m(value)\u001b[0m\n\u001b[1;32m   3726\u001b[0m                 \u001b[0;32mtry\u001b[0m\u001b[0;34m:\u001b[0m\u001b[0;34m\u001b[0m\u001b[0;34m\u001b[0m\u001b[0m\n\u001b[0;32m-> 3727\u001b[0;31m                     \u001b[0mvalue\u001b[0m \u001b[0;34m=\u001b[0m \u001b[0mvalue\u001b[0m\u001b[0;34m.\u001b[0m\u001b[0mreindex\u001b[0m\u001b[0;34m(\u001b[0m\u001b[0mself\u001b[0m\u001b[0;34m.\u001b[0m\u001b[0mindex\u001b[0m\u001b[0;34m)\u001b[0m\u001b[0;34m.\u001b[0m\u001b[0m_values\u001b[0m\u001b[0;34m\u001b[0m\u001b[0;34m\u001b[0m\u001b[0m\n\u001b[0m\u001b[1;32m   3728\u001b[0m                 \u001b[0;32mexcept\u001b[0m \u001b[0mValueError\u001b[0m \u001b[0;32mas\u001b[0m \u001b[0merr\u001b[0m\u001b[0;34m:\u001b[0m\u001b[0;34m\u001b[0m\u001b[0;34m\u001b[0m\u001b[0m\n",
      "\u001b[0;32m/opt/anaconda3/lib/python3.8/site-packages/pandas/util/_decorators.py\u001b[0m in \u001b[0;36mwrapper\u001b[0;34m(*args, **kwargs)\u001b[0m\n\u001b[1;32m    308\u001b[0m         \u001b[0;32mdef\u001b[0m \u001b[0mwrapper\u001b[0m\u001b[0;34m(\u001b[0m\u001b[0;34m*\u001b[0m\u001b[0margs\u001b[0m\u001b[0;34m,\u001b[0m \u001b[0;34m**\u001b[0m\u001b[0mkwargs\u001b[0m\u001b[0;34m)\u001b[0m \u001b[0;34m->\u001b[0m \u001b[0mCallable\u001b[0m\u001b[0;34m[\u001b[0m\u001b[0;34m...\u001b[0m\u001b[0;34m,\u001b[0m \u001b[0mAny\u001b[0m\u001b[0;34m]\u001b[0m\u001b[0;34m:\u001b[0m\u001b[0;34m\u001b[0m\u001b[0;34m\u001b[0m\u001b[0m\n\u001b[0;32m--> 309\u001b[0;31m             \u001b[0;32mreturn\u001b[0m \u001b[0mfunc\u001b[0m\u001b[0;34m(\u001b[0m\u001b[0;34m*\u001b[0m\u001b[0margs\u001b[0m\u001b[0;34m,\u001b[0m \u001b[0;34m**\u001b[0m\u001b[0mkwargs\u001b[0m\u001b[0;34m)\u001b[0m\u001b[0;34m\u001b[0m\u001b[0;34m\u001b[0m\u001b[0m\n\u001b[0m\u001b[1;32m    310\u001b[0m \u001b[0;34m\u001b[0m\u001b[0m\n",
      "\u001b[0;32m/opt/anaconda3/lib/python3.8/site-packages/pandas/core/frame.py\u001b[0m in \u001b[0;36mreindex\u001b[0;34m(self, *args, **kwargs)\u001b[0m\n\u001b[1;32m   4031\u001b[0m         \u001b[0mkwargs\u001b[0m\u001b[0;34m.\u001b[0m\u001b[0mpop\u001b[0m\u001b[0;34m(\u001b[0m\u001b[0;34m\"labels\"\u001b[0m\u001b[0;34m,\u001b[0m \u001b[0;32mNone\u001b[0m\u001b[0;34m)\u001b[0m\u001b[0;34m\u001b[0m\u001b[0;34m\u001b[0m\u001b[0m\n\u001b[0;32m-> 4032\u001b[0;31m         \u001b[0;32mreturn\u001b[0m \u001b[0msuper\u001b[0m\u001b[0;34m(\u001b[0m\u001b[0;34m)\u001b[0m\u001b[0;34m.\u001b[0m\u001b[0mreindex\u001b[0m\u001b[0;34m(\u001b[0m\u001b[0;34m**\u001b[0m\u001b[0mkwargs\u001b[0m\u001b[0;34m)\u001b[0m\u001b[0;34m\u001b[0m\u001b[0;34m\u001b[0m\u001b[0m\n\u001b[0m\u001b[1;32m   4033\u001b[0m \u001b[0;34m\u001b[0m\u001b[0m\n",
      "\u001b[0;32m/opt/anaconda3/lib/python3.8/site-packages/pandas/core/generic.py\u001b[0m in \u001b[0;36mreindex\u001b[0;34m(self, *args, **kwargs)\u001b[0m\n\u001b[1;32m   4460\u001b[0m         \u001b[0;31m# perform the reindex on the axes\u001b[0m\u001b[0;34m\u001b[0m\u001b[0;34m\u001b[0m\u001b[0;34m\u001b[0m\u001b[0m\n\u001b[0;32m-> 4461\u001b[0;31m         return self._reindex_axes(\n\u001b[0m\u001b[1;32m   4462\u001b[0m             \u001b[0maxes\u001b[0m\u001b[0;34m,\u001b[0m \u001b[0mlevel\u001b[0m\u001b[0;34m,\u001b[0m \u001b[0mlimit\u001b[0m\u001b[0;34m,\u001b[0m \u001b[0mtolerance\u001b[0m\u001b[0;34m,\u001b[0m \u001b[0mmethod\u001b[0m\u001b[0;34m,\u001b[0m \u001b[0mfill_value\u001b[0m\u001b[0;34m,\u001b[0m \u001b[0mcopy\u001b[0m\u001b[0;34m\u001b[0m\u001b[0;34m\u001b[0m\u001b[0m\n",
      "\u001b[0;32m/opt/anaconda3/lib/python3.8/site-packages/pandas/core/frame.py\u001b[0m in \u001b[0;36m_reindex_axes\u001b[0;34m(self, axes, level, limit, tolerance, method, fill_value, copy)\u001b[0m\n\u001b[1;32m   3877\u001b[0m         \u001b[0;32mif\u001b[0m \u001b[0mindex\u001b[0m \u001b[0;32mis\u001b[0m \u001b[0;32mnot\u001b[0m \u001b[0;32mNone\u001b[0m\u001b[0;34m:\u001b[0m\u001b[0;34m\u001b[0m\u001b[0;34m\u001b[0m\u001b[0m\n\u001b[0;32m-> 3878\u001b[0;31m             frame = frame._reindex_index(\n\u001b[0m\u001b[1;32m   3879\u001b[0m                 \u001b[0mindex\u001b[0m\u001b[0;34m,\u001b[0m \u001b[0mmethod\u001b[0m\u001b[0;34m,\u001b[0m \u001b[0mcopy\u001b[0m\u001b[0;34m,\u001b[0m \u001b[0mlevel\u001b[0m\u001b[0;34m,\u001b[0m \u001b[0mfill_value\u001b[0m\u001b[0;34m,\u001b[0m \u001b[0mlimit\u001b[0m\u001b[0;34m,\u001b[0m \u001b[0mtolerance\u001b[0m\u001b[0;34m\u001b[0m\u001b[0;34m\u001b[0m\u001b[0m\n",
      "\u001b[0;32m/opt/anaconda3/lib/python3.8/site-packages/pandas/core/frame.py\u001b[0m in \u001b[0;36m_reindex_index\u001b[0;34m(self, new_index, method, copy, level, fill_value, limit, tolerance)\u001b[0m\n\u001b[1;32m   3893\u001b[0m     ):\n\u001b[0;32m-> 3894\u001b[0;31m         new_index, indexer = self.index.reindex(\n\u001b[0m\u001b[1;32m   3895\u001b[0m             \u001b[0mnew_index\u001b[0m\u001b[0;34m,\u001b[0m \u001b[0mmethod\u001b[0m\u001b[0;34m=\u001b[0m\u001b[0mmethod\u001b[0m\u001b[0;34m,\u001b[0m \u001b[0mlevel\u001b[0m\u001b[0;34m=\u001b[0m\u001b[0mlevel\u001b[0m\u001b[0;34m,\u001b[0m \u001b[0mlimit\u001b[0m\u001b[0;34m=\u001b[0m\u001b[0mlimit\u001b[0m\u001b[0;34m,\u001b[0m \u001b[0mtolerance\u001b[0m\u001b[0;34m=\u001b[0m\u001b[0mtolerance\u001b[0m\u001b[0;34m\u001b[0m\u001b[0;34m\u001b[0m\u001b[0m\n",
      "\u001b[0;32m/opt/anaconda3/lib/python3.8/site-packages/pandas/core/indexes/multi.py\u001b[0m in \u001b[0;36mreindex\u001b[0;34m(self, target, method, level, limit, tolerance)\u001b[0m\n\u001b[1;32m   2324\u001b[0m                 \u001b[0;31m# hopefully?\u001b[0m\u001b[0;34m\u001b[0m\u001b[0;34m\u001b[0m\u001b[0;34m\u001b[0m\u001b[0m\n\u001b[0;32m-> 2325\u001b[0;31m                 \u001b[0mtarget\u001b[0m \u001b[0;34m=\u001b[0m \u001b[0mMultiIndex\u001b[0m\u001b[0;34m.\u001b[0m\u001b[0mfrom_tuples\u001b[0m\u001b[0;34m(\u001b[0m\u001b[0mtarget\u001b[0m\u001b[0;34m)\u001b[0m\u001b[0;34m\u001b[0m\u001b[0;34m\u001b[0m\u001b[0m\n\u001b[0m\u001b[1;32m   2326\u001b[0m \u001b[0;34m\u001b[0m\u001b[0m\n",
      "\u001b[0;32m/opt/anaconda3/lib/python3.8/site-packages/pandas/core/indexes/multi.py\u001b[0m in \u001b[0;36mfrom_tuples\u001b[0;34m(cls, tuples, sortorder, names)\u001b[0m\n\u001b[1;32m    500\u001b[0m \u001b[0;34m\u001b[0m\u001b[0m\n\u001b[0;32m--> 501\u001b[0;31m             \u001b[0marrays\u001b[0m \u001b[0;34m=\u001b[0m \u001b[0mlist\u001b[0m\u001b[0;34m(\u001b[0m\u001b[0mlib\u001b[0m\u001b[0;34m.\u001b[0m\u001b[0mtuples_to_object_array\u001b[0m\u001b[0;34m(\u001b[0m\u001b[0mtuples\u001b[0m\u001b[0;34m)\u001b[0m\u001b[0;34m.\u001b[0m\u001b[0mT\u001b[0m\u001b[0;34m)\u001b[0m\u001b[0;34m\u001b[0m\u001b[0;34m\u001b[0m\u001b[0m\n\u001b[0m\u001b[1;32m    502\u001b[0m         \u001b[0;32melif\u001b[0m \u001b[0misinstance\u001b[0m\u001b[0;34m(\u001b[0m\u001b[0mtuples\u001b[0m\u001b[0;34m,\u001b[0m \u001b[0mlist\u001b[0m\u001b[0;34m)\u001b[0m\u001b[0;34m:\u001b[0m\u001b[0;34m\u001b[0m\u001b[0;34m\u001b[0m\u001b[0m\n",
      "\u001b[0;32mpandas/_libs/lib.pyx\u001b[0m in \u001b[0;36mpandas._libs.lib.tuples_to_object_array\u001b[0;34m()\u001b[0m\n",
      "\u001b[0;31mValueError\u001b[0m: Buffer dtype mismatch, expected 'Python object' but got 'long'",
      "\nThe above exception was the direct cause of the following exception:\n",
      "\u001b[0;31mTypeError\u001b[0m                                 Traceback (most recent call last)",
      "\u001b[0;32m<ipython-input-91-da4a025b8381>\u001b[0m in \u001b[0;36m<module>\u001b[0;34m\u001b[0m\n\u001b[0;32m----> 1\u001b[0;31m \u001b[0mtidied_populations_df2\u001b[0m\u001b[0;34m[\u001b[0m\u001b[0;34m'average'\u001b[0m\u001b[0;34m]\u001b[0m\u001b[0;34m=\u001b[0m\u001b[0mtidied_populations_df2\u001b[0m\u001b[0;34m.\u001b[0m\u001b[0mgroupby\u001b[0m\u001b[0;34m(\u001b[0m\u001b[0;34m[\u001b[0m\u001b[0;34m'Country Name'\u001b[0m\u001b[0;34m,\u001b[0m\u001b[0;34m'Year'\u001b[0m\u001b[0;34m]\u001b[0m\u001b[0;34m)\u001b[0m\u001b[0;34m[\u001b[0m\u001b[0;34m[\u001b[0m\u001b[0;34m'population'\u001b[0m\u001b[0;34m]\u001b[0m\u001b[0;34m]\u001b[0m\u001b[0;34m.\u001b[0m\u001b[0mmean\u001b[0m\u001b[0;34m(\u001b[0m\u001b[0;34m)\u001b[0m\u001b[0;34m\u001b[0m\u001b[0;34m\u001b[0m\u001b[0m\n\u001b[0m\u001b[1;32m      2\u001b[0m \u001b[0mtidied_populations_df2\u001b[0m\u001b[0;34m\u001b[0m\u001b[0;34m\u001b[0m\u001b[0m\n",
      "\u001b[0;32m/opt/anaconda3/lib/python3.8/site-packages/pandas/core/frame.py\u001b[0m in \u001b[0;36m__setitem__\u001b[0;34m(self, key, value)\u001b[0m\n\u001b[1;32m   3038\u001b[0m         \u001b[0;32melse\u001b[0m\u001b[0;34m:\u001b[0m\u001b[0;34m\u001b[0m\u001b[0;34m\u001b[0m\u001b[0m\n\u001b[1;32m   3039\u001b[0m             \u001b[0;31m# set column\u001b[0m\u001b[0;34m\u001b[0m\u001b[0;34m\u001b[0m\u001b[0;34m\u001b[0m\u001b[0m\n\u001b[0;32m-> 3040\u001b[0;31m             \u001b[0mself\u001b[0m\u001b[0;34m.\u001b[0m\u001b[0m_set_item\u001b[0m\u001b[0;34m(\u001b[0m\u001b[0mkey\u001b[0m\u001b[0;34m,\u001b[0m \u001b[0mvalue\u001b[0m\u001b[0;34m)\u001b[0m\u001b[0;34m\u001b[0m\u001b[0;34m\u001b[0m\u001b[0m\n\u001b[0m\u001b[1;32m   3041\u001b[0m \u001b[0;34m\u001b[0m\u001b[0m\n\u001b[1;32m   3042\u001b[0m     \u001b[0;32mdef\u001b[0m \u001b[0m_setitem_slice\u001b[0m\u001b[0;34m(\u001b[0m\u001b[0mself\u001b[0m\u001b[0;34m,\u001b[0m \u001b[0mkey\u001b[0m\u001b[0;34m:\u001b[0m \u001b[0mslice\u001b[0m\u001b[0;34m,\u001b[0m \u001b[0mvalue\u001b[0m\u001b[0;34m)\u001b[0m\u001b[0;34m:\u001b[0m\u001b[0;34m\u001b[0m\u001b[0;34m\u001b[0m\u001b[0m\n",
      "\u001b[0;32m/opt/anaconda3/lib/python3.8/site-packages/pandas/core/frame.py\u001b[0m in \u001b[0;36m_set_item\u001b[0;34m(self, key, value)\u001b[0m\n\u001b[1;32m   3114\u001b[0m         \"\"\"\n\u001b[1;32m   3115\u001b[0m         \u001b[0mself\u001b[0m\u001b[0;34m.\u001b[0m\u001b[0m_ensure_valid_index\u001b[0m\u001b[0;34m(\u001b[0m\u001b[0mvalue\u001b[0m\u001b[0;34m)\u001b[0m\u001b[0;34m\u001b[0m\u001b[0;34m\u001b[0m\u001b[0m\n\u001b[0;32m-> 3116\u001b[0;31m         \u001b[0mvalue\u001b[0m \u001b[0;34m=\u001b[0m \u001b[0mself\u001b[0m\u001b[0;34m.\u001b[0m\u001b[0m_sanitize_column\u001b[0m\u001b[0;34m(\u001b[0m\u001b[0mkey\u001b[0m\u001b[0;34m,\u001b[0m \u001b[0mvalue\u001b[0m\u001b[0;34m)\u001b[0m\u001b[0;34m\u001b[0m\u001b[0;34m\u001b[0m\u001b[0m\n\u001b[0m\u001b[1;32m   3117\u001b[0m         \u001b[0mNDFrame\u001b[0m\u001b[0;34m.\u001b[0m\u001b[0m_set_item\u001b[0m\u001b[0;34m(\u001b[0m\u001b[0mself\u001b[0m\u001b[0;34m,\u001b[0m \u001b[0mkey\u001b[0m\u001b[0;34m,\u001b[0m \u001b[0mvalue\u001b[0m\u001b[0;34m)\u001b[0m\u001b[0;34m\u001b[0m\u001b[0;34m\u001b[0m\u001b[0m\n\u001b[1;32m   3118\u001b[0m \u001b[0;34m\u001b[0m\u001b[0m\n",
      "\u001b[0;32m/opt/anaconda3/lib/python3.8/site-packages/pandas/core/frame.py\u001b[0m in \u001b[0;36m_sanitize_column\u001b[0;34m(self, key, value, broadcast)\u001b[0m\n\u001b[1;32m   3751\u001b[0m                         \u001b[0mvalue\u001b[0m \u001b[0;34m=\u001b[0m \u001b[0mvalue\u001b[0m\u001b[0;34m.\u001b[0m\u001b[0mreindex\u001b[0m\u001b[0;34m(\u001b[0m\u001b[0mcols\u001b[0m\u001b[0;34m,\u001b[0m \u001b[0maxis\u001b[0m\u001b[0;34m=\u001b[0m\u001b[0;36m1\u001b[0m\u001b[0;34m)\u001b[0m\u001b[0;34m\u001b[0m\u001b[0;34m\u001b[0m\u001b[0m\n\u001b[1;32m   3752\u001b[0m             \u001b[0;31m# now align rows\u001b[0m\u001b[0;34m\u001b[0m\u001b[0;34m\u001b[0m\u001b[0;34m\u001b[0m\u001b[0m\n\u001b[0;32m-> 3753\u001b[0;31m             \u001b[0mvalue\u001b[0m \u001b[0;34m=\u001b[0m \u001b[0mreindexer\u001b[0m\u001b[0;34m(\u001b[0m\u001b[0mvalue\u001b[0m\u001b[0;34m)\u001b[0m\u001b[0;34m.\u001b[0m\u001b[0mT\u001b[0m\u001b[0;34m\u001b[0m\u001b[0;34m\u001b[0m\u001b[0m\n\u001b[0m\u001b[1;32m   3754\u001b[0m \u001b[0;34m\u001b[0m\u001b[0m\n\u001b[1;32m   3755\u001b[0m         \u001b[0;32melif\u001b[0m \u001b[0misinstance\u001b[0m\u001b[0;34m(\u001b[0m\u001b[0mvalue\u001b[0m\u001b[0;34m,\u001b[0m \u001b[0mExtensionArray\u001b[0m\u001b[0;34m)\u001b[0m\u001b[0;34m:\u001b[0m\u001b[0;34m\u001b[0m\u001b[0;34m\u001b[0m\u001b[0m\n",
      "\u001b[0;32m/opt/anaconda3/lib/python3.8/site-packages/pandas/core/frame.py\u001b[0m in \u001b[0;36mreindexer\u001b[0;34m(value)\u001b[0m\n\u001b[1;32m   3733\u001b[0m \u001b[0;34m\u001b[0m\u001b[0m\n\u001b[1;32m   3734\u001b[0m                     \u001b[0;31m# other\u001b[0m\u001b[0;34m\u001b[0m\u001b[0;34m\u001b[0m\u001b[0;34m\u001b[0m\u001b[0m\n\u001b[0;32m-> 3735\u001b[0;31m                     raise TypeError(\n\u001b[0m\u001b[1;32m   3736\u001b[0m                         \u001b[0;34m\"incompatible index of inserted column with frame index\"\u001b[0m\u001b[0;34m\u001b[0m\u001b[0;34m\u001b[0m\u001b[0m\n\u001b[1;32m   3737\u001b[0m                     ) from err\n",
      "\u001b[0;31mTypeError\u001b[0m: incompatible index of inserted column with frame index"
     ]
    }
   ],
   "source": [
    "tidied_populations_df2['average']=tidied_populations_df2.groupby(['Country Name','Year'])[['population']].mean()\n",
    "tidied_populations_df2"
   ]
  },
  {
   "cell_type": "code",
   "execution_count": 85,
   "metadata": {},
   "outputs": [
    {
     "data": {
      "text/plain": [
       "[<matplotlib.lines.Line2D at 0x7f9c79460ca0>]"
      ]
     },
     "execution_count": 85,
     "metadata": {},
     "output_type": "execute_result"
    },
    {
     "data": {
      "image/png": "[encoded data removed]",
      "text/plain": [
       "<Figure size 432x288 with 1 Axes>"
      ]
     },
     "metadata": {
      "needs_background": "light"
     },
     "output_type": "display_data"
    }
   ],
   "source": [
    "plt.plot(tidied_populations.groupby('Year').mean())\n"
   ]
  },
  {
   "cell_type": "markdown",
   "metadata": {},
   "source": [
    "## A taste of what's coming up next week!"
   ]
  },
  {
   "cell_type": "code",
   "execution_count": null,
   "metadata": {},
   "outputs": [],
   "source": [
    "import seaborn as sns\n",
    "sns.lineplot(data=tidied_populations, x='Year', y='population', hue = 'Country Code')"
   ]
  },
  {
   "cell_type": "code",
   "execution_count": null,
   "metadata": {},
   "outputs": [],
   "source": []
  },
  {
   "cell_type": "code",
   "execution_count": null,
   "metadata": {},
   "outputs": [],
   "source": []
  }
 ],
 "metadata": {
  "colab": {
   "provenance": []
  },
  "kernelspec": {
   "display_name": "Python 3",
   "language": "python",
   "name": "python3"
  },
  "language_info": {
   "codemirror_mode": {
    "name": "ipython",
    "version": 3
   },
   "file_extension": ".py",
   "mimetype": "text/x-python",
   "name": "python",
   "nbconvert_exporter": "python",
   "pygments_lexer": "ipython3",
   "version": "3.8.5"
  }
 },
 "nbformat": 4,
 "nbformat_minor": 1
}
