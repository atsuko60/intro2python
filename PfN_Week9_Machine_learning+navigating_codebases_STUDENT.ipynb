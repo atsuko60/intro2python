{
 "cells": [
  {
   "cell_type": "markdown",
   "metadata": {
    "id": "NmVJfktZ7fTC"
   },
   "source": [
    "![Logo](https://github.com/Columbia-Neuropythonistas/IntroPythonForNeuroscientists2023/assets/65978061/138766b5-ac36-4dc8-b9d4-bf512ecebe78)\n",
    "\n",
    "# **Week 9: Machine learning and navigating codebases**"
   ]
  },
  {
   "cell_type": "code",
   "execution_count": 2,
   "metadata": {
    "id": "LDU3TOHT7fTD"
   },
   "outputs": [],
   "source": [
    "#remember that when we use 'as', we are simply telling Python what term we want to refer to our imported packages by\n",
    "import pandas as pd\n",
    "import numpy as np\n",
    "import matplotlib.pyplot as plt\n",
    "import seaborn as sns\n",
    "\n",
    "%matplotlib inline\n"
   ]
  },
  {
   "cell_type": "markdown",
   "metadata": {
    "id": "uYEyjrMzCVTH"
   },
   "source": [
    "## Problem 1: Finding the dataset\n",
    "\n",
    "We are going to analyse data collected in [High-dimensional geometry of population responses in visual cortex](https://www.nature.com/articles/s41586-019-1346-5).\n",
    "\n",
    "1. Try to find where the data is available (hint: Nature and many other journals have a \"Data availability\" section).\n",
    "2. There are many different files stored in the repository. We want to download the data recorded in mouse \"M170717\" on August 25, 2017. To figure out how the files are stored, consult the instructions on [Github repository](https://github.com/MouseLand/stringer-pachitariu-et-al-2018b). (**Important:** Make sure you download the neural recordings, not the stimulus set!)"
   ]
  },
  {
   "cell_type": "code",
   "execution_count": null,
   "metadata": {},
   "outputs": [],
   "source": [
    "from scipy import io\n",
    "import os\n",
    "import numpy as np\n",
    "from scipy.sparse.linalg import eigsh\n",
    "import matplotlib.pyplot as plt\n",
    "%matplotlib inline\n",
    "import utils\n"
   ]
  },
  {
   "cell_type": "code",
   "execution_count": null,
   "metadata": {},
   "outputs": [],
   "source": [
    "dat = io.loadmat('/media/carsen/DATA2/grive/10krecordings/imgResp/natimg2800_M170717_MP032_2017-08-25.mat')\n"
   ]
  },
  {
   "cell_type": "markdown",
   "metadata": {
    "id": "J71Ue_Gc7fTD"
   },
   "source": [
    "## Getting to know the dataset"
   ]
  },
  {
   "cell_type": "markdown",
   "metadata": {
    "id": "Ry3YM62FE7Yc"
   },
   "source": [
    "I've already prepared a numpy array containing the specific responses. Below we're loading it into the notebook:"
   ]
  },
  {
   "cell_type": "code",
   "execution_count": 3,
   "metadata": {
    "colab": {
     "base_uri": "https://localhost:8080/",
     "height": 324
    },
    "id": "ox26A_mnE6iM",
    "outputId": "3fdf0632-204a-4287-f3d1-67cd95d9cefe"
   },
   "outputs": [],
   "source": [
    "recording = np.load('recording.npy')"
   ]
  },
  {
   "cell_type": "markdown",
   "metadata": {},
   "source": [
    "How is this array structured?"
   ]
  },
  {
   "cell_type": "code",
   "execution_count": 4,
   "metadata": {
    "colab": {
     "base_uri": "https://localhost:8080/"
    },
    "id": "O4o1p5v4Gmoj",
    "outputId": "8ef33315-da08-42e1-e968-51beb156e97c"
   },
   "outputs": [
    {
     "data": {
      "text/plain": [
       "(480, 11523)"
      ]
     },
     "execution_count": 4,
     "metadata": {},
     "output_type": "execute_result"
    }
   ],
   "source": [
    "recording.shape"
   ]
  },
  {
   "cell_type": "code",
   "execution_count": 5,
   "metadata": {},
   "outputs": [
    {
     "data": {
      "text/plain": [
       "array([[ 25.785816  , 134.0296    ,   0.        , ...,   0.        ,\n",
       "          6.0646014 ,   0.        ],\n",
       "       [ 30.915737  ,   0.        ,   0.        , ...,  24.70088   ,\n",
       "          0.        ,   0.        ],\n",
       "       [  0.        ,   0.        ,   0.        , ...,  40.432617  ,\n",
       "          0.        ,   6.338412  ],\n",
       "       ...,\n",
       "       [  0.        ,   1.5951352 ,  13.487567  , ...,   0.        ,\n",
       "          0.22559942,  20.796843  ],\n",
       "       [  0.        ,   0.        ,   0.6634313 , ...,   0.        ,\n",
       "         15.305119  ,   0.        ],\n",
       "       [  0.        ,   0.        ,   0.        , ...,   1.819519  ,\n",
       "          0.        ,   0.        ]], dtype=float32)"
      ]
     },
     "execution_count": 5,
     "metadata": {},
     "output_type": "execute_result"
    }
   ],
   "source": [
    "recording"
   ]
  },
  {
   "cell_type": "code",
   "execution_count": 6,
   "metadata": {},
   "outputs": [
    {
     "data": {
      "text/plain": [
       "array([2.57858162e+01, 3.09157372e+01, 0.00000000e+00, 5.52776070e+01,\n",
       "       0.00000000e+00, 8.79935455e+00, 0.00000000e+00, 1.40749063e+01,\n",
       "       0.00000000e+00, 5.12544403e+01, 0.00000000e+00, 4.06348228e-01,\n",
       "       0.00000000e+00, 0.00000000e+00, 1.68430748e+01, 0.00000000e+00,\n",
       "       0.00000000e+00, 0.00000000e+00, 5.05570364e+00, 0.00000000e+00,\n",
       "       0.00000000e+00, 0.00000000e+00, 0.00000000e+00, 1.16727352e+00,\n",
       "       0.00000000e+00, 1.61684418e+01, 3.78932548e+00, 0.00000000e+00,\n",
       "       0.00000000e+00, 0.00000000e+00, 0.00000000e+00, 7.51619568e+01,\n",
       "       0.00000000e+00, 0.00000000e+00, 0.00000000e+00, 1.28704815e+01,\n",
       "       0.00000000e+00, 0.00000000e+00, 0.00000000e+00, 0.00000000e+00,\n",
       "       0.00000000e+00, 0.00000000e+00, 0.00000000e+00, 0.00000000e+00,\n",
       "       7.17736435e+00, 8.52853203e+00, 0.00000000e+00, 0.00000000e+00,\n",
       "       0.00000000e+00, 0.00000000e+00, 1.97043383e+00, 0.00000000e+00,\n",
       "       0.00000000e+00, 2.73136544e+00, 6.55033398e+00, 5.91433907e+00,\n",
       "       1.21519594e+01, 0.00000000e+00, 0.00000000e+00, 0.00000000e+00,\n",
       "       0.00000000e+00, 8.95387459e+00, 5.24387503e+00, 1.31182022e+01,\n",
       "       7.18226910e+00, 0.00000000e+00, 7.87867785e-01, 8.91354656e+00,\n",
       "       1.65859108e+01, 0.00000000e+00, 0.00000000e+00, 0.00000000e+00,\n",
       "       5.18459511e+00, 4.57211637e+00, 0.00000000e+00, 1.15753508e+01,\n",
       "       0.00000000e+00, 2.87691689e+00, 0.00000000e+00, 0.00000000e+00,\n",
       "       0.00000000e+00, 2.33771753e+00, 0.00000000e+00, 1.32566059e+00,\n",
       "       5.15509129e+00, 1.39681311e+01, 1.44452486e+01, 0.00000000e+00,\n",
       "       3.66974878e+00, 1.36629143e+01, 0.00000000e+00, 1.24888926e+01,\n",
       "       1.95225582e+01, 1.34657371e+00, 5.16505718e+00, 0.00000000e+00,\n",
       "       2.35994244e+00, 0.00000000e+00, 7.96537542e+00, 3.25223446e+00,\n",
       "       9.72716236e+00, 0.00000000e+00, 0.00000000e+00, 7.10387373e+00,\n",
       "       9.39292717e+00, 1.58302708e+01, 5.55242205e+00, 0.00000000e+00,\n",
       "       6.39121151e+00, 0.00000000e+00, 7.32382536e+00, 1.27821894e+01,\n",
       "       4.08761072e+00, 3.65018272e+00, 1.79955978e+01, 0.00000000e+00,\n",
       "       1.81250076e+01, 0.00000000e+00, 1.15619774e+01, 0.00000000e+00,\n",
       "       2.49588251e+00, 1.61451936e+00, 0.00000000e+00, 8.78075218e+00,\n",
       "       0.00000000e+00, 0.00000000e+00, 0.00000000e+00, 3.13766556e+01,\n",
       "       0.00000000e+00, 0.00000000e+00, 1.27344742e+01, 3.74211264e+00,\n",
       "       0.00000000e+00, 5.29093218e+00, 0.00000000e+00, 0.00000000e+00,\n",
       "       0.00000000e+00, 2.39846277e+00, 4.36373711e+00, 3.54463081e+01,\n",
       "       4.32465439e+01, 1.83344440e+01, 0.00000000e+00, 1.52796340e+00,\n",
       "       0.00000000e+00, 0.00000000e+00, 2.90486836e+00, 2.60965252e+00,\n",
       "       0.00000000e+00, 0.00000000e+00, 3.13800001e+00, 1.55973339e+01,\n",
       "       0.00000000e+00, 1.72773218e+00, 4.39697647e+00, 1.23476152e+01,\n",
       "       0.00000000e+00, 6.20958757e+00, 1.36272249e+01, 9.49884224e+00,\n",
       "       0.00000000e+00, 0.00000000e+00, 7.46001863e+00, 0.00000000e+00,\n",
       "       1.13288145e+01, 0.00000000e+00, 3.01549482e+00, 5.11245842e+01,\n",
       "       0.00000000e+00, 0.00000000e+00, 5.61503601e+00, 2.10412941e+01,\n",
       "       7.70854712e+00, 6.67643452e+00, 1.67054825e+01, 1.18526278e+01,\n",
       "       0.00000000e+00, 2.30772519e+00, 1.01152611e+01, 0.00000000e+00,\n",
       "       0.00000000e+00, 0.00000000e+00, 0.00000000e+00, 0.00000000e+00,\n",
       "       1.09904385e+01, 0.00000000e+00, 0.00000000e+00, 0.00000000e+00,\n",
       "       0.00000000e+00, 0.00000000e+00, 1.28535156e+01, 3.09700513e+00,\n",
       "       0.00000000e+00, 1.06387544e+00, 6.71939516e+00, 4.95129704e-01,\n",
       "       0.00000000e+00, 0.00000000e+00, 5.41021204e+00, 5.46091309e+01,\n",
       "       0.00000000e+00, 0.00000000e+00, 0.00000000e+00, 1.04609394e+00,\n",
       "       0.00000000e+00, 5.34571609e+01, 2.13945255e+01, 0.00000000e+00,\n",
       "       0.00000000e+00, 0.00000000e+00, 2.07507553e+01, 0.00000000e+00,\n",
       "       0.00000000e+00, 2.75936627e+00, 4.39399529e+00, 0.00000000e+00,\n",
       "       0.00000000e+00, 0.00000000e+00, 0.00000000e+00, 1.06451645e+01,\n",
       "       0.00000000e+00, 3.38910317e+00, 0.00000000e+00, 5.98316145e+00,\n",
       "       7.13027287e+00, 0.00000000e+00, 0.00000000e+00, 1.08684072e+01,\n",
       "       0.00000000e+00, 1.61320248e+01, 0.00000000e+00, 0.00000000e+00,\n",
       "       1.15155382e+01, 0.00000000e+00, 1.23397084e-02, 3.28349376e+00,\n",
       "       3.68649983e+00, 0.00000000e+00, 1.97628319e+00, 1.19946308e+01,\n",
       "       0.00000000e+00, 0.00000000e+00, 8.20189476e+00, 5.06576002e-01,\n",
       "       0.00000000e+00, 0.00000000e+00, 1.11069145e+01, 0.00000000e+00,\n",
       "       0.00000000e+00, 0.00000000e+00, 0.00000000e+00, 1.45421705e+01,\n",
       "       0.00000000e+00, 0.00000000e+00, 1.78351650e+01, 8.80432224e+00,\n",
       "       1.68541336e+01, 0.00000000e+00, 4.30561829e+00, 9.86331463e+00,\n",
       "       0.00000000e+00, 0.00000000e+00, 3.22853148e-01, 1.89317341e+01,\n",
       "       0.00000000e+00, 2.74109030e+00, 0.00000000e+00, 0.00000000e+00,\n",
       "       1.33780575e+01, 0.00000000e+00, 0.00000000e+00, 2.73329973e+00,\n",
       "       0.00000000e+00, 1.19968395e+01, 1.89450207e+01, 1.51553166e+00,\n",
       "       0.00000000e+00, 0.00000000e+00, 0.00000000e+00, 0.00000000e+00,\n",
       "       0.00000000e+00, 0.00000000e+00, 2.01356792e+00, 1.07742071e+00,\n",
       "       0.00000000e+00, 6.10902452e+00, 0.00000000e+00, 2.00367570e+00,\n",
       "       1.95650845e+01, 0.00000000e+00, 0.00000000e+00, 0.00000000e+00,\n",
       "       1.13471632e+01, 0.00000000e+00, 4.07429981e+00, 0.00000000e+00,\n",
       "       0.00000000e+00, 0.00000000e+00, 9.80934811e+00, 0.00000000e+00,\n",
       "       1.62813206e+01, 0.00000000e+00, 0.00000000e+00, 0.00000000e+00,\n",
       "       5.01163340e+00, 0.00000000e+00, 2.25547147e+00, 1.77900677e+01,\n",
       "       2.17134819e+01, 1.16459808e+01, 0.00000000e+00, 0.00000000e+00,\n",
       "       0.00000000e+00, 0.00000000e+00, 3.52189612e+00, 4.76159210e+01,\n",
       "       0.00000000e+00, 0.00000000e+00, 0.00000000e+00, 0.00000000e+00,\n",
       "       4.93202448e+00, 3.72761101e-01, 1.38005352e+01, 0.00000000e+00,\n",
       "       3.60959129e+01, 2.86080379e+01, 0.00000000e+00, 0.00000000e+00,\n",
       "       1.34468241e+01, 0.00000000e+00, 0.00000000e+00, 2.18882823e+00,\n",
       "       0.00000000e+00, 0.00000000e+00, 1.18628283e+01, 0.00000000e+00,\n",
       "       0.00000000e+00, 1.87329268e+00, 0.00000000e+00, 1.42591429e+00,\n",
       "       9.66253948e+00, 0.00000000e+00, 2.43146563e+00, 2.52589321e+00,\n",
       "       0.00000000e+00, 2.10622263e+00, 0.00000000e+00, 1.12663183e+01,\n",
       "       0.00000000e+00, 9.76605320e+00, 0.00000000e+00, 0.00000000e+00,\n",
       "       0.00000000e+00, 0.00000000e+00, 0.00000000e+00, 0.00000000e+00,\n",
       "       0.00000000e+00, 0.00000000e+00, 4.70133513e-01, 1.71304321e+01,\n",
       "       0.00000000e+00, 0.00000000e+00, 5.94065332e+00, 4.77513409e+00,\n",
       "       0.00000000e+00, 0.00000000e+00, 2.09065304e+01, 9.29682159e+00,\n",
       "       0.00000000e+00, 4.17600155e+00, 0.00000000e+00, 0.00000000e+00,\n",
       "       0.00000000e+00, 0.00000000e+00, 5.48301840e+00, 6.60011673e+00,\n",
       "       1.81060898e+00, 8.20481682e+00, 1.42384958e+01, 4.41585636e+00,\n",
       "       0.00000000e+00, 0.00000000e+00, 0.00000000e+00, 0.00000000e+00,\n",
       "       7.95150185e+00, 1.23396339e+01, 0.00000000e+00, 0.00000000e+00,\n",
       "       3.54355764e+00, 9.33267891e-01, 3.14800377e+01, 0.00000000e+00,\n",
       "       0.00000000e+00, 3.37887383e+00, 2.59214230e+01, 2.44716859e+00,\n",
       "       0.00000000e+00, 2.48594236e+00, 1.17087507e+01, 0.00000000e+00,\n",
       "       1.96951616e+00, 0.00000000e+00, 8.92392921e+00, 1.85000591e+01,\n",
       "       7.77704239e+00, 0.00000000e+00, 8.86075211e+00, 3.98471184e+01,\n",
       "       3.66056938e+01, 1.29193344e+01, 0.00000000e+00, 2.59052334e+01,\n",
       "       0.00000000e+00, 1.01373730e+01, 9.33531940e-01, 2.14941406e+01,\n",
       "       5.35204649e+00, 6.93745136e+00, 0.00000000e+00, 0.00000000e+00,\n",
       "       0.00000000e+00, 0.00000000e+00, 1.14971328e+00, 9.11590099e+00,\n",
       "       1.01628141e+01, 7.85768554e-02, 0.00000000e+00, 4.58573008e+00,\n",
       "       1.91899145e+00, 1.80034523e+01, 0.00000000e+00, 0.00000000e+00,\n",
       "       1.24555731e+01, 0.00000000e+00, 0.00000000e+00, 0.00000000e+00,\n",
       "       0.00000000e+00, 0.00000000e+00, 6.82860553e-01, 0.00000000e+00,\n",
       "       0.00000000e+00, 8.19612026e+00, 0.00000000e+00, 3.28985710e+01,\n",
       "       0.00000000e+00, 0.00000000e+00, 0.00000000e+00, 2.77830815e+00,\n",
       "       0.00000000e+00, 0.00000000e+00, 0.00000000e+00, 3.63846350e+00,\n",
       "       1.59695864e+01, 9.87648010e+00, 4.21490059e+01, 0.00000000e+00,\n",
       "       0.00000000e+00, 3.57297271e-01, 0.00000000e+00, 0.00000000e+00,\n",
       "       0.00000000e+00, 4.27035980e+01, 5.19440269e+00, 0.00000000e+00,\n",
       "       0.00000000e+00, 1.27662668e+01, 1.21190894e+00, 0.00000000e+00,\n",
       "       2.83345556e+00, 0.00000000e+00, 0.00000000e+00, 0.00000000e+00,\n",
       "       0.00000000e+00, 0.00000000e+00, 1.43993330e+01, 1.06642313e+01,\n",
       "       1.59376764e+00, 0.00000000e+00, 0.00000000e+00, 0.00000000e+00],\n",
       "      dtype=float32)"
      ]
     },
     "execution_count": 6,
     "metadata": {},
     "output_type": "execute_result"
    }
   ],
   "source": [
    "recording[:,0]"
   ]
  },
  {
   "cell_type": "code",
   "execution_count": 7,
   "metadata": {},
   "outputs": [
    {
     "data": {
      "text/plain": [
       "(array([362.,  68.,  28.,   4.,   7.,   4.,   3.,   3.,   0.,   1.]),\n",
       " array([ 0.      ,  7.516196, 15.032392, 22.548588, 30.064783, 37.58098 ,\n",
       "        45.097176, 52.61337 , 60.129566, 67.64576 , 75.16196 ],\n",
       "       dtype=float32),\n",
       " <BarContainer object of 10 artists>)"
      ]
     },
     "execution_count": 7,
     "metadata": {},
     "output_type": "execute_result"
    },
    {
     "data": {
      "image/png": "[encoded data removed]",
      "text/plain": [
       "<Figure size 432x288 with 1 Axes>"
      ]
     },
     "metadata": {
      "needs_background": "light"
     },
     "output_type": "display_data"
    }
   ],
   "source": [
    "plt.hist(recording[:,0])"
   ]
  },
  {
   "cell_type": "markdown",
   "metadata": {},
   "source": [
    "It contains the responses of 11,523 neurons to 480 stimuli."
   ]
  },
  {
   "cell_type": "code",
   "execution_count": null,
   "metadata": {},
   "outputs": [],
   "source": [
    "df=pd.DataFrame(recording)\n",
    "df"
   ]
  },
  {
   "cell_type": "markdown",
   "metadata": {},
   "source": [
    "## Problem 2"
   ]
  },
  {
   "cell_type": "markdown",
   "metadata": {},
   "source": [
    "To get some idea of the data, let's plot a histogram of the first neuron's responses across all presented images. At this point, we just quickly want to get an idea for the format of the data. Since it is a numpy array, matplotlib is perfect for this."
   ]
  },
  {
   "cell_type": "code",
   "execution_count": null,
   "metadata": {},
   "outputs": [],
   "source": [
    "sns.histplot(data=df)"
   ]
  },
  {
   "cell_type": "markdown",
   "metadata": {},
   "source": [
    "This data is extremely high-dimensional and so it is difficult to get a good idea of structures within this data simply from examining it. **Machine learning** makes this general problem tractable."
   ]
  },
  {
   "cell_type": "markdown",
   "metadata": {},
   "source": [
    "## Introduction to Machine learning"
   ]
  },
  {
   "cell_type": "markdown",
   "metadata": {},
   "source": [
    "In science, we routinely break a vague question (\"How does the brain represent orientation?\") down into more specific components (\"How do neurons in visual cortex respond to oriented gratings?\") and then settle on a particular methodology to answer the concrete questions (e.g. record calcium traces using 2-photon imaging).\n",
    "\n",
    "Machine learning is no different. In our case, our vague question is \"What is the structure of our data?\". One concrete way of asking this question is to ask about lower-dimensional structures. Our brain does this automatically all the time! In fact, consider oriented gratings:"
   ]
  },
  {
   "attachments": {
    "image.png": {
     "image/png": "[encoded data removed]"
    }
   },
   "cell_type": "markdown",
   "metadata": {},
   "source": [
    "![image.png](attachment:image.png)"
   ]
  },
  {
   "cell_type": "markdown",
   "metadata": {},
   "source": [
    "This is an extremely high-dimensional stimulus with many different pixels (i.e. dimensions). However, we break it down into a few factors of variation, e.g. orientation and frequency. Methods to uncover such underlying factors of variation are called **dimensionality reduction**.\n",
    "\n",
    "We therefore operationalize \"What is the structure of the data?\" by looking at dimensionality reduction. There are many different possible ways of performing dimensionality reduction. One important such method is **Principal Component Analysis (PCA)**.\n",
    "\n",
    "Below is a simple example:"
   ]
  },
  {
   "cell_type": "code",
   "execution_count": 8,
   "metadata": {},
   "outputs": [],
   "source": [
    "x = np.random.multivariate_normal(mean=np.array([0., 0.]), cov=np.array([[1., 0.9], [0.9, 1.]]), size=(100,))"
   ]
  },
  {
   "cell_type": "markdown",
   "metadata": {},
   "source": [
    "This data is two-dimensional:"
   ]
  },
  {
   "cell_type": "code",
   "execution_count": 9,
   "metadata": {},
   "outputs": [
    {
     "data": {
      "text/plain": [
       "(100, 2)"
      ]
     },
     "execution_count": 9,
     "metadata": {},
     "output_type": "execute_result"
    }
   ],
   "source": [
    "x.shape"
   ]
  },
  {
   "cell_type": "markdown",
   "metadata": {},
   "source": [
    "If we look at each dimension, we don't really understand how the different variables are related:"
   ]
  },
  {
   "cell_type": "code",
   "execution_count": 10,
   "metadata": {},
   "outputs": [
    {
     "data": {
      "text/plain": [
       "(array([ 4., 14., 14., 12., 13., 13., 16.,  4.,  6.,  4.]),\n",
       " array([-2.02734632, -1.64204592, -1.25674553, -0.87144514, -0.48614474,\n",
       "        -0.10084435,  0.28445604,  0.66975644,  1.05505683,  1.44035723,\n",
       "         1.82565762]),\n",
       " <BarContainer object of 10 artists>)"
      ]
     },
     "execution_count": 10,
     "metadata": {},
     "output_type": "execute_result"
    },
    {
     "data": {
      "image/png": "[encoded data removed]",
      "text/plain": [
       "<Figure size 432x288 with 1 Axes>"
      ]
     },
     "metadata": {
      "needs_background": "light"
     },
     "output_type": "display_data"
    }
   ],
   "source": [
    "plt.hist(x[:,0])"
   ]
  },
  {
   "cell_type": "code",
   "execution_count": 11,
   "metadata": {},
   "outputs": [
    {
     "data": {
      "text/plain": [
       "(array([ 8.,  7., 12., 10., 12., 22., 11., 10.,  4.,  4.]),\n",
       " array([-1.99032907, -1.62371961, -1.25711015, -0.89050069, -0.52389123,\n",
       "        -0.15728177,  0.20932769,  0.57593715,  0.94254661,  1.30915606,\n",
       "         1.67576552]),\n",
       " <BarContainer object of 10 artists>)"
      ]
     },
     "execution_count": 11,
     "metadata": {},
     "output_type": "execute_result"
    },
    {
     "data": {
      "image/png": "[encoded data removed]",
      "text/plain": [
       "<Figure size 432x288 with 1 Axes>"
      ]
     },
     "metadata": {
      "needs_background": "light"
     },
     "output_type": "display_data"
    }
   ],
   "source": [
    "plt.hist(x[:,1])"
   ]
  },
  {
   "cell_type": "markdown",
   "metadata": {},
   "source": [
    "However, if we plot a scatter plot, we can see some dominant components:"
   ]
  },
  {
   "cell_type": "code",
   "execution_count": 12,
   "metadata": {},
   "outputs": [
    {
     "data": {
      "text/plain": [
       "<matplotlib.collections.PathCollection at 0x7fe965789c70>"
      ]
     },
     "execution_count": 12,
     "metadata": {},
     "output_type": "execute_result"
    },
    {
     "data": {
      "image/png": "[encoded data removed]",
      "text/plain": [
       "<Figure size 432x288 with 1 Axes>"
      ]
     },
     "metadata": {
      "needs_background": "light"
     },
     "output_type": "display_data"
    }
   ],
   "source": [
    "plt.scatter(x[:,0], x[:,1])"
   ]
  },
  {
   "cell_type": "markdown",
   "metadata": {},
   "source": [
    "With two dimensions, we can do this by visual inspection. For higher-dimensional data, we need to use PCA.\n",
    "\n",
    "How can we implement PCA in Python? To find out how a particular method is implemented in Python, we simply google it."
   ]
  },
  {
   "cell_type": "markdown",
   "metadata": {},
   "source": [
    "## Problem 3\n",
    "\n",
    "Compute a PCA that extracts the first ten components from the neural recordings.\n",
    "\n",
    "**Hint 1:** **Copy the code** in the examples and figure out what part of it to modify.\n",
    "\n",
    "**Hint 2:** You often need to make sure that the data is in the format your machine learning algorithm expects. In this case, the different images are the samples and the different neurons the variables. Make sure that your data is formatted correctly!\n",
    "\n",
    "**Hint 3:** The examples don't explain how to extract the components, just how to fit the model. Look through the attributes to identify how you get these components."
   ]
  },
  {
   "cell_type": "code",
   "execution_count": null,
   "metadata": {},
   "outputs": [],
   "source": [
    "# Fit the PCA"
   ]
  },
  {
   "cell_type": "code",
   "execution_count": 13,
   "metadata": {},
   "outputs": [],
   "source": [
    "from sklearn.decomposition import PCA"
   ]
  },
  {
   "cell_type": "code",
   "execution_count": 21,
   "metadata": {},
   "outputs": [],
   "source": [
    "pca=PCA(n_components=10)"
   ]
  },
  {
   "cell_type": "code",
   "execution_count": 25,
   "metadata": {},
   "outputs": [
    {
     "data": {
      "text/plain": [
       "PCA(n_components=10)"
      ]
     },
     "execution_count": 25,
     "metadata": {},
     "output_type": "execute_result"
    }
   ],
   "source": [
    "pca.fit(recording.T)"
   ]
  },
  {
   "cell_type": "code",
   "execution_count": 26,
   "metadata": {},
   "outputs": [],
   "source": [
    "# Extract the PCA"
   ]
  },
  {
   "cell_type": "code",
   "execution_count": 27,
   "metadata": {},
   "outputs": [
    {
     "data": {
      "text/plain": [
       "array([[ 0.03010092,  0.03847995,  0.05845148, ...,  0.02709745,\n",
       "         0.0067198 ,  0.0298311 ],\n",
       "       [ 0.01584026,  0.00680227,  0.0011436 , ..., -0.00566431,\n",
       "         0.00050413,  0.06521223],\n",
       "       [ 0.04802131,  0.05043411,  0.03799374, ...,  0.01056226,\n",
       "        -0.00081038, -0.02343215],\n",
       "       ...,\n",
       "       [-0.03980243,  0.03777552, -0.01117325, ...,  0.00143983,\n",
       "         0.01687907, -0.01703071],\n",
       "       [-0.05636997, -0.07099851,  0.06008575, ..., -0.00995622,\n",
       "        -0.00191429, -0.03548113],\n",
       "       [-0.05213989, -0.00358845, -0.08261205, ..., -0.01821661,\n",
       "        -0.00632164, -0.00716648]], dtype=float32)"
      ]
     },
     "execution_count": 27,
     "metadata": {},
     "output_type": "execute_result"
    }
   ],
   "source": [
    "pca.components_"
   ]
  },
  {
   "cell_type": "code",
   "execution_count": 28,
   "metadata": {},
   "outputs": [
    {
     "data": {
      "text/plain": [
       "(10, 480)"
      ]
     },
     "execution_count": 28,
     "metadata": {},
     "output_type": "execute_result"
    }
   ],
   "source": [
    "pca.components_.shape"
   ]
  },
  {
   "cell_type": "code",
   "execution_count": 34,
   "metadata": {},
   "outputs": [
    {
     "ename": "AttributeError",
     "evalue": "'PCA' object has no attribute 'components'",
     "output_type": "error",
     "traceback": [
      "\u001b[0;31m---------------------------------------------------------------------------\u001b[0m",
      "\u001b[0;31mAttributeError\u001b[0m                            Traceback (most recent call last)",
      "\u001b[0;32m<ipython-input-34-62d84f377ef3>\u001b[0m in \u001b[0;36m<module>\u001b[0;34m\u001b[0m\n\u001b[0;32m----> 1\u001b[0;31m \u001b[0mdf_componets\u001b[0m\u001b[0;34m=\u001b[0m\u001b[0mpd\u001b[0m\u001b[0;34m.\u001b[0m\u001b[0mDataFrame\u001b[0m\u001b[0;34m(\u001b[0m\u001b[0mpca\u001b[0m\u001b[0;34m.\u001b[0m\u001b[0mcomponents\u001b[0m\u001b[0;34m.\u001b[0m\u001b[0mT\u001b[0m\u001b[0;34m)\u001b[0m\u001b[0;34m\u001b[0m\u001b[0;34m\u001b[0m\u001b[0m\n\u001b[0m\u001b[1;32m      2\u001b[0m \u001b[0mdf_components\u001b[0m\u001b[0;34m\u001b[0m\u001b[0;34m\u001b[0m\u001b[0m\n",
      "\u001b[0;31mAttributeError\u001b[0m: 'PCA' object has no attribute 'components'"
     ]
    }
   ],
   "source": [
    "df_componets=pd.DataFrame(pca.components.T)\n",
    "df_components"
   ]
  },
  {
   "cell_type": "markdown",
   "metadata": {},
   "source": [
    "## Plot components"
   ]
  },
  {
   "cell_type": "code",
   "execution_count": null,
   "metadata": {},
   "outputs": [],
   "source": []
  },
  {
   "cell_type": "markdown",
   "metadata": {},
   "source": [
    "Now, let's create some plots of these components! To do so, we want to use seaborn, which uses dataframes. We therefore transform our array of components into a dataframe."
   ]
  },
  {
   "cell_type": "code",
   "execution_count": 35,
   "metadata": {},
   "outputs": [],
   "source": [
    "from sklearn.decomposition import PCA\n",
    "pca = PCA(n_components=20, whiten=True)\n",
    "pca.fit(recording.T)\n",
    "components = pca.components_\n",
    "df_components = pd.DataFrame(components.T)"
   ]
  },
  {
   "cell_type": "code",
   "execution_count": 36,
   "metadata": {},
   "outputs": [
    {
     "data": {
      "text/html": [
       "<div>\n",
       "<style scoped>\n",
       "    .dataframe tbody tr th:only-of-type {\n",
       "        vertical-align: middle;\n",
       "    }\n",
       "\n",
       "    .dataframe tbody tr th {\n",
       "        vertical-align: top;\n",
       "    }\n",
       "\n",
       "    .dataframe thead th {\n",
       "        text-align: right;\n",
       "    }\n",
       "</style>\n",
       "<table border=\"1\" class=\"dataframe\">\n",
       "  <thead>\n",
       "    <tr style=\"text-align: right;\">\n",
       "      <th></th>\n",
       "      <th>0</th>\n",
       "      <th>1</th>\n",
       "      <th>2</th>\n",
       "      <th>3</th>\n",
       "      <th>4</th>\n",
       "      <th>5</th>\n",
       "      <th>6</th>\n",
       "      <th>7</th>\n",
       "      <th>8</th>\n",
       "      <th>9</th>\n",
       "      <th>10</th>\n",
       "      <th>11</th>\n",
       "      <th>12</th>\n",
       "      <th>13</th>\n",
       "      <th>14</th>\n",
       "      <th>15</th>\n",
       "      <th>16</th>\n",
       "      <th>17</th>\n",
       "      <th>18</th>\n",
       "      <th>19</th>\n",
       "    </tr>\n",
       "  </thead>\n",
       "  <tbody>\n",
       "    <tr>\n",
       "      <th>0</th>\n",
       "      <td>0.030101</td>\n",
       "      <td>0.015840</td>\n",
       "      <td>0.048021</td>\n",
       "      <td>-0.024840</td>\n",
       "      <td>-0.080392</td>\n",
       "      <td>0.048466</td>\n",
       "      <td>0.009872</td>\n",
       "      <td>-0.039825</td>\n",
       "      <td>-0.056054</td>\n",
       "      <td>-0.052034</td>\n",
       "      <td>-0.058991</td>\n",
       "      <td>0.015632</td>\n",
       "      <td>0.071136</td>\n",
       "      <td>0.007143</td>\n",
       "      <td>0.015072</td>\n",
       "      <td>0.012284</td>\n",
       "      <td>0.015741</td>\n",
       "      <td>0.043776</td>\n",
       "      <td>0.002635</td>\n",
       "      <td>-0.003464</td>\n",
       "    </tr>\n",
       "    <tr>\n",
       "      <th>1</th>\n",
       "      <td>0.038480</td>\n",
       "      <td>0.006802</td>\n",
       "      <td>0.050434</td>\n",
       "      <td>0.048128</td>\n",
       "      <td>0.001430</td>\n",
       "      <td>0.096595</td>\n",
       "      <td>0.079108</td>\n",
       "      <td>0.037701</td>\n",
       "      <td>-0.071001</td>\n",
       "      <td>-0.004367</td>\n",
       "      <td>0.036928</td>\n",
       "      <td>0.054408</td>\n",
       "      <td>-0.007789</td>\n",
       "      <td>-0.024922</td>\n",
       "      <td>0.026777</td>\n",
       "      <td>-0.034509</td>\n",
       "      <td>-0.038258</td>\n",
       "      <td>0.054188</td>\n",
       "      <td>0.023605</td>\n",
       "      <td>0.025770</td>\n",
       "    </tr>\n",
       "    <tr>\n",
       "      <th>2</th>\n",
       "      <td>0.058451</td>\n",
       "      <td>0.001144</td>\n",
       "      <td>0.037994</td>\n",
       "      <td>-0.060236</td>\n",
       "      <td>0.068520</td>\n",
       "      <td>0.146986</td>\n",
       "      <td>0.084101</td>\n",
       "      <td>-0.010424</td>\n",
       "      <td>0.064338</td>\n",
       "      <td>-0.083038</td>\n",
       "      <td>-0.037634</td>\n",
       "      <td>-0.027688</td>\n",
       "      <td>-0.138488</td>\n",
       "      <td>0.000439</td>\n",
       "      <td>-0.034830</td>\n",
       "      <td>0.036721</td>\n",
       "      <td>-0.071198</td>\n",
       "      <td>0.137862</td>\n",
       "      <td>0.112337</td>\n",
       "      <td>-0.069211</td>\n",
       "    </tr>\n",
       "    <tr>\n",
       "      <th>3</th>\n",
       "      <td>0.045857</td>\n",
       "      <td>0.117573</td>\n",
       "      <td>-0.056693</td>\n",
       "      <td>0.012179</td>\n",
       "      <td>-0.017930</td>\n",
       "      <td>0.020666</td>\n",
       "      <td>0.063069</td>\n",
       "      <td>-0.072994</td>\n",
       "      <td>0.029785</td>\n",
       "      <td>-0.017587</td>\n",
       "      <td>-0.053181</td>\n",
       "      <td>0.020760</td>\n",
       "      <td>0.037443</td>\n",
       "      <td>-0.204918</td>\n",
       "      <td>-0.023471</td>\n",
       "      <td>0.039121</td>\n",
       "      <td>0.068872</td>\n",
       "      <td>0.011568</td>\n",
       "      <td>0.080025</td>\n",
       "      <td>-0.126177</td>\n",
       "    </tr>\n",
       "    <tr>\n",
       "      <th>4</th>\n",
       "      <td>0.059655</td>\n",
       "      <td>-0.052693</td>\n",
       "      <td>-0.067922</td>\n",
       "      <td>-0.004119</td>\n",
       "      <td>-0.046574</td>\n",
       "      <td>0.084172</td>\n",
       "      <td>0.070589</td>\n",
       "      <td>0.082769</td>\n",
       "      <td>0.002498</td>\n",
       "      <td>-0.010021</td>\n",
       "      <td>-0.026119</td>\n",
       "      <td>0.008142</td>\n",
       "      <td>-0.036346</td>\n",
       "      <td>0.080630</td>\n",
       "      <td>-0.073732</td>\n",
       "      <td>0.169808</td>\n",
       "      <td>-0.097330</td>\n",
       "      <td>0.017881</td>\n",
       "      <td>-0.084445</td>\n",
       "      <td>0.004532</td>\n",
       "    </tr>\n",
       "    <tr>\n",
       "      <th>...</th>\n",
       "      <td>...</td>\n",
       "      <td>...</td>\n",
       "      <td>...</td>\n",
       "      <td>...</td>\n",
       "      <td>...</td>\n",
       "      <td>...</td>\n",
       "      <td>...</td>\n",
       "      <td>...</td>\n",
       "      <td>...</td>\n",
       "      <td>...</td>\n",
       "      <td>...</td>\n",
       "      <td>...</td>\n",
       "      <td>...</td>\n",
       "      <td>...</td>\n",
       "      <td>...</td>\n",
       "      <td>...</td>\n",
       "      <td>...</td>\n",
       "      <td>...</td>\n",
       "      <td>...</td>\n",
       "      <td>...</td>\n",
       "    </tr>\n",
       "    <tr>\n",
       "      <th>475</th>\n",
       "      <td>0.018063</td>\n",
       "      <td>0.009878</td>\n",
       "      <td>0.014739</td>\n",
       "      <td>-0.036785</td>\n",
       "      <td>-0.018146</td>\n",
       "      <td>-0.045170</td>\n",
       "      <td>0.025057</td>\n",
       "      <td>0.020141</td>\n",
       "      <td>0.019166</td>\n",
       "      <td>0.022405</td>\n",
       "      <td>0.024839</td>\n",
       "      <td>-0.004448</td>\n",
       "      <td>-0.013789</td>\n",
       "      <td>-0.004564</td>\n",
       "      <td>0.005469</td>\n",
       "      <td>-0.023389</td>\n",
       "      <td>-0.021241</td>\n",
       "      <td>0.021899</td>\n",
       "      <td>0.008626</td>\n",
       "      <td>-0.000080</td>\n",
       "    </tr>\n",
       "    <tr>\n",
       "      <th>476</th>\n",
       "      <td>0.035360</td>\n",
       "      <td>-0.035641</td>\n",
       "      <td>-0.038032</td>\n",
       "      <td>0.000924</td>\n",
       "      <td>0.005202</td>\n",
       "      <td>-0.032945</td>\n",
       "      <td>0.006263</td>\n",
       "      <td>0.011251</td>\n",
       "      <td>-0.030751</td>\n",
       "      <td>-0.013187</td>\n",
       "      <td>-0.038866</td>\n",
       "      <td>-0.024397</td>\n",
       "      <td>0.019914</td>\n",
       "      <td>0.019805</td>\n",
       "      <td>-0.099255</td>\n",
       "      <td>-0.011556</td>\n",
       "      <td>-0.005141</td>\n",
       "      <td>-0.035144</td>\n",
       "      <td>-0.005236</td>\n",
       "      <td>0.027026</td>\n",
       "    </tr>\n",
       "    <tr>\n",
       "      <th>477</th>\n",
       "      <td>0.027097</td>\n",
       "      <td>-0.005664</td>\n",
       "      <td>0.010562</td>\n",
       "      <td>0.024096</td>\n",
       "      <td>0.014612</td>\n",
       "      <td>-0.014499</td>\n",
       "      <td>0.000227</td>\n",
       "      <td>0.001682</td>\n",
       "      <td>-0.009300</td>\n",
       "      <td>-0.018291</td>\n",
       "      <td>-0.007230</td>\n",
       "      <td>-0.006957</td>\n",
       "      <td>0.009480</td>\n",
       "      <td>0.023877</td>\n",
       "      <td>-0.016041</td>\n",
       "      <td>0.019974</td>\n",
       "      <td>-0.020591</td>\n",
       "      <td>-0.018983</td>\n",
       "      <td>0.009398</td>\n",
       "      <td>-0.010255</td>\n",
       "    </tr>\n",
       "    <tr>\n",
       "      <th>478</th>\n",
       "      <td>0.006720</td>\n",
       "      <td>0.000504</td>\n",
       "      <td>-0.000810</td>\n",
       "      <td>-0.008482</td>\n",
       "      <td>0.000406</td>\n",
       "      <td>-0.001620</td>\n",
       "      <td>-0.004694</td>\n",
       "      <td>0.016962</td>\n",
       "      <td>-0.001480</td>\n",
       "      <td>-0.006316</td>\n",
       "      <td>0.005298</td>\n",
       "      <td>0.015827</td>\n",
       "      <td>-0.009677</td>\n",
       "      <td>-0.005965</td>\n",
       "      <td>0.008746</td>\n",
       "      <td>-0.004710</td>\n",
       "      <td>-0.018443</td>\n",
       "      <td>0.027506</td>\n",
       "      <td>0.004971</td>\n",
       "      <td>-0.001162</td>\n",
       "    </tr>\n",
       "    <tr>\n",
       "      <th>479</th>\n",
       "      <td>0.029831</td>\n",
       "      <td>0.065212</td>\n",
       "      <td>-0.023432</td>\n",
       "      <td>0.001565</td>\n",
       "      <td>-0.013241</td>\n",
       "      <td>-0.012259</td>\n",
       "      <td>-0.020555</td>\n",
       "      <td>-0.017035</td>\n",
       "      <td>-0.035703</td>\n",
       "      <td>-0.007498</td>\n",
       "      <td>0.000762</td>\n",
       "      <td>-0.002311</td>\n",
       "      <td>-0.006095</td>\n",
       "      <td>0.072791</td>\n",
       "      <td>-0.013455</td>\n",
       "      <td>-0.004821</td>\n",
       "      <td>-0.009569</td>\n",
       "      <td>-0.011520</td>\n",
       "      <td>-0.007598</td>\n",
       "      <td>0.047018</td>\n",
       "    </tr>\n",
       "  </tbody>\n",
       "</table>\n",
       "<p>480 rows × 20 columns</p>\n",
       "</div>"
      ],
      "text/plain": [
       "           0         1         2         3         4         5         6   \\\n",
       "0    0.030101  0.015840  0.048021 -0.024840 -0.080392  0.048466  0.009872   \n",
       "1    0.038480  0.006802  0.050434  0.048128  0.001430  0.096595  0.079108   \n",
       "2    0.058451  0.001144  0.037994 -0.060236  0.068520  0.146986  0.084101   \n",
       "3    0.045857  0.117573 -0.056693  0.012179 -0.017930  0.020666  0.063069   \n",
       "4    0.059655 -0.052693 -0.067922 -0.004119 -0.046574  0.084172  0.070589   \n",
       "..        ...       ...       ...       ...       ...       ...       ...   \n",
       "475  0.018063  0.009878  0.014739 -0.036785 -0.018146 -0.045170  0.025057   \n",
       "476  0.035360 -0.035641 -0.038032  0.000924  0.005202 -0.032945  0.006263   \n",
       "477  0.027097 -0.005664  0.010562  0.024096  0.014612 -0.014499  0.000227   \n",
       "478  0.006720  0.000504 -0.000810 -0.008482  0.000406 -0.001620 -0.004694   \n",
       "479  0.029831  0.065212 -0.023432  0.001565 -0.013241 -0.012259 -0.020555   \n",
       "\n",
       "           7         8         9         10        11        12        13  \\\n",
       "0   -0.039825 -0.056054 -0.052034 -0.058991  0.015632  0.071136  0.007143   \n",
       "1    0.037701 -0.071001 -0.004367  0.036928  0.054408 -0.007789 -0.024922   \n",
       "2   -0.010424  0.064338 -0.083038 -0.037634 -0.027688 -0.138488  0.000439   \n",
       "3   -0.072994  0.029785 -0.017587 -0.053181  0.020760  0.037443 -0.204918   \n",
       "4    0.082769  0.002498 -0.010021 -0.026119  0.008142 -0.036346  0.080630   \n",
       "..        ...       ...       ...       ...       ...       ...       ...   \n",
       "475  0.020141  0.019166  0.022405  0.024839 -0.004448 -0.013789 -0.004564   \n",
       "476  0.011251 -0.030751 -0.013187 -0.038866 -0.024397  0.019914  0.019805   \n",
       "477  0.001682 -0.009300 -0.018291 -0.007230 -0.006957  0.009480  0.023877   \n",
       "478  0.016962 -0.001480 -0.006316  0.005298  0.015827 -0.009677 -0.005965   \n",
       "479 -0.017035 -0.035703 -0.007498  0.000762 -0.002311 -0.006095  0.072791   \n",
       "\n",
       "           14        15        16        17        18        19  \n",
       "0    0.015072  0.012284  0.015741  0.043776  0.002635 -0.003464  \n",
       "1    0.026777 -0.034509 -0.038258  0.054188  0.023605  0.025770  \n",
       "2   -0.034830  0.036721 -0.071198  0.137862  0.112337 -0.069211  \n",
       "3   -0.023471  0.039121  0.068872  0.011568  0.080025 -0.126177  \n",
       "4   -0.073732  0.169808 -0.097330  0.017881 -0.084445  0.004532  \n",
       "..        ...       ...       ...       ...       ...       ...  \n",
       "475  0.005469 -0.023389 -0.021241  0.021899  0.008626 -0.000080  \n",
       "476 -0.099255 -0.011556 -0.005141 -0.035144 -0.005236  0.027026  \n",
       "477 -0.016041  0.019974 -0.020591 -0.018983  0.009398 -0.010255  \n",
       "478  0.008746 -0.004710 -0.018443  0.027506  0.004971 -0.001162  \n",
       "479 -0.013455 -0.004821 -0.009569 -0.011520 -0.007598  0.047018  \n",
       "\n",
       "[480 rows x 20 columns]"
      ]
     },
     "execution_count": 36,
     "metadata": {},
     "output_type": "execute_result"
    }
   ],
   "source": [
    "df_components"
   ]
  },
  {
   "cell_type": "code",
   "execution_count": 37,
   "metadata": {},
   "outputs": [],
   "source": [
    "df_components = df_components.add_prefix('comp_')"
   ]
  },
  {
   "cell_type": "code",
   "execution_count": 38,
   "metadata": {},
   "outputs": [
    {
     "data": {
      "text/html": [
       "<div>\n",
       "<style scoped>\n",
       "    .dataframe tbody tr th:only-of-type {\n",
       "        vertical-align: middle;\n",
       "    }\n",
       "\n",
       "    .dataframe tbody tr th {\n",
       "        vertical-align: top;\n",
       "    }\n",
       "\n",
       "    .dataframe thead th {\n",
       "        text-align: right;\n",
       "    }\n",
       "</style>\n",
       "<table border=\"1\" class=\"dataframe\">\n",
       "  <thead>\n",
       "    <tr style=\"text-align: right;\">\n",
       "      <th></th>\n",
       "      <th>comp_0</th>\n",
       "      <th>comp_1</th>\n",
       "      <th>comp_2</th>\n",
       "      <th>comp_3</th>\n",
       "      <th>comp_4</th>\n",
       "      <th>comp_5</th>\n",
       "      <th>comp_6</th>\n",
       "      <th>comp_7</th>\n",
       "      <th>comp_8</th>\n",
       "      <th>comp_9</th>\n",
       "      <th>comp_10</th>\n",
       "      <th>comp_11</th>\n",
       "      <th>comp_12</th>\n",
       "      <th>comp_13</th>\n",
       "      <th>comp_14</th>\n",
       "      <th>comp_15</th>\n",
       "      <th>comp_16</th>\n",
       "      <th>comp_17</th>\n",
       "      <th>comp_18</th>\n",
       "      <th>comp_19</th>\n",
       "    </tr>\n",
       "  </thead>\n",
       "  <tbody>\n",
       "    <tr>\n",
       "      <th>0</th>\n",
       "      <td>0.030101</td>\n",
       "      <td>0.015840</td>\n",
       "      <td>0.048021</td>\n",
       "      <td>-0.024840</td>\n",
       "      <td>-0.080392</td>\n",
       "      <td>0.048466</td>\n",
       "      <td>0.009872</td>\n",
       "      <td>-0.039825</td>\n",
       "      <td>-0.056054</td>\n",
       "      <td>-0.052034</td>\n",
       "      <td>-0.058991</td>\n",
       "      <td>0.015632</td>\n",
       "      <td>0.071136</td>\n",
       "      <td>0.007143</td>\n",
       "      <td>0.015072</td>\n",
       "      <td>0.012284</td>\n",
       "      <td>0.015741</td>\n",
       "      <td>0.043776</td>\n",
       "      <td>0.002635</td>\n",
       "      <td>-0.003464</td>\n",
       "    </tr>\n",
       "    <tr>\n",
       "      <th>1</th>\n",
       "      <td>0.038480</td>\n",
       "      <td>0.006802</td>\n",
       "      <td>0.050434</td>\n",
       "      <td>0.048128</td>\n",
       "      <td>0.001430</td>\n",
       "      <td>0.096595</td>\n",
       "      <td>0.079108</td>\n",
       "      <td>0.037701</td>\n",
       "      <td>-0.071001</td>\n",
       "      <td>-0.004367</td>\n",
       "      <td>0.036928</td>\n",
       "      <td>0.054408</td>\n",
       "      <td>-0.007789</td>\n",
       "      <td>-0.024922</td>\n",
       "      <td>0.026777</td>\n",
       "      <td>-0.034509</td>\n",
       "      <td>-0.038258</td>\n",
       "      <td>0.054188</td>\n",
       "      <td>0.023605</td>\n",
       "      <td>0.025770</td>\n",
       "    </tr>\n",
       "    <tr>\n",
       "      <th>2</th>\n",
       "      <td>0.058451</td>\n",
       "      <td>0.001144</td>\n",
       "      <td>0.037994</td>\n",
       "      <td>-0.060236</td>\n",
       "      <td>0.068520</td>\n",
       "      <td>0.146986</td>\n",
       "      <td>0.084101</td>\n",
       "      <td>-0.010424</td>\n",
       "      <td>0.064338</td>\n",
       "      <td>-0.083038</td>\n",
       "      <td>-0.037634</td>\n",
       "      <td>-0.027688</td>\n",
       "      <td>-0.138488</td>\n",
       "      <td>0.000439</td>\n",
       "      <td>-0.034830</td>\n",
       "      <td>0.036721</td>\n",
       "      <td>-0.071198</td>\n",
       "      <td>0.137862</td>\n",
       "      <td>0.112337</td>\n",
       "      <td>-0.069211</td>\n",
       "    </tr>\n",
       "    <tr>\n",
       "      <th>3</th>\n",
       "      <td>0.045857</td>\n",
       "      <td>0.117573</td>\n",
       "      <td>-0.056693</td>\n",
       "      <td>0.012179</td>\n",
       "      <td>-0.017930</td>\n",
       "      <td>0.020666</td>\n",
       "      <td>0.063069</td>\n",
       "      <td>-0.072994</td>\n",
       "      <td>0.029785</td>\n",
       "      <td>-0.017587</td>\n",
       "      <td>-0.053181</td>\n",
       "      <td>0.020760</td>\n",
       "      <td>0.037443</td>\n",
       "      <td>-0.204918</td>\n",
       "      <td>-0.023471</td>\n",
       "      <td>0.039121</td>\n",
       "      <td>0.068872</td>\n",
       "      <td>0.011568</td>\n",
       "      <td>0.080025</td>\n",
       "      <td>-0.126177</td>\n",
       "    </tr>\n",
       "    <tr>\n",
       "      <th>4</th>\n",
       "      <td>0.059655</td>\n",
       "      <td>-0.052693</td>\n",
       "      <td>-0.067922</td>\n",
       "      <td>-0.004119</td>\n",
       "      <td>-0.046574</td>\n",
       "      <td>0.084172</td>\n",
       "      <td>0.070589</td>\n",
       "      <td>0.082769</td>\n",
       "      <td>0.002498</td>\n",
       "      <td>-0.010021</td>\n",
       "      <td>-0.026119</td>\n",
       "      <td>0.008142</td>\n",
       "      <td>-0.036346</td>\n",
       "      <td>0.080630</td>\n",
       "      <td>-0.073732</td>\n",
       "      <td>0.169808</td>\n",
       "      <td>-0.097330</td>\n",
       "      <td>0.017881</td>\n",
       "      <td>-0.084445</td>\n",
       "      <td>0.004532</td>\n",
       "    </tr>\n",
       "    <tr>\n",
       "      <th>...</th>\n",
       "      <td>...</td>\n",
       "      <td>...</td>\n",
       "      <td>...</td>\n",
       "      <td>...</td>\n",
       "      <td>...</td>\n",
       "      <td>...</td>\n",
       "      <td>...</td>\n",
       "      <td>...</td>\n",
       "      <td>...</td>\n",
       "      <td>...</td>\n",
       "      <td>...</td>\n",
       "      <td>...</td>\n",
       "      <td>...</td>\n",
       "      <td>...</td>\n",
       "      <td>...</td>\n",
       "      <td>...</td>\n",
       "      <td>...</td>\n",
       "      <td>...</td>\n",
       "      <td>...</td>\n",
       "      <td>...</td>\n",
       "    </tr>\n",
       "    <tr>\n",
       "      <th>475</th>\n",
       "      <td>0.018063</td>\n",
       "      <td>0.009878</td>\n",
       "      <td>0.014739</td>\n",
       "      <td>-0.036785</td>\n",
       "      <td>-0.018146</td>\n",
       "      <td>-0.045170</td>\n",
       "      <td>0.025057</td>\n",
       "      <td>0.020141</td>\n",
       "      <td>0.019166</td>\n",
       "      <td>0.022405</td>\n",
       "      <td>0.024839</td>\n",
       "      <td>-0.004448</td>\n",
       "      <td>-0.013789</td>\n",
       "      <td>-0.004564</td>\n",
       "      <td>0.005469</td>\n",
       "      <td>-0.023389</td>\n",
       "      <td>-0.021241</td>\n",
       "      <td>0.021899</td>\n",
       "      <td>0.008626</td>\n",
       "      <td>-0.000080</td>\n",
       "    </tr>\n",
       "    <tr>\n",
       "      <th>476</th>\n",
       "      <td>0.035360</td>\n",
       "      <td>-0.035641</td>\n",
       "      <td>-0.038032</td>\n",
       "      <td>0.000924</td>\n",
       "      <td>0.005202</td>\n",
       "      <td>-0.032945</td>\n",
       "      <td>0.006263</td>\n",
       "      <td>0.011251</td>\n",
       "      <td>-0.030751</td>\n",
       "      <td>-0.013187</td>\n",
       "      <td>-0.038866</td>\n",
       "      <td>-0.024397</td>\n",
       "      <td>0.019914</td>\n",
       "      <td>0.019805</td>\n",
       "      <td>-0.099255</td>\n",
       "      <td>-0.011556</td>\n",
       "      <td>-0.005141</td>\n",
       "      <td>-0.035144</td>\n",
       "      <td>-0.005236</td>\n",
       "      <td>0.027026</td>\n",
       "    </tr>\n",
       "    <tr>\n",
       "      <th>477</th>\n",
       "      <td>0.027097</td>\n",
       "      <td>-0.005664</td>\n",
       "      <td>0.010562</td>\n",
       "      <td>0.024096</td>\n",
       "      <td>0.014612</td>\n",
       "      <td>-0.014499</td>\n",
       "      <td>0.000227</td>\n",
       "      <td>0.001682</td>\n",
       "      <td>-0.009300</td>\n",
       "      <td>-0.018291</td>\n",
       "      <td>-0.007230</td>\n",
       "      <td>-0.006957</td>\n",
       "      <td>0.009480</td>\n",
       "      <td>0.023877</td>\n",
       "      <td>-0.016041</td>\n",
       "      <td>0.019974</td>\n",
       "      <td>-0.020591</td>\n",
       "      <td>-0.018983</td>\n",
       "      <td>0.009398</td>\n",
       "      <td>-0.010255</td>\n",
       "    </tr>\n",
       "    <tr>\n",
       "      <th>478</th>\n",
       "      <td>0.006720</td>\n",
       "      <td>0.000504</td>\n",
       "      <td>-0.000810</td>\n",
       "      <td>-0.008482</td>\n",
       "      <td>0.000406</td>\n",
       "      <td>-0.001620</td>\n",
       "      <td>-0.004694</td>\n",
       "      <td>0.016962</td>\n",
       "      <td>-0.001480</td>\n",
       "      <td>-0.006316</td>\n",
       "      <td>0.005298</td>\n",
       "      <td>0.015827</td>\n",
       "      <td>-0.009677</td>\n",
       "      <td>-0.005965</td>\n",
       "      <td>0.008746</td>\n",
       "      <td>-0.004710</td>\n",
       "      <td>-0.018443</td>\n",
       "      <td>0.027506</td>\n",
       "      <td>0.004971</td>\n",
       "      <td>-0.001162</td>\n",
       "    </tr>\n",
       "    <tr>\n",
       "      <th>479</th>\n",
       "      <td>0.029831</td>\n",
       "      <td>0.065212</td>\n",
       "      <td>-0.023432</td>\n",
       "      <td>0.001565</td>\n",
       "      <td>-0.013241</td>\n",
       "      <td>-0.012259</td>\n",
       "      <td>-0.020555</td>\n",
       "      <td>-0.017035</td>\n",
       "      <td>-0.035703</td>\n",
       "      <td>-0.007498</td>\n",
       "      <td>0.000762</td>\n",
       "      <td>-0.002311</td>\n",
       "      <td>-0.006095</td>\n",
       "      <td>0.072791</td>\n",
       "      <td>-0.013455</td>\n",
       "      <td>-0.004821</td>\n",
       "      <td>-0.009569</td>\n",
       "      <td>-0.011520</td>\n",
       "      <td>-0.007598</td>\n",
       "      <td>0.047018</td>\n",
       "    </tr>\n",
       "  </tbody>\n",
       "</table>\n",
       "<p>480 rows × 20 columns</p>\n",
       "</div>"
      ],
      "text/plain": [
       "       comp_0    comp_1    comp_2    comp_3    comp_4    comp_5    comp_6  \\\n",
       "0    0.030101  0.015840  0.048021 -0.024840 -0.080392  0.048466  0.009872   \n",
       "1    0.038480  0.006802  0.050434  0.048128  0.001430  0.096595  0.079108   \n",
       "2    0.058451  0.001144  0.037994 -0.060236  0.068520  0.146986  0.084101   \n",
       "3    0.045857  0.117573 -0.056693  0.012179 -0.017930  0.020666  0.063069   \n",
       "4    0.059655 -0.052693 -0.067922 -0.004119 -0.046574  0.084172  0.070589   \n",
       "..        ...       ...       ...       ...       ...       ...       ...   \n",
       "475  0.018063  0.009878  0.014739 -0.036785 -0.018146 -0.045170  0.025057   \n",
       "476  0.035360 -0.035641 -0.038032  0.000924  0.005202 -0.032945  0.006263   \n",
       "477  0.027097 -0.005664  0.010562  0.024096  0.014612 -0.014499  0.000227   \n",
       "478  0.006720  0.000504 -0.000810 -0.008482  0.000406 -0.001620 -0.004694   \n",
       "479  0.029831  0.065212 -0.023432  0.001565 -0.013241 -0.012259 -0.020555   \n",
       "\n",
       "       comp_7    comp_8    comp_9   comp_10   comp_11   comp_12   comp_13  \\\n",
       "0   -0.039825 -0.056054 -0.052034 -0.058991  0.015632  0.071136  0.007143   \n",
       "1    0.037701 -0.071001 -0.004367  0.036928  0.054408 -0.007789 -0.024922   \n",
       "2   -0.010424  0.064338 -0.083038 -0.037634 -0.027688 -0.138488  0.000439   \n",
       "3   -0.072994  0.029785 -0.017587 -0.053181  0.020760  0.037443 -0.204918   \n",
       "4    0.082769  0.002498 -0.010021 -0.026119  0.008142 -0.036346  0.080630   \n",
       "..        ...       ...       ...       ...       ...       ...       ...   \n",
       "475  0.020141  0.019166  0.022405  0.024839 -0.004448 -0.013789 -0.004564   \n",
       "476  0.011251 -0.030751 -0.013187 -0.038866 -0.024397  0.019914  0.019805   \n",
       "477  0.001682 -0.009300 -0.018291 -0.007230 -0.006957  0.009480  0.023877   \n",
       "478  0.016962 -0.001480 -0.006316  0.005298  0.015827 -0.009677 -0.005965   \n",
       "479 -0.017035 -0.035703 -0.007498  0.000762 -0.002311 -0.006095  0.072791   \n",
       "\n",
       "      comp_14   comp_15   comp_16   comp_17   comp_18   comp_19  \n",
       "0    0.015072  0.012284  0.015741  0.043776  0.002635 -0.003464  \n",
       "1    0.026777 -0.034509 -0.038258  0.054188  0.023605  0.025770  \n",
       "2   -0.034830  0.036721 -0.071198  0.137862  0.112337 -0.069211  \n",
       "3   -0.023471  0.039121  0.068872  0.011568  0.080025 -0.126177  \n",
       "4   -0.073732  0.169808 -0.097330  0.017881 -0.084445  0.004532  \n",
       "..        ...       ...       ...       ...       ...       ...  \n",
       "475  0.005469 -0.023389 -0.021241  0.021899  0.008626 -0.000080  \n",
       "476 -0.099255 -0.011556 -0.005141 -0.035144 -0.005236  0.027026  \n",
       "477 -0.016041  0.019974 -0.020591 -0.018983  0.009398 -0.010255  \n",
       "478  0.008746 -0.004710 -0.018443  0.027506  0.004971 -0.001162  \n",
       "479 -0.013455 -0.004821 -0.009569 -0.011520 -0.007598  0.047018  \n",
       "\n",
       "[480 rows x 20 columns]"
      ]
     },
     "execution_count": 38,
     "metadata": {},
     "output_type": "execute_result"
    }
   ],
   "source": [
    "df_components"
   ]
  },
  {
   "cell_type": "code",
   "execution_count": 39,
   "metadata": {},
   "outputs": [
    {
     "data": {
      "text/plain": [
       "<AxesSubplot:xlabel='comp_0', ylabel='comp_1'>"
      ]
     },
     "execution_count": 39,
     "metadata": {},
     "output_type": "execute_result"
    },
    {
     "data": {
      "image/png": "[encoded data removed]",
      "text/plain": [
       "<Figure size 432x288 with 1 Axes>"
      ]
     },
     "metadata": {
      "needs_background": "light"
     },
     "output_type": "display_data"
    }
   ],
   "source": [
    "sns.scatterplot(data=df_components, x='comp_0', y='comp_1')"
   ]
  },
  {
   "cell_type": "markdown",
   "metadata": {},
   "source": [
    "These are recordings of 5 different images! Let's see if they're represented differently."
   ]
  },
  {
   "cell_type": "code",
   "execution_count": 40,
   "metadata": {},
   "outputs": [],
   "source": [
    "img_index = np.load('img_index.npy')"
   ]
  },
  {
   "cell_type": "code",
   "execution_count": 41,
   "metadata": {},
   "outputs": [
    {
     "data": {
      "text/plain": [
       "array([1, 4, 3, 2, 5, 2, 1, 5, 3, 4, 4, 5, 1, 3, 2, 1, 3, 4, 5, 2, 4, 5,\n",
       "       2, 1, 3, 1, 4, 5, 2, 3, 5, 4, 3, 2, 1, 1, 2, 3, 5, 4, 1, 4, 5, 3,\n",
       "       2, 3, 4, 2, 5, 1, 3, 2, 4, 5, 1, 4, 5, 1, 3, 2, 5, 4, 1, 2, 3, 4,\n",
       "       5, 3, 2, 1, 4, 1, 3, 2, 5, 2, 3, 1, 4, 5, 2, 3, 4, 1, 5, 1, 2, 3,\n",
       "       5, 4, 2, 1, 3, 4, 5, 5, 4, 3, 1, 2, 5, 1, 2, 3, 4, 2, 3, 4, 1, 5,\n",
       "       5, 2, 3, 1, 4, 2, 4, 3, 1, 5, 4, 1, 2, 5, 3, 3, 2, 4, 5, 1, 2, 5,\n",
       "       4, 1, 3, 1, 2, 4, 5, 3, 4, 2, 5, 1, 3, 2, 5, 3, 4, 1, 5, 1, 2, 3,\n",
       "       4, 1, 3, 2, 5, 4, 1, 5, 3, 2, 4, 5, 4, 1, 2, 3, 1, 3, 2, 5, 4, 5,\n",
       "       3, 1, 4, 2, 1, 2, 4, 3, 5, 5, 3, 1, 4, 2, 4, 5, 3, 2, 1, 3, 5, 2,\n",
       "       1, 4, 1, 5, 3, 2, 4, 1, 4, 2, 5, 3, 4, 3, 1, 2, 5, 2, 1, 3, 5, 4,\n",
       "       5, 1, 2, 3, 4, 1, 2, 3, 5, 4, 4, 2, 5, 3, 1, 1, 4, 3, 5, 2, 5, 1,\n",
       "       2, 3, 4, 1, 2, 5, 4, 3, 5, 4, 1, 3, 2, 5, 1, 3, 2, 4, 5, 4, 1, 2,\n",
       "       3, 4, 2, 5, 1, 3, 2, 1, 5, 4, 3, 2, 3, 4, 1, 5, 5, 4, 2, 1, 3, 1,\n",
       "       2, 3, 5, 4, 5, 1, 2, 3, 4, 4, 2, 3, 5, 1, 2, 3, 1, 5, 4, 5, 1, 3,\n",
       "       4, 2, 1, 5, 4, 3, 2, 4, 2, 5, 3, 1, 3, 1, 5, 2, 4, 5, 4, 1, 2, 3,\n",
       "       5, 2, 3, 4, 1, 4, 2, 1, 3, 5, 4, 1, 2, 5, 3, 5, 2, 4, 3, 1, 3, 4,\n",
       "       2, 5, 1, 1, 4, 5, 3, 2, 3, 2, 4, 5, 1, 4, 2, 3, 1, 5, 4, 2, 3, 1,\n",
       "       5, 5, 4, 3, 1, 2, 5, 2, 3, 4, 1, 5, 3, 4, 1, 2, 4, 2, 1, 5, 3, 5,\n",
       "       1, 3, 4, 2, 2, 1, 3, 4, 5, 1, 3, 5, 4, 2, 3, 4, 1, 2, 5, 5, 3, 4,\n",
       "       2, 1, 1, 5, 3, 2, 4, 1, 3, 5, 2, 4, 3, 4, 5, 1, 2, 1, 5, 2, 3, 4,\n",
       "       2, 5, 1, 4, 3, 4, 1, 2, 5, 3, 1, 3, 2, 5, 4, 4, 2, 3, 1, 5, 2, 5,\n",
       "       3, 1, 4, 4, 1, 2, 3, 5, 2, 1, 5, 4, 3, 1, 5, 4, 3, 2], dtype=uint8)"
      ]
     },
     "execution_count": 41,
     "metadata": {},
     "output_type": "execute_result"
    }
   ],
   "source": [
    "img_index"
   ]
  },
  {
   "cell_type": "code",
   "execution_count": 42,
   "metadata": {},
   "outputs": [],
   "source": [
    "df_components['img_index'] = img_index.astype(str)"
   ]
  },
  {
   "cell_type": "code",
   "execution_count": 43,
   "metadata": {},
   "outputs": [
    {
     "data": {
      "text/html": [
       "<div>\n",
       "<style scoped>\n",
       "    .dataframe tbody tr th:only-of-type {\n",
       "        vertical-align: middle;\n",
       "    }\n",
       "\n",
       "    .dataframe tbody tr th {\n",
       "        vertical-align: top;\n",
       "    }\n",
       "\n",
       "    .dataframe thead th {\n",
       "        text-align: right;\n",
       "    }\n",
       "</style>\n",
       "<table border=\"1\" class=\"dataframe\">\n",
       "  <thead>\n",
       "    <tr style=\"text-align: right;\">\n",
       "      <th></th>\n",
       "      <th>comp_0</th>\n",
       "      <th>comp_1</th>\n",
       "      <th>comp_2</th>\n",
       "      <th>comp_3</th>\n",
       "      <th>comp_4</th>\n",
       "      <th>comp_5</th>\n",
       "      <th>comp_6</th>\n",
       "      <th>comp_7</th>\n",
       "      <th>comp_8</th>\n",
       "      <th>comp_9</th>\n",
       "      <th>...</th>\n",
       "      <th>comp_11</th>\n",
       "      <th>comp_12</th>\n",
       "      <th>comp_13</th>\n",
       "      <th>comp_14</th>\n",
       "      <th>comp_15</th>\n",
       "      <th>comp_16</th>\n",
       "      <th>comp_17</th>\n",
       "      <th>comp_18</th>\n",
       "      <th>comp_19</th>\n",
       "      <th>img_index</th>\n",
       "    </tr>\n",
       "  </thead>\n",
       "  <tbody>\n",
       "    <tr>\n",
       "      <th>0</th>\n",
       "      <td>0.030101</td>\n",
       "      <td>0.015840</td>\n",
       "      <td>0.048021</td>\n",
       "      <td>-0.024840</td>\n",
       "      <td>-0.080392</td>\n",
       "      <td>0.048466</td>\n",
       "      <td>0.009872</td>\n",
       "      <td>-0.039825</td>\n",
       "      <td>-0.056054</td>\n",
       "      <td>-0.052034</td>\n",
       "      <td>...</td>\n",
       "      <td>0.015632</td>\n",
       "      <td>0.071136</td>\n",
       "      <td>0.007143</td>\n",
       "      <td>0.015072</td>\n",
       "      <td>0.012284</td>\n",
       "      <td>0.015741</td>\n",
       "      <td>0.043776</td>\n",
       "      <td>0.002635</td>\n",
       "      <td>-0.003464</td>\n",
       "      <td>1</td>\n",
       "    </tr>\n",
       "    <tr>\n",
       "      <th>1</th>\n",
       "      <td>0.038480</td>\n",
       "      <td>0.006802</td>\n",
       "      <td>0.050434</td>\n",
       "      <td>0.048128</td>\n",
       "      <td>0.001430</td>\n",
       "      <td>0.096595</td>\n",
       "      <td>0.079108</td>\n",
       "      <td>0.037701</td>\n",
       "      <td>-0.071001</td>\n",
       "      <td>-0.004367</td>\n",
       "      <td>...</td>\n",
       "      <td>0.054408</td>\n",
       "      <td>-0.007789</td>\n",
       "      <td>-0.024922</td>\n",
       "      <td>0.026777</td>\n",
       "      <td>-0.034509</td>\n",
       "      <td>-0.038258</td>\n",
       "      <td>0.054188</td>\n",
       "      <td>0.023605</td>\n",
       "      <td>0.025770</td>\n",
       "      <td>4</td>\n",
       "    </tr>\n",
       "    <tr>\n",
       "      <th>2</th>\n",
       "      <td>0.058451</td>\n",
       "      <td>0.001144</td>\n",
       "      <td>0.037994</td>\n",
       "      <td>-0.060236</td>\n",
       "      <td>0.068520</td>\n",
       "      <td>0.146986</td>\n",
       "      <td>0.084101</td>\n",
       "      <td>-0.010424</td>\n",
       "      <td>0.064338</td>\n",
       "      <td>-0.083038</td>\n",
       "      <td>...</td>\n",
       "      <td>-0.027688</td>\n",
       "      <td>-0.138488</td>\n",
       "      <td>0.000439</td>\n",
       "      <td>-0.034830</td>\n",
       "      <td>0.036721</td>\n",
       "      <td>-0.071198</td>\n",
       "      <td>0.137862</td>\n",
       "      <td>0.112337</td>\n",
       "      <td>-0.069211</td>\n",
       "      <td>3</td>\n",
       "    </tr>\n",
       "    <tr>\n",
       "      <th>3</th>\n",
       "      <td>0.045857</td>\n",
       "      <td>0.117573</td>\n",
       "      <td>-0.056693</td>\n",
       "      <td>0.012179</td>\n",
       "      <td>-0.017930</td>\n",
       "      <td>0.020666</td>\n",
       "      <td>0.063069</td>\n",
       "      <td>-0.072994</td>\n",
       "      <td>0.029785</td>\n",
       "      <td>-0.017587</td>\n",
       "      <td>...</td>\n",
       "      <td>0.020760</td>\n",
       "      <td>0.037443</td>\n",
       "      <td>-0.204918</td>\n",
       "      <td>-0.023471</td>\n",
       "      <td>0.039121</td>\n",
       "      <td>0.068872</td>\n",
       "      <td>0.011568</td>\n",
       "      <td>0.080025</td>\n",
       "      <td>-0.126177</td>\n",
       "      <td>2</td>\n",
       "    </tr>\n",
       "    <tr>\n",
       "      <th>4</th>\n",
       "      <td>0.059655</td>\n",
       "      <td>-0.052693</td>\n",
       "      <td>-0.067922</td>\n",
       "      <td>-0.004119</td>\n",
       "      <td>-0.046574</td>\n",
       "      <td>0.084172</td>\n",
       "      <td>0.070589</td>\n",
       "      <td>0.082769</td>\n",
       "      <td>0.002498</td>\n",
       "      <td>-0.010021</td>\n",
       "      <td>...</td>\n",
       "      <td>0.008142</td>\n",
       "      <td>-0.036346</td>\n",
       "      <td>0.080630</td>\n",
       "      <td>-0.073732</td>\n",
       "      <td>0.169808</td>\n",
       "      <td>-0.097330</td>\n",
       "      <td>0.017881</td>\n",
       "      <td>-0.084445</td>\n",
       "      <td>0.004532</td>\n",
       "      <td>5</td>\n",
       "    </tr>\n",
       "    <tr>\n",
       "      <th>...</th>\n",
       "      <td>...</td>\n",
       "      <td>...</td>\n",
       "      <td>...</td>\n",
       "      <td>...</td>\n",
       "      <td>...</td>\n",
       "      <td>...</td>\n",
       "      <td>...</td>\n",
       "      <td>...</td>\n",
       "      <td>...</td>\n",
       "      <td>...</td>\n",
       "      <td>...</td>\n",
       "      <td>...</td>\n",
       "      <td>...</td>\n",
       "      <td>...</td>\n",
       "      <td>...</td>\n",
       "      <td>...</td>\n",
       "      <td>...</td>\n",
       "      <td>...</td>\n",
       "      <td>...</td>\n",
       "      <td>...</td>\n",
       "      <td>...</td>\n",
       "    </tr>\n",
       "    <tr>\n",
       "      <th>475</th>\n",
       "      <td>0.018063</td>\n",
       "      <td>0.009878</td>\n",
       "      <td>0.014739</td>\n",
       "      <td>-0.036785</td>\n",
       "      <td>-0.018146</td>\n",
       "      <td>-0.045170</td>\n",
       "      <td>0.025057</td>\n",
       "      <td>0.020141</td>\n",
       "      <td>0.019166</td>\n",
       "      <td>0.022405</td>\n",
       "      <td>...</td>\n",
       "      <td>-0.004448</td>\n",
       "      <td>-0.013789</td>\n",
       "      <td>-0.004564</td>\n",
       "      <td>0.005469</td>\n",
       "      <td>-0.023389</td>\n",
       "      <td>-0.021241</td>\n",
       "      <td>0.021899</td>\n",
       "      <td>0.008626</td>\n",
       "      <td>-0.000080</td>\n",
       "      <td>1</td>\n",
       "    </tr>\n",
       "    <tr>\n",
       "      <th>476</th>\n",
       "      <td>0.035360</td>\n",
       "      <td>-0.035641</td>\n",
       "      <td>-0.038032</td>\n",
       "      <td>0.000924</td>\n",
       "      <td>0.005202</td>\n",
       "      <td>-0.032945</td>\n",
       "      <td>0.006263</td>\n",
       "      <td>0.011251</td>\n",
       "      <td>-0.030751</td>\n",
       "      <td>-0.013187</td>\n",
       "      <td>...</td>\n",
       "      <td>-0.024397</td>\n",
       "      <td>0.019914</td>\n",
       "      <td>0.019805</td>\n",
       "      <td>-0.099255</td>\n",
       "      <td>-0.011556</td>\n",
       "      <td>-0.005141</td>\n",
       "      <td>-0.035144</td>\n",
       "      <td>-0.005236</td>\n",
       "      <td>0.027026</td>\n",
       "      <td>5</td>\n",
       "    </tr>\n",
       "    <tr>\n",
       "      <th>477</th>\n",
       "      <td>0.027097</td>\n",
       "      <td>-0.005664</td>\n",
       "      <td>0.010562</td>\n",
       "      <td>0.024096</td>\n",
       "      <td>0.014612</td>\n",
       "      <td>-0.014499</td>\n",
       "      <td>0.000227</td>\n",
       "      <td>0.001682</td>\n",
       "      <td>-0.009300</td>\n",
       "      <td>-0.018291</td>\n",
       "      <td>...</td>\n",
       "      <td>-0.006957</td>\n",
       "      <td>0.009480</td>\n",
       "      <td>0.023877</td>\n",
       "      <td>-0.016041</td>\n",
       "      <td>0.019974</td>\n",
       "      <td>-0.020591</td>\n",
       "      <td>-0.018983</td>\n",
       "      <td>0.009398</td>\n",
       "      <td>-0.010255</td>\n",
       "      <td>4</td>\n",
       "    </tr>\n",
       "    <tr>\n",
       "      <th>478</th>\n",
       "      <td>0.006720</td>\n",
       "      <td>0.000504</td>\n",
       "      <td>-0.000810</td>\n",
       "      <td>-0.008482</td>\n",
       "      <td>0.000406</td>\n",
       "      <td>-0.001620</td>\n",
       "      <td>-0.004694</td>\n",
       "      <td>0.016962</td>\n",
       "      <td>-0.001480</td>\n",
       "      <td>-0.006316</td>\n",
       "      <td>...</td>\n",
       "      <td>0.015827</td>\n",
       "      <td>-0.009677</td>\n",
       "      <td>-0.005965</td>\n",
       "      <td>0.008746</td>\n",
       "      <td>-0.004710</td>\n",
       "      <td>-0.018443</td>\n",
       "      <td>0.027506</td>\n",
       "      <td>0.004971</td>\n",
       "      <td>-0.001162</td>\n",
       "      <td>3</td>\n",
       "    </tr>\n",
       "    <tr>\n",
       "      <th>479</th>\n",
       "      <td>0.029831</td>\n",
       "      <td>0.065212</td>\n",
       "      <td>-0.023432</td>\n",
       "      <td>0.001565</td>\n",
       "      <td>-0.013241</td>\n",
       "      <td>-0.012259</td>\n",
       "      <td>-0.020555</td>\n",
       "      <td>-0.017035</td>\n",
       "      <td>-0.035703</td>\n",
       "      <td>-0.007498</td>\n",
       "      <td>...</td>\n",
       "      <td>-0.002311</td>\n",
       "      <td>-0.006095</td>\n",
       "      <td>0.072791</td>\n",
       "      <td>-0.013455</td>\n",
       "      <td>-0.004821</td>\n",
       "      <td>-0.009569</td>\n",
       "      <td>-0.011520</td>\n",
       "      <td>-0.007598</td>\n",
       "      <td>0.047018</td>\n",
       "      <td>2</td>\n",
       "    </tr>\n",
       "  </tbody>\n",
       "</table>\n",
       "<p>480 rows × 21 columns</p>\n",
       "</div>"
      ],
      "text/plain": [
       "       comp_0    comp_1    comp_2    comp_3    comp_4    comp_5    comp_6  \\\n",
       "0    0.030101  0.015840  0.048021 -0.024840 -0.080392  0.048466  0.009872   \n",
       "1    0.038480  0.006802  0.050434  0.048128  0.001430  0.096595  0.079108   \n",
       "2    0.058451  0.001144  0.037994 -0.060236  0.068520  0.146986  0.084101   \n",
       "3    0.045857  0.117573 -0.056693  0.012179 -0.017930  0.020666  0.063069   \n",
       "4    0.059655 -0.052693 -0.067922 -0.004119 -0.046574  0.084172  0.070589   \n",
       "..        ...       ...       ...       ...       ...       ...       ...   \n",
       "475  0.018063  0.009878  0.014739 -0.036785 -0.018146 -0.045170  0.025057   \n",
       "476  0.035360 -0.035641 -0.038032  0.000924  0.005202 -0.032945  0.006263   \n",
       "477  0.027097 -0.005664  0.010562  0.024096  0.014612 -0.014499  0.000227   \n",
       "478  0.006720  0.000504 -0.000810 -0.008482  0.000406 -0.001620 -0.004694   \n",
       "479  0.029831  0.065212 -0.023432  0.001565 -0.013241 -0.012259 -0.020555   \n",
       "\n",
       "       comp_7    comp_8    comp_9  ...   comp_11   comp_12   comp_13  \\\n",
       "0   -0.039825 -0.056054 -0.052034  ...  0.015632  0.071136  0.007143   \n",
       "1    0.037701 -0.071001 -0.004367  ...  0.054408 -0.007789 -0.024922   \n",
       "2   -0.010424  0.064338 -0.083038  ... -0.027688 -0.138488  0.000439   \n",
       "3   -0.072994  0.029785 -0.017587  ...  0.020760  0.037443 -0.204918   \n",
       "4    0.082769  0.002498 -0.010021  ...  0.008142 -0.036346  0.080630   \n",
       "..        ...       ...       ...  ...       ...       ...       ...   \n",
       "475  0.020141  0.019166  0.022405  ... -0.004448 -0.013789 -0.004564   \n",
       "476  0.011251 -0.030751 -0.013187  ... -0.024397  0.019914  0.019805   \n",
       "477  0.001682 -0.009300 -0.018291  ... -0.006957  0.009480  0.023877   \n",
       "478  0.016962 -0.001480 -0.006316  ...  0.015827 -0.009677 -0.005965   \n",
       "479 -0.017035 -0.035703 -0.007498  ... -0.002311 -0.006095  0.072791   \n",
       "\n",
       "      comp_14   comp_15   comp_16   comp_17   comp_18   comp_19  img_index  \n",
       "0    0.015072  0.012284  0.015741  0.043776  0.002635 -0.003464          1  \n",
       "1    0.026777 -0.034509 -0.038258  0.054188  0.023605  0.025770          4  \n",
       "2   -0.034830  0.036721 -0.071198  0.137862  0.112337 -0.069211          3  \n",
       "3   -0.023471  0.039121  0.068872  0.011568  0.080025 -0.126177          2  \n",
       "4   -0.073732  0.169808 -0.097330  0.017881 -0.084445  0.004532          5  \n",
       "..        ...       ...       ...       ...       ...       ...        ...  \n",
       "475  0.005469 -0.023389 -0.021241  0.021899  0.008626 -0.000080          1  \n",
       "476 -0.099255 -0.011556 -0.005141 -0.035144 -0.005236  0.027026          5  \n",
       "477 -0.016041  0.019974 -0.020591 -0.018983  0.009398 -0.010255          4  \n",
       "478  0.008746 -0.004710 -0.018443  0.027506  0.004971 -0.001162          3  \n",
       "479 -0.013455 -0.004821 -0.009569 -0.011520 -0.007598  0.047018          2  \n",
       "\n",
       "[480 rows x 21 columns]"
      ]
     },
     "execution_count": 43,
     "metadata": {},
     "output_type": "execute_result"
    }
   ],
   "source": [
    "df_components"
   ]
  },
  {
   "cell_type": "code",
   "execution_count": 44,
   "metadata": {},
   "outputs": [
    {
     "data": {
      "text/plain": [
       "<AxesSubplot:xlabel='comp_0', ylabel='comp_1'>"
      ]
     },
     "execution_count": 44,
     "metadata": {},
     "output_type": "execute_result"
    },
    {
     "data": {
      "image/png": "[encoded data removed]",
      "text/plain": [
       "<Figure size 432x288 with 1 Axes>"
      ]
     },
     "metadata": {
      "needs_background": "light"
     },
     "output_type": "display_data"
    }
   ],
   "source": [
    "sns.scatterplot(data=df_components, x='comp_0', y='comp_1', hue='img_index')"
   ]
  },
  {
   "cell_type": "code",
   "execution_count": 46,
   "metadata": {},
   "outputs": [
    {
     "data": {
      "text/plain": [
       "<AxesSubplot:xlabel='comp_2', ylabel='comp_3'>"
      ]
     },
     "execution_count": 46,
     "metadata": {},
     "output_type": "execute_result"
    },
    {
     "data": {
      "image/png": "[encoded data removed]",
      "text/plain": [
       "<Figure size 432x288 with 1 Axes>"
      ]
     },
     "metadata": {
      "needs_background": "light"
     },
     "output_type": "display_data"
    }
   ],
   "source": [
    "sns.scatterplot(data=df_components, x='comp_2', y='comp_3', hue='img_index')"
   ]
  },
  {
   "cell_type": "markdown",
   "metadata": {},
   "source": [
    "## Support vector machines\n",
    "\n",
    "How differently do the recordings represent repeated presentations of different images? One way of answering this question is by trying to predict which image each data point is representing."
   ]
  },
  {
   "cell_type": "code",
   "execution_count": 45,
   "metadata": {},
   "outputs": [
    {
     "data": {
      "text/plain": [
       "<AxesSubplot:xlabel='comp_0', ylabel='comp_1'>"
      ]
     },
     "execution_count": 45,
     "metadata": {},
     "output_type": "execute_result"
    },
    {
     "data": {
      "image/png": "[encoded data removed]",
      "text/plain": [
       "<Figure size 432x288 with 1 Axes>"
      ]
     },
     "metadata": {
      "needs_background": "light"
     },
     "output_type": "display_data"
    }
   ],
   "source": [
    "sns.scatterplot(data=df_components[np.isin(df_components['img_index'], ['3', '4'])], x='comp_0', y='comp_1', hue='img_index')"
   ]
  },
  {
   "cell_type": "code",
   "execution_count": null,
   "metadata": {},
   "outputs": [],
   "source": []
  },
  {
   "cell_type": "markdown",
   "metadata": {},
   "source": [
    "One method for doing so is a support vector machine, which tries to draw a line that separates the two classes."
   ]
  },
  {
   "cell_type": "markdown",
   "metadata": {},
   "source": [
    "## Problem 4: Support vector machine\n",
    "\n",
    "Build a support vector machine that tries to predict whether a particular response represents image 1 or 2. Below we're extracting the responses to those two images:"
   ]
  },
  {
   "cell_type": "code",
   "execution_count": 47,
   "metadata": {},
   "outputs": [],
   "source": [
    "components_subset = components[:,np.isin(df_components['img_index'], ['3', '4'])]\n",
    "img_index_subset = df_components['img_index'][np.isin(df_components['img_index'], ['3', '4'])]"
   ]
  },
  {
   "cell_type": "code",
   "execution_count": 48,
   "metadata": {},
   "outputs": [],
   "source": [
    "train_x = components_subset[:,:150]\n",
    "train_y = img_index_subset[:150]\n",
    "test_x = components_subset[:,150:]\n",
    "test_y = img_index_subset[150:]"
   ]
  },
  {
   "cell_type": "markdown",
   "metadata": {},
   "source": [
    "As before, try to find the help page for support vector machines. You should use the class `SVC` and use a linear kernel. Copy the relevant code and try to change the important parts to it. Again, make sure that your data is in the right shape and transpose the arrays if necessary. After fitting, try to compute the accuracy of your model on the test data.\n",
    "\n",
    "**Hint:** The help page uses a pipeline (a concept we haven't gotten to in class). You can copy the entire pipeline."
   ]
  },
  {
   "cell_type": "code",
   "execution_count": null,
   "metadata": {},
   "outputs": [],
   "source": [
    "# Fit th"
   ]
  },
  {
   "cell_type": "code",
   "execution_count": 54,
   "metadata": {},
   "outputs": [],
   "source": [
    "import sklearn\n"
   ]
  },
  {
   "cell_type": "code",
   "execution_count": 55,
   "metadata": {},
   "outputs": [],
   "source": [
    "cft=sklearn.svm.SVC(kernel='linear')\n"
   ]
  },
  {
   "cell_type": "code",
   "execution_count": 58,
   "metadata": {},
   "outputs": [
    {
     "data": {
      "text/plain": [
       "(150,)"
      ]
     },
     "execution_count": 58,
     "metadata": {},
     "output_type": "execute_result"
    }
   ],
   "source": [
    "train_y.shape"
   ]
  },
  {
   "cell_type": "code",
   "execution_count": 60,
   "metadata": {},
   "outputs": [
    {
     "data": {
      "text/plain": [
       "(20, 150)"
      ]
     },
     "execution_count": 60,
     "metadata": {},
     "output_type": "execute_result"
    }
   ],
   "source": [
    "train_x.shape"
   ]
  },
  {
   "cell_type": "code",
   "execution_count": 59,
   "metadata": {},
   "outputs": [
    {
     "data": {
      "text/plain": [
       "SVC(kernel='linear')"
      ]
     },
     "execution_count": 59,
     "metadata": {},
     "output_type": "execute_result"
    }
   ],
   "source": [
    "cft.fit(train_x.T,train_y )"
   ]
  },
  {
   "cell_type": "code",
   "execution_count": null,
   "metadata": {},
   "outputs": [],
   "source": [
    "# Compute its accuracy on the test set"
   ]
  },
  {
   "cell_type": "code",
   "execution_count": 65,
   "metadata": {},
   "outputs": [
    {
     "data": {
      "text/plain": [
       "1.0"
      ]
     },
     "execution_count": 65,
     "metadata": {},
     "output_type": "execute_result"
    }
   ],
   "source": [
    "cft.score(test_x.T, test_y)"
   ]
  },
  {
   "cell_type": "markdown",
   "metadata": {},
   "source": [
    "## Model assumptions\n",
    "\n",
    "Just like with any other scientific method, the assumptions underlying a particular machine learning method may not always be inappropriate (and indeed always have their drawbacks). It is therefore important to be aware of those drawbacks and even try out a few different methods to make sure whether your findings are vulnerable to a particular methodology."
   ]
  }
 ],
 "metadata": {
  "colab": {
   "provenance": []
  },
  "kernelspec": {
   "display_name": "Python 3",
   "language": "python",
   "name": "python3"
  },
  "language_info": {
   "codemirror_mode": {
    "name": "ipython",
    "version": 3
   },
   "file_extension": ".py",
   "mimetype": "text/x-python",
   "name": "python",
   "nbconvert_exporter": "python",
   "pygments_lexer": "ipython3",
   "version": "3.8.5"
  }
 },
 "nbformat": 4,
 "nbformat_minor": 1
}
